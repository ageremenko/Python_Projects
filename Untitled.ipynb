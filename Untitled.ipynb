{
 "cells": [
  {
   "cell_type": "code",
   "execution_count": 9,
   "metadata": {},
   "outputs": [
    {
     "name": "stdout",
     "output_type": "stream",
     "text": [
      "-rw-r--r--    1 0        0        1073741824000 Feb 19  2016 1000GB.zip\n",
      "-rw-r--r--    1 0        0        107374182400 Feb 19  2016 100GB.zip\n",
      "-rw-r--r--    1 0        0          102400 Feb 19  2016 100KB.zip\n",
      "-rw-r--r--    1 0        0        104857600 Feb 19  2016 100MB.zip\n",
      "-rw-r--r--    1 0        0        10737418240 Feb 19  2016 10GB.zip\n",
      "-rw-r--r--    1 0        0        10485760 Feb 19  2016 10MB.zip\n",
      "-rw-r--r--    1 0        0        1073741824 Feb 19  2016 1GB.zip\n",
      "-rw-r--r--    1 0        0            1024 Feb 19  2016 1KB.zip\n",
      "-rw-r--r--    1 0        0         1048576 Feb 19  2016 1MB.zip\n",
      "-rw-r--r--    1 0        0        209715200 Feb 19  2016 200MB.zip\n",
      "-rw-r--r--    1 0        0        20971520 Feb 19  2016 20MB.zip\n",
      "-rw-r--r--    1 0        0         2097152 Feb 19  2016 2MB.zip\n",
      "-rw-r--r--    1 0        0         3145728 Feb 19  2016 3MB.zip\n",
      "-rw-r--r--    1 0        0        524288000 Feb 19  2016 500MB.zip\n",
      "-rw-r--r--    1 0        0        53687091200 Jul 24  2014 50GB.zip\n",
      "-rw-r--r--    1 0        0        52428800 Feb 19  2016 50MB.zip\n",
      "-rw-r--r--    1 0        0          524288 Feb 19  2016 512KB.zip\n",
      "-rw-r--r--    1 0        0         5242880 Feb 19  2016 5MB.zip\n",
      "drwxr-xr-x    2 106      109         81920 Aug 16 11:05 upload\n"
     ]
    },
    {
     "data": {
      "text/plain": [
       "'226 Directory send OK.'"
      ]
     },
     "execution_count": 9,
     "metadata": {},
     "output_type": "execute_result"
    }
   ],
   "source": [
    "from ftplib import FTP\n",
    "\n",
    "ftp = FTP('speedtest.tele2.net')\n",
    "ftp.login()\n",
    "ftp.retrlines('LIST')"
   ]
  },
  {
   "cell_type": "code",
   "execution_count": 10,
   "metadata": {},
   "outputs": [],
   "source": [
    "ftp.close()"
   ]
  },
  {
   "cell_type": "code",
   "execution_count": null,
   "metadata": {},
   "outputs": [],
   "source": []
  }
 ],
 "metadata": {
  "kernelspec": {
   "display_name": "Python 3",
   "language": "python",
   "name": "python3"
  },
  "language_info": {
   "codemirror_mode": {
    "name": "ipython",
    "version": 3
   },
   "file_extension": ".py",
   "mimetype": "text/x-python",
   "name": "python",
   "nbconvert_exporter": "python",
   "pygments_lexer": "ipython3",
   "version": "3.7.6"
  }
 },
 "nbformat": 4,
 "nbformat_minor": 4
}
