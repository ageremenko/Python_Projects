{
 "cells": [
  {
   "cell_type": "markdown",
   "metadata": {
    "colab_type": "text",
    "id": "RbR5OTe50Za4"
   },
   "source": [
    "# Классы\n",
    "## Домашнее задание"
   ]
  },
  {
   "cell_type": "markdown",
   "metadata": {
    "colab_type": "text",
    "id": "Xh_DBCdu0Za5"
   },
   "source": [
    "### Вопросы по лекциям\n",
    "\n",
    "#### 1.\n",
    "\n",
    "Напишите название функции, которая является конструктором класса."
   ]
  },
  {
   "cell_type": "markdown",
   "metadata": {
    "colab_type": "text",
    "id": "8-Tj4AMg0Za6"
   },
   "source": [
    "**Ответ:** __ init__(self)"
   ]
  },
  {
   "cell_type": "markdown",
   "metadata": {
    "colab_type": "text",
    "id": "lf14yx330Za7"
   },
   "source": [
    "#### 2.\n",
    "\n",
    "На что указывает переменная `self`?"
   ]
  },
  {
   "cell_type": "markdown",
   "metadata": {
    "colab_type": "text",
    "id": "wI-0FWlF0Za8"
   },
   "source": [
    "**Ответ:** на сам объект класса"
   ]
  },
  {
   "cell_type": "markdown",
   "metadata": {
    "colab_type": "text",
    "id": "j_8_O_nl0Za8"
   },
   "source": [
    "#### 3.\n",
    "С помощью какой функции можно проверить, что некая строка является именем одного из атрибутов объекта?"
   ]
  },
  {
   "cell_type": "markdown",
   "metadata": {
    "colab_type": "text",
    "id": "5h8ASTrV0Za9"
   },
   "source": [
    "**Ответ:** hasattr(object, attr)"
   ]
  },
  {
   "cell_type": "markdown",
   "metadata": {
    "colab_type": "text",
    "id": "G104VWgj0Za-"
   },
   "source": [
    "#### 4.\n",
    "Когда вызывается метод `__del__`? (относительно события удаления объекта)"
   ]
  },
  {
   "cell_type": "markdown",
   "metadata": {
    "colab_type": "text",
    "id": "Ukzoyxkn0Za-"
   },
   "source": [
    "**Ответ:** непосредственно перед удаление объекта из памяти"
   ]
  },
  {
   "cell_type": "markdown",
   "metadata": {
    "colab_type": "text",
    "id": "MkF-HyBM0ZbA"
   },
   "source": [
    "#### 5.\n",
    "Верно ли, что атрибут класса перекрывает атрибут объекта?"
   ]
  },
  {
   "cell_type": "markdown",
   "metadata": {
    "colab_type": "text",
    "id": "o7B52kVt0ZbC"
   },
   "source": [
    "**Ответ:** Не верно, так как атрибут объекта перекрывает атрибут класса"
   ]
  },
  {
   "cell_type": "markdown",
   "metadata": {
    "colab_type": "text",
    "id": "kSwZWV2B0ZbC"
   },
   "source": [
    "#### 6.\n",
    "Можно ли атрибуты базового класса вызывать в дочернем классе? Если да, то напишите, нет ли исклчений?"
   ]
  },
  {
   "cell_type": "markdown",
   "metadata": {
    "colab_type": "text",
    "id": "6i74Koih0ZbE"
   },
   "source": [
    "**Ответ:** Да, можно. Однако если в дочернем классе этот атрибут переопределён, то будет вызвана версия атрибута именно из дочернего класса"
   ]
  },
  {
   "cell_type": "markdown",
   "metadata": {
    "colab_type": "text",
    "id": "tl1St2O20ZbE"
   },
   "source": [
    "#### 7.\n",
    "Объясните своими словами для чего нужен метод `super`."
   ]
  },
  {
   "cell_type": "markdown",
   "metadata": {
    "colab_type": "text",
    "id": "rg3u1PoY0ZbF"
   },
   "source": [
    "**Ответ:** Нужен для того, чтобы вызвать метод из родительского класса, который в дочернем переопределён"
   ]
  },
  {
   "cell_type": "markdown",
   "metadata": {
    "colab_type": "text",
    "id": "5AiJn8ut0ZbG"
   },
   "source": [
    "### Практика\n",
    "\n",
    "1. Напишите класс `Fraction` для работы с дробями. Пусть дробь в нашем классе предстает в виде `числитель/знаменатель`. Дробное число должно создаваться по запросу `Fraction(a, b)`, где `a` – это числитель, а `b` – знаменатель дроби. \n",
    "2. Добавьте возможность сложения (сложения через оператор сложения) для дроби. Предполагается, что операция сложения может проводиться как только между дробями, так и между дробью и целым числом. Результат операции должен быть представлен в виде дроби.\n",
    "3. Добавьте возможность взятия разности (вычитания через оператор вычитания) для дробей. Предполагается, что операция вычитания может проводиться как только для двух дробей, так и для дроби и целого числа. Результат операции должен быть представлен в виде дроби.\n",
    "4. Добавьте возможность умножения (умножения через оператор умножения) для дробей. Предполагается, что операция умножения может проводиться как только для двух дробей, так и для дроби и целого числа. Результат операции должен быть представлен в виде дроби.\n",
    "5. Добавьте возможность приведения дроби к целому числу через стандартную функцию `int()`.\n",
    "6. Добавьте возможность приведения дроби к числу с плавающей точкой через стандартную функцию `float()`.\n",
    "7. Создайте дочерний класс `OperationsOnFraction` и добавьте туда собственные методы `getint` и `getfloat`, которые будут возвращать целую часть дроби и представление дроби в виде числа с плавающей точкой соответственно. \n",
    " "
   ]
  },
  {
   "cell_type": "code",
   "execution_count": 2,
   "metadata": {
    "colab": {},
    "colab_type": "code",
    "id": "ru3BJ52J0ZbG"
   },
   "outputs": [
    {
     "name": "stdout",
     "output_type": "stream",
     "text": [
      "Создание дроби: 1/2\n",
      "Создание дроби: 5/3\n",
      "1/2 + 5/3 = 13/6\n",
      "Создание дроби: 2/1\n",
      "13/6 + 2/1 = 25/6\n",
      "Создание дроби: 2/1\n",
      "25/6 + 2/1 = 37/6\n",
      "Создание дроби: 5/3\n",
      "37/6 - 5/3 = 27/6\n",
      "Создание дроби: 7/5\n",
      "27/6 * 7/5 = 189/30\n",
      "189 // 30 = 6\n",
      "189 / 30 = 6.3\n",
      "Создание дроби: 3/2\n",
      "3 // 2 = 1\n",
      "3 / 2 = 1.5\n"
     ]
    }
   ],
   "source": [
    "def nod(c, d):\n",
    "    while c != 0 and d != 0:\n",
    "        if c > d:\n",
    "            c = c % d\n",
    "        else:\n",
    "            d = d % c\n",
    "    return c + d\n",
    "\n",
    "\n",
    "def nok(c, d):\n",
    "    return c * d // nod(c, d)\n",
    "\n",
    "\n",
    "class Fraction:\n",
    "\n",
    "    def __init__(self, a, b=1):\n",
    "        self.a = a\n",
    "        self.b = b\n",
    "        print('Создание дроби: ', self.a, '/', self.b, sep='')\n",
    "\n",
    "    def __add__(self, other):\n",
    "        print(self.a, '/', self.b, sep='', end=' + ')\n",
    "        print(other.a, '/', other.b, sep='', end=' = ')\n",
    "\n",
    "        self.a = self.a * (nok(self.b, other.b) // self.b) + other.a * (nok(self.b, other.b) // other.b)\n",
    "        self.b = nok(self.b, other.b)\n",
    "\n",
    "        print(self.a, '/', self.b, sep='')\n",
    "        return self\n",
    "\n",
    "    def __sub__(self, other):\n",
    "        print(self.a, '/', self.b, sep='', end=' - ')\n",
    "        print(other.a, '/', other.b, sep='', end=' = ')\n",
    "\n",
    "        self.a = self.a * (nok(self.b, other.b) // self.b) - other.a * (nok(self.b, other.b) // other.b)\n",
    "        self.b = nok(self.b, other.b)\n",
    "\n",
    "        print(self.a, '/', self.b, sep='')\n",
    "        return self\n",
    "\n",
    "    def __mul__(self, other):\n",
    "        print(self.a, '/', self.b, sep='', end=' * ')\n",
    "        print(other.a, '/', other.b, sep='', end=' = ')\n",
    "\n",
    "        self.a *= other.a\n",
    "        self.b *= other.b\n",
    "\n",
    "        print(self.a, '/', self.b, sep='')\n",
    "        return self\n",
    "\n",
    "    def __int__(self):\n",
    "        print(self.a, '//', self.b, sep=' ', end=' = ')\n",
    "        return self.a // self.b\n",
    "\n",
    "    def __float__(self):\n",
    "        print(self.a, '/', self.b, sep=' ', end=' = ')\n",
    "        return self.a / self.b\n",
    "\n",
    "\n",
    "class OperationsOnFraction(Fraction):\n",
    "    def getint(self):\n",
    "        return int(self)\n",
    "\n",
    "    def getfloat(self):\n",
    "        return float(self)\n",
    "\n",
    "\n",
    "x = Fraction(1, 2)\n",
    "\n",
    "x += Fraction(5, 3)\n",
    "x += Fraction(2, 1)\n",
    "x += Fraction(2)\n",
    "\n",
    "x -= Fraction(5, 3)\n",
    "x *= Fraction(7, 5)\n",
    "\n",
    "print(int(x))\n",
    "print(float(x))\n",
    "\n",
    "y = OperationsOnFraction(3, 2)\n",
    "print(y.getint())\n",
    "print(y.getfloat())\n"
   ]
  },
  {
   "cell_type": "code",
   "execution_count": null,
   "metadata": {},
   "outputs": [],
   "source": []
  }
 ],
 "metadata": {
  "colab": {
   "collapsed_sections": [],
   "name": "jun_anl_class.ipynb",
   "provenance": []
  },
  "kernelspec": {
   "display_name": "Python 3",
   "language": "python",
   "name": "python3"
  },
  "language_info": {
   "codemirror_mode": {
    "name": "ipython",
    "version": 3
   },
   "file_extension": ".py",
   "mimetype": "text/x-python",
   "name": "python",
   "nbconvert_exporter": "python",
   "pygments_lexer": "ipython3",
   "version": "3.7.6"
  }
 },
 "nbformat": 4,
 "nbformat_minor": 1
}
