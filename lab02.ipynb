{
 "cells": [
  {
   "cell_type": "code",
   "execution_count": 1,
   "metadata": {},
   "outputs": [],
   "source": [
    "import requests\n",
    "import json"
   ]
  },
  {
   "cell_type": "code",
   "execution_count": 2,
   "metadata": {},
   "outputs": [],
   "source": [
    "api_key = \"4a7a66ea-7d4e-4001-a68e-367612efecb5\"\n",
    "n = 5\n",
    "min_val = 0\n",
    "max_val = 100\n",
    "url = \"https://api.random.org/json-rpc/2/invoke\"\n",
    "payload = {\n",
    "            \"method\": \"generateIntegers\",\n",
    "            \"params\": [api_key, n, min_val, max_val],\n",
    "            \"jsonrpc\": \"2.0\",\n",
    "            \"id\": 228\n",
    "          }\n",
    "\n",
    "result = requests.post(url, json=payload, headers={'Accept': 'application/json'}).json()\n"
   ]
  },
  {
   "cell_type": "code",
   "execution_count": 9,
   "metadata": {},
   "outputs": [
    {
     "data": {
      "text/plain": [
       "{'jsonrpc': '2.0',\n",
       " 'result': {'random': {'data': [83, 77, 76, 57, 95],\n",
       "   'completionTime': '2021-05-24 10:13:10Z'},\n",
       "  'bitsUsed': 33,\n",
       "  'bitsLeft': 249967,\n",
       "  'requestsLeft': 999,\n",
       "  'advisoryDelay': 1470},\n",
       " 'id': 228}"
      ]
     },
     "execution_count": 9,
     "metadata": {},
     "output_type": "execute_result"
    }
   ],
   "source": [
    "result"
   ]
  },
  {
   "cell_type": "code",
   "execution_count": 3,
   "metadata": {},
   "outputs": [],
   "source": [
    "payload_2 = {\n",
    "            \"method\": \"generateIntegers\",\n",
    "            \"params\": [api_key, n, min_val, max_val, True, 8],\n",
    "            \"jsonrpc\": \"2.0\",\n",
    "            \"id\": 1488\n",
    "          }"
   ]
  },
  {
   "cell_type": "code",
   "execution_count": 4,
   "metadata": {},
   "outputs": [],
   "source": [
    "result_2 = requests.post(url, json=payload_2).json()"
   ]
  },
  {
   "cell_type": "code",
   "execution_count": 5,
   "metadata": {},
   "outputs": [
    {
     "data": {
      "text/plain": [
       "{'jsonrpc': '2.0',\n",
       " 'result': {'random': {'data': ['130', '054', '044', '047', '047'],\n",
       "   'completionTime': '2021-05-23 13:40:47Z'},\n",
       "  'bitsUsed': 33,\n",
       "  'bitsLeft': 249901,\n",
       "  'requestsLeft': 997,\n",
       "  'advisoryDelay': 1470},\n",
       " 'id': 1488}"
      ]
     },
     "execution_count": 5,
     "metadata": {},
     "output_type": "execute_result"
    }
   ],
   "source": [
    "result_2"
   ]
  },
  {
   "cell_type": "code",
   "execution_count": 6,
   "metadata": {},
   "outputs": [],
   "source": [
    "length = 3\n",
    "payload_3 = {\n",
    "            \"method\": \"generateIntegerSequences\",\n",
    "            \"params\": [api_key, n, length, min_val, max_val],\n",
    "            \"jsonrpc\": \"2.0\",\n",
    "            \"id\": 1377\n",
    "          }"
   ]
  },
  {
   "cell_type": "code",
   "execution_count": 7,
   "metadata": {},
   "outputs": [],
   "source": [
    "result_3 = requests.post(url, json=payload_3).json()"
   ]
  },
  {
   "cell_type": "code",
   "execution_count": 8,
   "metadata": {},
   "outputs": [
    {
     "data": {
      "text/plain": [
       "{'jsonrpc': '2.0',\n",
       " 'result': {'random': {'data': [[80, 86, 68],\n",
       "    [22, 60, 8],\n",
       "    [91, 44, 26],\n",
       "    [31, 83, 49],\n",
       "    [42, 83, 34]],\n",
       "   'completionTime': '2021-05-23 13:40:48Z'},\n",
       "  'bitsUsed': 100,\n",
       "  'bitsLeft': 249801,\n",
       "  'requestsLeft': 996,\n",
       "  'advisoryDelay': 1470},\n",
       " 'id': 1377}"
      ]
     },
     "execution_count": 8,
     "metadata": {},
     "output_type": "execute_result"
    }
   ],
   "source": [
    "result_3"
   ]
  },
  {
   "cell_type": "code",
   "execution_count": 17,
   "metadata": {},
   "outputs": [
    {
     "data": {
      "text/plain": [
       "{'jsonrpc': '2.0',\n",
       " 'result': {'random': {'data': [0], 'completionTime': '2021-05-23 14:18:20Z'},\n",
       "  'bitsUsed': 1,\n",
       "  'bitsLeft': 249640,\n",
       "  'requestsLeft': 994,\n",
       "  'advisoryDelay': 1000},\n",
       " 'id': 2}"
      ]
     },
     "execution_count": 17,
     "metadata": {},
     "output_type": "execute_result"
    }
   ],
   "source": [
    "payload_coin = {\n",
    "            \"method\": \"generateIntegers\",\n",
    "            \"params\": [api_key, 1, 0, 1],\n",
    "            \"jsonrpc\": \"2.0\",\n",
    "            \"id\": 2\n",
    "          }\n",
    "result_coin = requests.post(url, json=payload_coin).json()\n",
    "result_coin"
   ]
  },
  {
   "cell_type": "code",
   "execution_count": 23,
   "metadata": {},
   "outputs": [
    {
     "data": {
      "text/plain": [
       "{'jsonrpc': '2.0',\n",
       " 'result': {'random': {'data': [1, 5, 3, 1],\n",
       "   'completionTime': '2021-05-23 15:52:54Z'},\n",
       "  'bitsUsed': 10,\n",
       "  'bitsLeft': 249539,\n",
       "  'requestsLeft': 988,\n",
       "  'advisoryDelay': 1970},\n",
       " 'id': 6}"
      ]
     },
     "execution_count": 23,
     "metadata": {},
     "output_type": "execute_result"
    }
   ],
   "source": [
    "payload_cube = {\n",
    "            \"method\": \"generateIntegers\",\n",
    "            \"params\": [api_key, 4, 1, 6],\n",
    "            \"jsonrpc\": \"2.0\",\n",
    "            \"id\": 6\n",
    "          }\n",
    "result_cube = requests.post(url, json=payload_cube).json()\n",
    "result_cube"
   ]
  },
  {
   "cell_type": "code",
   "execution_count": 11,
   "metadata": {},
   "outputs": [],
   "source": [
    "payload_IP = {\n",
    "            \"method\": \"generateIntegerSequences\",\n",
    "            \"params\": [api_key, 5, 4, 0, 255],\n",
    "            \"jsonrpc\": \"2.0\",\n",
    "            \"id\": 1377\n",
    "          }"
   ]
  },
  {
   "cell_type": "code",
   "execution_count": 12,
   "metadata": {},
   "outputs": [
    {
     "data": {
      "text/plain": [
       "{'jsonrpc': '2.0',\n",
       " 'result': {'random': {'data': [[135, 76, 20, 54],\n",
       "    [18, 149, 168, 156],\n",
       "    [165, 96, 19, 229],\n",
       "    [78, 49, 111, 116],\n",
       "    [64, 161, 206, 118]],\n",
       "   'completionTime': '2021-05-23 13:40:48Z'},\n",
       "  'bitsUsed': 160,\n",
       "  'bitsLeft': 249641,\n",
       "  'requestsLeft': 995,\n",
       "  'advisoryDelay': 1470},\n",
       " 'id': 1377}"
      ]
     },
     "execution_count": 12,
     "metadata": {},
     "output_type": "execute_result"
    }
   ],
   "source": [
    "result_IP = requests.post(url, json=payload_IP).json()\n",
    "result_IP"
   ]
  },
  {
   "cell_type": "code",
   "execution_count": 15,
   "metadata": {},
   "outputs": [
    {
     "data": {
      "text/plain": [
       "{'jsonrpc': '2.0',\n",
       " 'error': {'code': -32601, 'message': 'Method not found', 'data': None},\n",
       " 'id': 404}"
      ]
     },
     "execution_count": 15,
     "metadata": {},
     "output_type": "execute_result"
    }
   ],
   "source": [
    "payload_err_1 = {\n",
    "                    \"method\": \"ErrorMethod\",\n",
    "                    \"params\": [api_key, n, min_val, max_val],\n",
    "                    \"jsonrpc\": \"2.0\",\n",
    "                    \"id\": 404\n",
    "                }\n",
    "result_err_1 = requests.post(url, json=payload_err_1).json()\n",
    "result_err_1"
   ]
  },
  {
   "cell_type": "code",
   "execution_count": 16,
   "metadata": {},
   "outputs": [
    {
     "data": {
      "text/plain": [
       "{'jsonrpc': '2.0',\n",
       " 'error': {'code': -32600, 'message': 'Invalid Request', 'data': None},\n",
       " 'id': 501}"
      ]
     },
     "execution_count": 16,
     "metadata": {},
     "output_type": "execute_result"
    }
   ],
   "source": [
    "payload_err_2 = {\n",
    "                    \"method\": \"generateIntegers\",\n",
    "                    \"params\": [api_key, n, min_val, max_val],\n",
    "                    \"id\": 501\n",
    "                }\n",
    "result_err_2 = requests.post(url, json=payload_err_2).json()\n",
    "result_err_2"
   ]
  },
  {
   "cell_type": "code",
   "execution_count": 24,
   "metadata": {},
   "outputs": [
    {
     "data": {
      "text/plain": [
       "{'jsonrpc': '2.0',\n",
       " 'result': {'random': {'data': [[2, 6, 5, 5],\n",
       "    [3, 6, 5, 2],\n",
       "    [3, 3, 6, 1],\n",
       "    [6, 6, 6, 1]],\n",
       "   'completionTime': '2021-05-23 15:55:22Z'},\n",
       "  'bitsUsed': 40,\n",
       "  'bitsLeft': 249499,\n",
       "  'requestsLeft': 987,\n",
       "  'advisoryDelay': 1990},\n",
       " 'id': 24}"
      ]
     },
     "execution_count": 24,
     "metadata": {},
     "output_type": "execute_result"
    }
   ],
   "source": [
    "payload_cubes = {\n",
    "            \"method\": \"generateIntegerSequences\",\n",
    "            \"params\": [api_key, 4, 4, 1, 6],\n",
    "            \"jsonrpc\": \"2.0\",\n",
    "            \"id\": 24\n",
    "          }\n",
    "result_cubes = requests.post(url, json=payload_cubes).json()\n",
    "result_cubes"
   ]
  },
  {
   "cell_type": "code",
   "execution_count": null,
   "metadata": {},
   "outputs": [],
   "source": []
  }
 ],
 "metadata": {
  "kernelspec": {
   "display_name": "Python 3",
   "language": "python",
   "name": "python3"
  },
  "language_info": {
   "codemirror_mode": {
    "name": "ipython",
    "version": 3
   },
   "file_extension": ".py",
   "mimetype": "text/x-python",
   "name": "python",
   "nbconvert_exporter": "python",
   "pygments_lexer": "ipython3",
   "version": "3.7.6"
  }
 },
 "nbformat": 4,
 "nbformat_minor": 4
}
