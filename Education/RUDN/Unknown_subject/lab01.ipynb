{
 "cells": [
  {
   "cell_type": "code",
   "execution_count": 19,
   "metadata": {},
   "outputs": [
    {
     "name": "stdout",
     "output_type": "stream",
     "text": [
      "{\n",
      "  \"args\": {\n",
      "    \"fname\": \"Artem\", \n",
      "    \"lname\": \"Eremenko\"\n",
      "  }, \n",
      "  \"headers\": {\n",
      "    \"Accept\": \"*/*\", \n",
      "    \"Accept-Encoding\": \"gzip, deflate\", \n",
      "    \"Host\": \"httpbin.org\", \n",
      "    \"User-Agent\": \"python-requests/2.22.0\", \n",
      "    \"X-Amzn-Trace-Id\": \"Root=1-6099505d-5abffe6b3373795230476cc4\"\n",
      "  }, \n",
      "  \"origin\": \"95.30.41.239\", \n",
      "  \"url\": \"https://httpbin.org/get?fname=Artem&lname=Eremenko\"\n",
      "}\n",
      "\n",
      "<Response [200]> OK\n"
     ]
    }
   ],
   "source": [
    "import requests\n",
    "\n",
    "url = 'https://httpbin.org/get'\n",
    "payload = {'fname': 'Artem', 'lname': 'Eremenko'}\n",
    "\n",
    "req_1 = requests.get(url, params=payload)\n",
    "\n",
    "print(req_1.text)\n",
    "\n",
    "print(req_1, req_1.reason)"
   ]
  },
  {
   "cell_type": "code",
   "execution_count": 2,
   "metadata": {},
   "outputs": [
    {
     "name": "stdout",
     "output_type": "stream",
     "text": [
      "{'Date': 'Mon, 10 May 2021 13:58:31 GMT', 'Content-Type': 'application/json', 'Content-Length': '383', 'Connection': 'keep-alive', 'Server': 'gunicorn/19.9.0', 'Access-Control-Allow-Origin': '*', 'Access-Control-Allow-Credentials': 'true'}\n"
     ]
    }
   ],
   "source": [
    "print(req_1.headers)"
   ]
  },
  {
   "cell_type": "code",
   "execution_count": 20,
   "metadata": {},
   "outputs": [
    {
     "name": "stdout",
     "output_type": "stream",
     "text": [
      "{\n",
      "  \"args\": {}, \n",
      "  \"data\": \"\", \n",
      "  \"files\": {}, \n",
      "  \"form\": {\n",
      "    \"fname\": \"Artem\", \n",
      "    \"lname\": \"Eremenko\", \n",
      "    \"stdnum\": \"1032162043\"\n",
      "  }, \n",
      "  \"headers\": {\n",
      "    \"Accept\": \"*/*\", \n",
      "    \"Accept-Encoding\": \"gzip, deflate\", \n",
      "    \"Content-Length\": \"44\", \n",
      "    \"Content-Type\": \"application/x-www-form-urlencoded\", \n",
      "    \"Host\": \"httpbin.org\", \n",
      "    \"User-Agent\": \"python-requests/2.22.0\", \n",
      "    \"X-Amzn-Trace-Id\": \"Root=1-609951ce-2fc2beb70faf23f70c688029\"\n",
      "  }, \n",
      "  \"json\": null, \n",
      "  \"origin\": \"95.30.41.239\", \n",
      "  \"url\": \"https://httpbin.org/post\"\n",
      "}\n",
      "\n"
     ]
    }
   ],
   "source": [
    "url_post = 'https://httpbin.org/post'\n",
    "payload_post = {'fname': 'Artem', 'lname': 'Eremenko', 'stdnum': '1032162043'}\n",
    "req_2 = requests.post(url_post, data=payload_post)\n",
    "print(req_2.text)"
   ]
  },
  {
   "cell_type": "code",
   "execution_count": 4,
   "metadata": {},
   "outputs": [
    {
     "name": "stdout",
     "output_type": "stream",
     "text": [
      "{\n",
      "  \"args\": {}, \n",
      "  \"data\": \"{\\\"fname\\\": \\\"Artem\\\", \\\"lname\\\": \\\"Eremenko\\\", \\\"stdnum\\\": \\\"1032162043\\\"}\", \n",
      "  \"files\": {}, \n",
      "  \"form\": {}, \n",
      "  \"headers\": {\n",
      "    \"Accept\": \"*/*\", \n",
      "    \"Accept-Encoding\": \"gzip, deflate\", \n",
      "    \"Content-Length\": \"63\", \n",
      "    \"Content-Type\": \"application/json\", \n",
      "    \"Host\": \"httpbin.org\", \n",
      "    \"User-Agent\": \"python-requests/2.22.0\", \n",
      "    \"X-Amzn-Trace-Id\": \"Root=1-60993c16-0f16be6b578f77e162e68f6d\"\n",
      "  }, \n",
      "  \"json\": {\n",
      "    \"fname\": \"Artem\", \n",
      "    \"lname\": \"Eremenko\", \n",
      "    \"stdnum\": \"1032162043\"\n",
      "  }, \n",
      "  \"origin\": \"95.30.41.239\", \n",
      "  \"url\": \"https://httpbin.org/post\"\n",
      "}\n",
      "\n"
     ]
    }
   ],
   "source": [
    "import json\n",
    "\n",
    "req_3 = requests.post(url_post, json=payload_post)\n",
    "print(req_3.text)"
   ]
  },
  {
   "cell_type": "code",
   "execution_count": null,
   "metadata": {},
   "outputs": [],
   "source": []
  }
 ],
 "metadata": {
  "kernelspec": {
   "display_name": "Python 3",
   "language": "python",
   "name": "python3"
  },
  "language_info": {
   "codemirror_mode": {
    "name": "ipython",
    "version": 3
   },
   "file_extension": ".py",
   "mimetype": "text/x-python",
   "name": "python",
   "nbconvert_exporter": "python",
   "pygments_lexer": "ipython3",
   "version": "3.7.6"
  }
 },
 "nbformat": 4,
 "nbformat_minor": 4
}
