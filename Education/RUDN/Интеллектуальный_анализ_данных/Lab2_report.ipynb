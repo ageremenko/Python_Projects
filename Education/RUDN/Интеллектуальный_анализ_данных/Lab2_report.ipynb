{
 "cells": [
  {
   "cell_type": "markdown",
   "metadata": {},
   "source": [
    "### РОССИЙСКИЙ УНИВЕРСИТЕТ ДРУЖБЫ НАРОДОВ"
   ]
  },
  {
   "cell_type": "markdown",
   "metadata": {},
   "source": [
    "#### Факультет физико-математических и естественных наук  \n",
    "#### Кафедра информационных технологий "
   ]
  },
  {
   "cell_type": "markdown",
   "metadata": {},
   "source": [
    "## ОТЧЕТ ПО ЛАБОРАТОРНОЙ РАБОТЕ № 2"
   ]
  },
  {
   "cell_type": "markdown",
   "metadata": {},
   "source": [
    "#### Дисциплина: Интеллектуальный анализ данных"
   ]
  },
  {
   "cell_type": "markdown",
   "metadata": {},
   "source": [
    "##### Студент:  Еременко Артем Геннадьевич\n",
    "##### Группа:   НПИбд-01-18"
   ]
  },
  {
   "cell_type": "markdown",
   "metadata": {},
   "source": [
    "## Москва 2021\n",
    "***"
   ]
  },
  {
   "cell_type": "markdown",
   "metadata": {},
   "source": [
    "### Вариант № 22"
   ]
  },
  {
   "cell_type": "markdown",
   "metadata": {},
   "source": [
    "#### 1. Считайте заданный набор данных из репозитария UCI: \n",
    "\n",
    "Spambase Data Set\n",
    "\n",
    "Название файла: spambase.data \n",
    "\n",
    "Ссылка: http://archive.ics.uci.edu/ml/datasets/Spambase"
   ]
  },
  {
   "cell_type": "code",
   "execution_count": 108,
   "metadata": {},
   "outputs": [],
   "source": [
    "import matplotlib.pyplot as plt\n",
    "import pandas as pd\n",
    "from sklearn.feature_selection import SelectKBest,chi2 "
   ]
  },
  {
   "cell_type": "markdown",
   "metadata": {},
   "source": [
    "1. Подключил библиотеку matplotlib.pyplot для визуализации данных\n",
    "2. Подключил библиотеку pandas для анализа данных"
   ]
  },
  {
   "cell_type": "code",
   "execution_count": 110,
   "metadata": {},
   "outputs": [
    {
     "name": "stdout",
     "output_type": "stream",
     "text": [
      "\n",
      "*** Начало данных:\n",
      "      V0    V1    V2   V3    V4    V5    V6    V7    V8    V9  ...   V48  \\\n",
      "0  0.00  0.64  0.64  0.0  0.32  0.00  0.00  0.00  0.00  0.00  ...  0.00   \n",
      "1  0.21  0.28  0.50  0.0  0.14  0.28  0.21  0.07  0.00  0.94  ...  0.00   \n",
      "2  0.06  0.00  0.71  0.0  1.23  0.19  0.19  0.12  0.64  0.25  ...  0.01   \n",
      "3  0.00  0.00  0.00  0.0  0.63  0.00  0.31  0.63  0.31  0.63  ...  0.00   \n",
      "4  0.00  0.00  0.00  0.0  0.63  0.00  0.31  0.63  0.31  0.63  ...  0.00   \n",
      "\n",
      "     V49  V50    V51    V52    V53    V54  V55   V56  V57  \n",
      "0  0.000  0.0  0.778  0.000  0.000  3.756   61   278    1  \n",
      "1  0.132  0.0  0.372  0.180  0.048  5.114  101  1028    1  \n",
      "2  0.143  0.0  0.276  0.184  0.010  9.821  485  2259    1  \n",
      "3  0.137  0.0  0.137  0.000  0.000  3.537   40   191    1  \n",
      "4  0.135  0.0  0.135  0.000  0.000  3.537   40   191    1  \n",
      "\n",
      "[5 rows x 58 columns]\n"
     ]
    }
   ],
   "source": [
    "url = \\\n",
    "\"https://archive.ics.uci.edu/ml/machine-learning-databases/spambase/spambase.data\"\n",
    "\n",
    "# считываем данные в объект DataFrame\n",
    "df = pd.read_csv( url, header=None, prefix=\"V\" )\n",
    "\n",
    "print( \"\\n*** Начало данных:\\n\", df.head() ) # начальные данные"
   ]
  },
  {
   "cell_type": "markdown",
   "metadata": {},
   "source": [
    "#### 2. Проведите исследование набора данных, выявляя числовые признаки. Если какие-то из числовых признаков были неправильно классифицированы, то преобразуйте их в числовые. Если в наборе для числовых признаков присутствуют пропущенные значения ('?'), то заполните их медианными значениями."
   ]
  },
  {
   "cell_type": "code",
   "execution_count": 28,
   "metadata": {},
   "outputs": [
    {
     "name": "stdout",
     "output_type": "stream",
     "text": [
      "\n",
      "*** Сводка данных:\n",
      "                 V0           V1           V2           V3           V4  \\\n",
      "count  4601.000000  4601.000000  4601.000000  4601.000000  4601.000000   \n",
      "mean      0.104553     0.213015     0.280656     0.065425     0.312223   \n",
      "std       0.305358     1.290575     0.504143     1.395151     0.672513   \n",
      "min       0.000000     0.000000     0.000000     0.000000     0.000000   \n",
      "25%       0.000000     0.000000     0.000000     0.000000     0.000000   \n",
      "50%       0.000000     0.000000     0.000000     0.000000     0.000000   \n",
      "75%       0.000000     0.000000     0.420000     0.000000     0.380000   \n",
      "max       4.540000    14.280000     5.100000    42.810000    10.000000   \n",
      "\n",
      "                V5           V6           V7           V8           V9  ...  \\\n",
      "count  4601.000000  4601.000000  4601.000000  4601.000000  4601.000000  ...   \n",
      "mean      0.095901     0.114208     0.105295     0.090067     0.239413  ...   \n",
      "std       0.273824     0.391441     0.401071     0.278616     0.644755  ...   \n",
      "min       0.000000     0.000000     0.000000     0.000000     0.000000  ...   \n",
      "25%       0.000000     0.000000     0.000000     0.000000     0.000000  ...   \n",
      "50%       0.000000     0.000000     0.000000     0.000000     0.000000  ...   \n",
      "75%       0.000000     0.000000     0.000000     0.000000     0.160000  ...   \n",
      "max       5.880000     7.270000    11.110000     5.260000    18.180000  ...   \n",
      "\n",
      "               V48          V49          V50          V51          V52  \\\n",
      "count  4601.000000  4601.000000  4601.000000  4601.000000  4601.000000   \n",
      "mean      0.038575     0.139030     0.016976     0.269071     0.075811   \n",
      "std       0.243471     0.270355     0.109394     0.815672     0.245882   \n",
      "min       0.000000     0.000000     0.000000     0.000000     0.000000   \n",
      "25%       0.000000     0.000000     0.000000     0.000000     0.000000   \n",
      "50%       0.000000     0.065000     0.000000     0.000000     0.000000   \n",
      "75%       0.000000     0.188000     0.000000     0.315000     0.052000   \n",
      "max       4.385000     9.752000     4.081000    32.478000     6.003000   \n",
      "\n",
      "               V53          V54          V55           V56          V57  \n",
      "count  4601.000000  4601.000000  4601.000000   4601.000000  4601.000000  \n",
      "mean      0.044238     5.191515    52.172789    283.289285     0.394045  \n",
      "std       0.429342    31.729449   194.891310    606.347851     0.488698  \n",
      "min       0.000000     1.000000     1.000000      1.000000     0.000000  \n",
      "25%       0.000000     1.588000     6.000000     35.000000     0.000000  \n",
      "50%       0.000000     2.276000    15.000000     95.000000     0.000000  \n",
      "75%       0.000000     3.706000    43.000000    266.000000     1.000000  \n",
      "max      19.829000  1102.500000  9989.000000  15841.000000     1.000000  \n",
      "\n",
      "[8 rows x 58 columns]\n"
     ]
    }
   ],
   "source": [
    "summary = df.describe()                      # сводка данных \n",
    "print( \"\\n*** Сводка данных:\\n\", summary)"
   ]
  },
  {
   "cell_type": "code",
   "execution_count": 118,
   "metadata": {},
   "outputs": [
    {
     "name": "stdout",
     "output_type": "stream",
     "text": [
      "Число записей = 4601\n",
      "Число признаков = 58\n",
      "Число отсутствующих значений:\n",
      "\tword_freq_make: 0\n",
      "\tword_freq_address: 0\n",
      "\tword_freq_all: 0\n",
      "\tword_freq_3d: 0\n",
      "\tword_freq_our: 0\n",
      "\tword_freq_over: 0\n",
      "\tword_freq_remove: 0\n",
      "\tword_freq_internet: 0\n",
      "\tword_freq_order: 0\n",
      "\tword_freq_mail: 0\n",
      "\tword_freq_receive: 0\n",
      "\tword_freq_will: 0\n",
      "\tword_freq_people: 0\n",
      "\tword_freq_report: 0\n",
      "\tword_freq_addresses: 0\n",
      "\tword_freq_free: 0\n",
      "\tword_freq_business: 0\n",
      "\tword_freq_email: 0\n",
      "\tword_freq_you: 0\n",
      "\tword_freq_credit: 0\n",
      "\tword_freq_your: 0\n",
      "\tword_freq_font: 0\n",
      "\tword_freq_000: 0\n",
      "\tword_freq_money: 0\n",
      "\tword_freq_hp: 0\n",
      "\tword_freq_hpl: 0\n",
      "\tword_freq_george: 0\n",
      "\tword_freq_650: 0\n",
      "\tword_freq_lab: 0\n",
      "\tword_freq_labs: 0\n",
      "\tword_freq_telnet: 0\n",
      "\tword_freq_857: 0\n",
      "\tword_freq_data: 0\n",
      "\tword_freq_415: 0\n",
      "\tword_freq_85: 0\n",
      "\tword_freq_technology: 0\n",
      "\tword_freq_1999: 0\n",
      "\tword_freq_parts: 0\n",
      "\tword_freq_pm: 0\n",
      "\tword_freq_direct: 0\n",
      "\tword_freq_cs: 0\n",
      "\tword_freq_meeting: 0\n",
      "\tword_freq_original: 0\n",
      "\tword_freq_project: 0\n",
      "\tword_freq_re: 0\n",
      "\tword_freq_edu: 0\n",
      "\tword_freq_table: 0\n",
      "\tword_freq_conference: 0\n",
      "\tchar_freq_;: 0\n",
      "\tchar_freq_(: 0\n",
      "\tchar_freq_[: 0\n",
      "\tchar_freq_!: 0\n",
      "\tchar_freq_$: 0\n",
      "\tchar_freq_#: 0\n",
      "\tcapital_run_length_average: 0\n",
      "\tcapital_run_length_longest: 0\n",
      "\tcapital_run_length_total: 0\n",
      "\tspam: 0\n"
     ]
    }
   ],
   "source": [
    "df.columns = ['word_freq_make','word_freq_address', 'word_freq_all','word_freq_3d','word_freq_our','word_freq_over',\\\n",
    "                'word_freq_remove','word_freq_internet','word_freq_order','word_freq_mail','word_freq_receive',\\\n",
    "                'word_freq_will','word_freq_people','word_freq_report','word_freq_addresses','word_freq_free',\\\n",
    "                'word_freq_business','word_freq_email','word_freq_you','word_freq_credit','word_freq_your',\\\n",
    "                'word_freq_font','word_freq_000','word_freq_money','word_freq_hp','word_freq_hpl','word_freq_george',\\\n",
    "                'word_freq_650','word_freq_lab','word_freq_labs','word_freq_telnet','word_freq_857','word_freq_data',\\\n",
    "                'word_freq_415','word_freq_85','word_freq_technology','word_freq_1999','word_freq_parts','word_freq_pm',\\\n",
    "                'word_freq_direct','word_freq_cs','word_freq_meeting','word_freq_original','word_freq_project','word_freq_re',\\\n",
    "                'word_freq_edu','word_freq_table','word_freq_conference','char_freq_;','char_freq_(','char_freq_[',\\\n",
    "                'char_freq_!','char_freq_$','char_freq_#','capital_run_length_average','capital_run_length_longest',\\\n",
    "                'capital_run_length_total', 'spam']\n",
    "\n",
    "print('Число записей = %d' % (df.shape[0]))\n",
    "print('Число признаков = %d' % (df.shape[1]))\n",
    "\n",
    "print('Число отсутствующих значений:')\n",
    "for col in df.columns:\n",
    "    print('\\t%s: %d' % (col,df[col].isna().sum()))"
   ]
  },
  {
   "cell_type": "markdown",
   "metadata": {},
   "source": [
    "#### 3. Определите признак, содержащий метку класса. Если признак, содержащий метку класса, принимает более 10 различных значений, то выполните дискретизацию этого признака, перейдя к 3-4 диапазонам значений."
   ]
  },
  {
   "cell_type": "code",
   "execution_count": 105,
   "metadata": {},
   "outputs": [
    {
     "name": "stdout",
     "output_type": "stream",
     "text": [
      "Признак содержащий метку класса: ['spam']\n"
     ]
    }
   ],
   "source": [
    "df_unique = df.nunique()\n",
    "print('Признак содержащий метку класса: '+str(df_unique[df_unique.values == df_unique.min()].index.values))"
   ]
  },
  {
   "cell_type": "markdown",
   "metadata": {},
   "source": [
    "#### 4. Определите числовой признак, имеющий максимальную дисперсию. Исследуйте, принимает ли это признак дискретные или непрерывные значения."
   ]
  },
  {
   "cell_type": "code",
   "execution_count": 107,
   "metadata": {},
   "outputs": [
    {
     "name": "stdout",
     "output_type": "stream",
     "text": [
      "Числовой признак, имеющий максимальную дисперсию: ['capital_run_length_total']\n"
     ]
    }
   ],
   "source": [
    "df_var = np.var(df)\n",
    "print('Числовой признак, имеющий максимальную дисперсию: '+str(df_var[df_var.values == df_var.max()].index.values))"
   ]
  },
  {
   "cell_type": "markdown",
   "metadata": {},
   "source": [
    "#### 5. При помощи класса SelectKBest библиотеки scikit-learn найдите два признака, имеющих наиболее выраженную взаимосвязь с признаком, имеющим максимальную дисперсию."
   ]
  },
  {
   "cell_type": "code",
   "execution_count": 140,
   "metadata": {},
   "outputs": [
    {
     "name": "stdout",
     "output_type": "stream",
     "text": [
      "\n",
      "Оценки признаков:\n",
      " [6.53443508e+01 3.28554145e+01 1.61647733e+02 4.50451577e+02\n",
      " 3.89976584e+02 1.94587058e+02 6.80736206e+02 3.00560780e+02\n",
      " 2.12567537e+02 1.54238427e+02 1.71798535e+02 3.77809481e-01\n",
      " 7.84181093e+01 3.17635245e+01 2.40384773e+02 8.73343010e+02\n",
      " 4.40695718e+02 2.92901365e+02 6.53322604e+02 5.02988870e+02\n",
      " 1.20303186e+03 3.36968991e+02 6.22378273e+02 4.46515782e+02\n",
      " 1.54116933e+03 7.40079899e+02 2.28648827e+03 2.69515965e+02\n",
      " 2.91873529e+02 2.73052687e+02 1.86190674e+02 1.37682170e+02\n",
      " 2.10295620e+02 1.32691105e+02 2.75296193e+02 1.41771613e+02\n",
      " 1.90921873e+02 1.63402178e+01 1.66768675e+02 3.64796362e+01\n",
      " 1.30319301e+02 3.81466659e+02 9.19954394e+01 2.01061889e+02\n",
      " 3.08139862e+02 4.53511169e+02 9.81198456e+00 8.31909993e+01\n",
      " 2.51348424e+01 1.94460553e+01 1.35783772e+01 6.65505816e+02\n",
      " 3.84215800e+02 8.11493725e+01 1.07936261e+04 1.56384957e+05\n",
      " 3.70631554e+05 2.78800000e+03]\n",
      "\n",
      "Отобранные признаки:\n",
      "    capital_run_length_average  capital_run_length_longest  \\\n",
      "0                       3.756                          61   \n",
      "1                       5.114                         101   \n",
      "2                       9.821                         485   \n",
      "3                       3.537                          40   \n",
      "4                       3.537                          40   \n",
      "\n",
      "   capital_run_length_total  \n",
      "0                       278  \n",
      "1                      1028  \n",
      "2                      2259  \n",
      "3                       191  \n",
      "4                       191  \n"
     ]
    }
   ],
   "source": [
    "array = df.values\n",
    "X = array[:,0:58] # входные переменные\n",
    "Y = array[:,57]   # выходная переменная - качество\n",
    "\n",
    "# отбор признаков\n",
    "test = SelectKBest(score_func=chi2, k=3)\n",
    "fit = test.fit(X, Y)\n",
    "\n",
    "# оценки признаков\n",
    "print(\"\\nОценки признаков:\\n\",fit.scores_)\n",
    "\n",
    "cols = test.get_support(indices=True)\n",
    "df_new = df.iloc[:,cols]\n",
    "print(\"\\nОтобранные признаки:\\n\",df_new.head())"
   ]
  },
  {
   "cell_type": "markdown",
   "metadata": {},
   "source": [
    "### 6. Визуализируйте набор данных в виде точек плоскости с координатами, соответствующими найденным признакам, отображая точки различных классов разными цветами. Подпишите оси и рисунок, создайте легенду набора данных."
   ]
  },
  {
   "cell_type": "code",
   "execution_count": 155,
   "metadata": {},
   "outputs": [
    {
     "name": "stderr",
     "output_type": "stream",
     "text": [
      "No handles with labels found to put in legend.\n"
     ]
    },
    {
     "data": {
      "image/png": "[encoded data removed]",
      "text/plain": [
       "<Figure size 640x480 with 1 Axes>"
      ]
     },
     "metadata": {
      "needs_background": "light"
     },
     "output_type": "display_data"
    }
   ],
   "source": [
    "%matplotlib inline\n",
    "import numpy as np \n",
    "import matplotlib.pyplot as plt \n",
    "\n",
    "plt.figure( figsize=(8, 6), dpi=80 ) # размер 8x6 дюйма, 80 точек на дюйм\n",
    "\n",
    "plt.scatter( df['capital_run_length_average'], df['capital_run_length_longest']) \n",
    "\n",
    "plt.xlabel('capital_run_length_average') \n",
    "plt.ylabel('capital_run_length_longest')\n",
    "plt.title('Два признака, имеющих наиболее выраженную взаимосвязь')\n",
    "plt.legend();"
   ]
  },
  {
   "cell_type": "code",
   "execution_count": null,
   "metadata": {},
   "outputs": [],
   "source": []
  }
 ],
 "metadata": {
  "kernelspec": {
   "display_name": "Python 3",
   "language": "python",
   "name": "python3"
  },
  "language_info": {
   "codemirror_mode": {
    "name": "ipython",
    "version": 3
   },
   "file_extension": ".py",
   "mimetype": "text/x-python",
   "name": "python",
   "nbconvert_exporter": "python",
   "pygments_lexer": "ipython3",
   "version": "3.7.6"
  }
 },
 "nbformat": 4,
 "nbformat_minor": 2
}
