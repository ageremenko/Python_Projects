{
 "cells": [
  {
   "cell_type": "markdown",
   "metadata": {},
   "source": [
    "# Часть 1. Основы языка Python"
   ]
  },
  {
   "cell_type": "markdown",
   "metadata": {},
   "source": [
    "## Использование интерпретатора языка Python"
   ]
  },
  {
   "cell_type": "markdown",
   "metadata": {},
   "source": [
    "Python – это простой в освоении и мощный язык программирования.\n",
    "\n",
    "Python можно использовать в режиме командной строки интерпретатора, когда Python сразу выполняет введенные команды, или в режиме создания и последующего исполнения программных файлов Python.\n",
    "\n",
    "При выполнении лабораторных работ по дисциплине \"Интеллектуальный анализ данных\" должна использоваться компонента Jupiter Notebook дистрибутива Anaconda с сайта https://www.anaconda.com "
   ]
  },
  {
   "cell_type": "markdown",
   "metadata": {},
   "source": [
    "## Структурирование программного кода "
   ]
  },
  {
   "cell_type": "markdown",
   "metadata": {},
   "source": [
    "В Python для структурирования программного кода вместо скобок используются отступы (пробелы в начале строки). Передние отступы в начале логической строки используются для определения уровня отступа логической строки, который, в свою очередь, используется для группировки предложений. Это означает, что предложения, идущие вместе, должны иметь одинаковый отступ. Каждый такой набор предложений называется блоком. \n",
    "\n",
    "Для создания отступов могут использоваться пробелы (рекомендуются 4 пробела) или табуляции. Рекомендуется выбрать способ создания отступов и последовательно его придерживаться.\n",
    "\n",
    "Конструкции Python могут находиться в одной строке и разделяться точкой с запятой, но этот стиль написания программ не рекомендуется: "
   ]
  },
  {
   "cell_type": "code",
   "execution_count": null,
   "metadata": {},
   "outputs": [],
   "source": [
    "a = 1; y = 2; z = 3 # несколько команд в одной строке"
   ]
  },
  {
   "cell_type": "markdown",
   "metadata": {},
   "source": [
    "В качестве комментария используется знак решетки #. Текст, который следует за знаком #, игнорируется интерпретатором Python."
   ]
  },
  {
   "cell_type": "markdown",
   "metadata": {},
   "source": [
    "## Объекты"
   ]
  },
  {
   "cell_type": "markdown",
   "metadata": {},
   "source": [
    "В языке Python последовательно применяется объектная модель, а именно, все числа, строки, структуры данных, функции, классы, модули и т. д. являются объектами Python. С каждым объектом ассоциированы тип, значение и счетчик ссылок, используемый, в частности, при управлении памятью. \n",
    "\n",
    "Объекты обычно имеют атрибуты (другие объекты, хранящиеся «внутри» данного объекта) и методы (ассоциированные с объектом функции, имеющие доступ к внутреннему состоянию объекта). Обращение к атрибутам и методам объекта __object_name__ синтаксически выглядит как `object_name.attribute_name` и `object_name.method_name(x,y,z)` соответственно."
   ]
  },
  {
   "cell_type": "markdown",
   "metadata": {},
   "source": [
    "# Имена"
   ]
  },
  {
   "cell_type": "markdown",
   "metadata": {},
   "source": [
    "При выборе имён для переменных необходимо соблюдать следующие правила: \n",
    "\n",
    "• Первым символом может быть буква или символ подчёркивания (“_”). \n",
    "\n",
    "• Остальная часть имени переменной может состоять из букв, знаков подчёркивания (“_”) или цифр (0-9). \n",
    "\n",
    "• Имена переменных чувствительны к регистру. Например, `myname` и `myName` – это не одно и то же. \n",
    "\n",
    "• Примеры допустимых имён переменных: `i`, `_my_name`, `name_23`, `a1b2_c3` и т.п.\n",
    "\n",
    "Для присваивания значения переменной используется конструкция `<имя переменной>=<значение>`, например:\n",
    "\n",
    "`a = 2`"
   ]
  },
  {
   "cell_type": "markdown",
   "metadata": {},
   "source": [
    "## Бинарные операторы и операции сравнения"
   ]
  },
  {
   "cell_type": "markdown",
   "metadata": {},
   "source": [
    "Список всех бинарных операторов приведен в таблице:\n",
    "<table>\n",
    "<tbody>\n",
    "<tr>\n",
    "<td>\n",
    "<div><strong>Операция</strong></div>\n",
    "</td>\n",
    "<td>\n",
    "<div><strong>Описание</strong></div>\n",
    "</td>\n",
    "</tr>\n",
    "<tr>\n",
    "<td>\n",
    "<div>a + b</div>\n",
    "</td>\n",
    "<td>\n",
    "<div>Сложить a и b</div>\n",
    "</td>\n",
    "</tr>\n",
    "<tr>\n",
    "<td>\n",
    "<div>a &ndash; b</div>\n",
    "</td>\n",
    "<td>\n",
    "<div>Вычесть b из a</div>\n",
    "</td>\n",
    "</tr>\n",
    "<tr>\n",
    "<td>\n",
    "<div>a * b</div>\n",
    "</td>\n",
    "<td>\n",
    "<div>Умножить a на b</div>\n",
    "</td>\n",
    "</tr>\n",
    "<tr>\n",
    "<td>\n",
    "<div>a / b</div>\n",
    "</td>\n",
    "<td>\n",
    "<div>Разделить a на b</div>\n",
    "</td>\n",
    "</tr>\n",
    "<tr>\n",
    "<td>\n",
    "<div>a // b</div>\n",
    "</td>\n",
    "<td>\n",
    "<div>Разделить a на b нацело, отбросив дробный остаток</div>\n",
    "</td>\n",
    "</tr>\n",
    "<tr>\n",
    "<td>\n",
    "<div>a ** b</div>\n",
    "</td>\n",
    "<td>\n",
    "<div>Возвести a в степень b</div>\n",
    "</td>\n",
    "</tr>\n",
    "<tr>\n",
    "<td>\n",
    "<div>a &amp; b</div>\n",
    "</td>\n",
    "<td>\n",
    "<div>True, если и a, и b равны True. Для целых чисел вычисляет поразрядное И</div>\n",
    "</td>\n",
    "</tr>\n",
    "<tr>\n",
    "<td>\n",
    "<div>a | b</div>\n",
    "</td>\n",
    "<td>\n",
    "<div>True, либо a, либо b равно True. Для целых чисел вычисляет поразрядное ИЛИ</div>\n",
    "</td>\n",
    "</tr>\n",
    "<tr>\n",
    "<td>\n",
    "<div>a ^ b</div>\n",
    "</td>\n",
    "<td>\n",
    "<div>Для булевых величин True, если либо a, либо b, но не обе одновременно равны True. Для целых чисел вычисляет поразрядное ИСКЛЮЧИТЕЛЬНОЕ ИЛИ</div>\n",
    "</td>\n",
    "</tr>\n",
    "<tr>\n",
    "<td>\n",
    "<div>a == b</div>\n",
    "</td>\n",
    "<td>\n",
    "<div>True, если a равно b</div>\n",
    "</td>\n",
    "</tr>\n",
    "<tr>\n",
    "<td>\n",
    "<div>a != b</div>\n",
    "</td>\n",
    "<td>\n",
    "<div>True, если a не равно b</div>\n",
    "</td>\n",
    "</tr>\n",
    "<tr>\n",
    "<td>\n",
    "<div>a &lt; b, a &lt;= b</div>\n",
    "</td>\n",
    "<td>\n",
    "<div>True, если a меньше (меньше или равно) b</div>\n",
    "</td>\n",
    "</tr>\n",
    "<tr>\n",
    "<td>\n",
    "<div>a &gt; b, a &gt;= b</div>\n",
    "</td>\n",
    "<td>\n",
    "<div>True, если a больше (больше или равно) b</div>\n",
    "</td>\n",
    "</tr>\n",
    "<tr>\n",
    "<td>\n",
    "<div>a is b</div>\n",
    "</td>\n",
    "<td>\n",
    "<div>True, если a и b ссылаются на один и тот же объект Python</div>\n",
    "</td>\n",
    "</tr>\n",
    "<tr>\n",
    "<td>\n",
    "<div>a is not b</div>\n",
    "</td>\n",
    "<td>\n",
    "<div>True, если a и b ссылаются на разные объекты Python</div>\n",
    "</td>\n",
    "</tr>\n",
    "</tbody>\n",
    "</table>"
   ]
  },
  {
   "cell_type": "markdown",
   "metadata": {},
   "source": [
    "Операторы `is` и `is not` очень часто употребляются, чтобы проверить, равна ли некоторая переменная пустому значению `None`, потому что существует ровно один экземпляр пустого значения `None`, например:  \n",
    "`a = None`  \n",
    "`a is None`  "
   ]
  },
  {
   "cell_type": "markdown",
   "metadata": {},
   "source": [
    "## Скалярные типы"
   ]
  },
  {
   "cell_type": "markdown",
   "metadata": {},
   "source": [
    "В Python есть небольшой набор встроенных типов для работы с числовыми данными, строками, логическими (булевыми) значениями (`True` и `False`), датами и временем.\n",
    "\n",
    "Стандартные скалярные типы в Python:\n",
    "<table>\n",
    "<tbody>\n",
    "<tr>\n",
    "<td width=\"10%\">\n",
    "<p><strong>Тип</strong></p>\n",
    "</td>\n",
    "<td width=\"80%\">\n",
    "<p><strong>Описание</strong></p>\n",
    "</td>\n",
    "</tr>\n",
    "<tr>\n",
    "<td width=\"10%\">\n",
    "<p>None</p>\n",
    "</td>\n",
    "<td width=\"80%\">\n",
    "<p>Пустое значение в Python (существует только один экземпляр объекта None)</p>\n",
    "</td>\n",
    "</tr>\n",
    "<tr>\n",
    "<td width=\"10%\">\n",
    "<p>str</p>\n",
    "</td>\n",
    "<td width=\"80%\">\n",
    "<p>Тип строки (может содержать любые символы Unicode)</p>\n",
    "</td>\n",
    "</tr>\n",
    "<tr>\n",
    "<td width=\"10%\">\n",
    "<p>float</p>\n",
    "</td>\n",
    "<td width=\"80%\">\n",
    "<p>Число с плавающей точкой двойной точности (64-разрядное). Отдельный тип double не предусмотрен</p>\n",
    "</td>\n",
    "</tr>\n",
    "<tr>\n",
    "<td width=\"10%\">\n",
    "<p>bool</p>\n",
    "</td>\n",
    "<td width=\"80%\">\n",
    "<p>Значение True или False</p>\n",
    "</td>\n",
    "</tr>\n",
    "<tr>\n",
    "<td width=\"10%\">\n",
    "<p>int</p>\n",
    "</td>\n",
    "<td width=\"80%\">\n",
    "<p>Целое со знаком, максимальное значение зависит от платформы</p>\n",
    "</td>\n",
    "</tr>\n",
    "<tr>\n",
    "<td width=\"10%\">\n",
    "<p>long</p>\n",
    "</td>\n",
    "<td width=\"80%\">\n",
    "<p>Целое со знаком произвольной точности. Большие значения типа int автоматически преобразуются в long</p>\n",
    "</td>\n",
    "</tr>\n",
    "</tbody>\n",
    "</table>"
   ]
  },
  {
   "cell_type": "markdown",
   "metadata": {},
   "source": [
    "## Числовые типы"
   ]
  },
  {
   "cell_type": "markdown",
   "metadata": {},
   "source": [
    "Основными числовыми типами в Python являются типы `int` и `float`. Целые числа типа `int` автоматически преобразуются в целые числа типа `long`, способные представлять целые числа произвольной точности. \n",
    "\n",
    "Числа с плавающей точкой представляются типом `float` двойной точности (64 разряда). Числа с плавающей точкой записываются в обычной или научной нотации:\n",
    "\n",
    "`x = 1.23`  \n",
    "`y = 1.23e-4`  \n",
    "\n",
    "Комплексные числа записывают с символом `j` для обозначения мнимой части:\n",
    "\n",
    "`z = 1 + 2j`"
   ]
  },
  {
   "cell_type": "markdown",
   "metadata": {},
   "source": [
    "## Строки"
   ]
  },
  {
   "cell_type": "markdown",
   "metadata": {},
   "source": [
    "Язык Python обладает мощными и гибкими средствами работы со строками. Строка записывается в одиночных (') или двойных (\") кавычках:\n",
    "\n",
    "`s1 = 'Строка 1'`  \n",
    "`s2 = \"Строка 2\"`  "
   ]
  },
  {
   "cell_type": "markdown",
   "metadata": {},
   "source": [
    "Для записи многострочных строк используются тройные кавычки – ''' или \"\"\":\n",
    "\n",
    "`s3 = \"\"\"\n",
    "Это \n",
    "длинная \n",
    "строка\n",
    "\"\"\"`  "
   ]
  },
  {
   "cell_type": "markdown",
   "metadata": {},
   "source": [
    "Строки в Python неизменяемы, при любой модификации создается новая строка. "
   ]
  },
  {
   "cell_type": "markdown",
   "metadata": {},
   "source": [
    "Многие объекты можно преобразовать в строку с помощью функции `str`:\n",
    "\n",
    "`x = 1.23`  \n",
    "`s = str(x)`  "
   ]
  },
  {
   "cell_type": "markdown",
   "metadata": {},
   "source": [
    "Знак обратной косой черты `\\` в строке играет роль управляющего символа, а именно, он может предшествовать специальным символам. Чтобы записать строку, содержащую знак `\\`, этот знак необходимо повторить дважды:\n",
    "\n",
    "`s = '123\\\\456'`"
   ]
  },
  {
   "cell_type": "markdown",
   "metadata": {},
   "source": [
    "Если перед начальной кавычкой строки указывается символ `r`, то все символы строки интерпретируются буквально:\n",
    "\n",
    "`s = r'123\\456\\789'`"
   ]
  },
  {
   "cell_type": "markdown",
   "metadata": {},
   "source": [
    "Сложение двух строк подразумевает конкатенацию, при этом создается новая строка:"
   ]
  },
  {
   "cell_type": "code",
   "execution_count": null,
   "metadata": {},
   "outputs": [],
   "source": [
    "s1 = 'Привет'\n",
    "s2 = \"мир\"\n",
    "s1+', '+s2+'!'"
   ]
  },
  {
   "cell_type": "markdown",
   "metadata": {},
   "source": [
    "Для форматирования строк в Python предусмотрены три механизма: \n",
    "\n",
    "* традиционный с использованием знака `%` \n",
    "* более новый с использованием метода `format`\n",
    "* самый новый с использованием f-строк."
   ]
  },
  {
   "cell_type": "markdown",
   "metadata": {},
   "source": [
    "Строка, содержащая знак `%`, за которым следует один или несколько символов формата, является шаблоном для подстановки значений:"
   ]
  },
  {
   "cell_type": "code",
   "execution_count": null,
   "metadata": {},
   "outputs": [],
   "source": [
    "template = '%d %s стоят %.2f рублей'"
   ]
  },
  {
   "cell_type": "markdown",
   "metadata": {},
   "source": [
    "Здесь `%s` означает, что аргумент нужно форматировать как строку, `%d` – как целое число, `%.2f` – как число с двумя десятичными знаками после запятой. Для подстановки аргументов вместо этих форматных параметров используется бинарный оператор `%`, за которым следует кортеж значений:"
   ]
  },
  {
   "cell_type": "code",
   "execution_count": null,
   "metadata": {},
   "outputs": [],
   "source": [
    "template % (10, 'евро', 892.2)"
   ]
  },
  {
   "cell_type": "markdown",
   "metadata": {},
   "source": [
    "## Логические (булевы) значения"
   ]
  },
  {
   "cell_type": "markdown",
   "metadata": {},
   "source": [
    "Два булевых значения в Python записываются как `True` (истина) и `False` (ложь). Помимо бинарных операций булевы значения можно объединять при помощи ключевых слов `and` и `or`:\n",
    "\n",
    "`True and False`  \n",
    "`False or True`  "
   ]
  },
  {
   "cell_type": "markdown",
   "metadata": {},
   "source": [
    "С большинством объектов в Python связано булево значение (истинна или ложь). Например, пустая последовательность (список, словарь, кортеж и т. д.) трактуется как `False`, если встречается в логическом выражении. Чтобы узнать, какое булево значение соответствует объекту, нужно применить к нему функцию `bool`:"
   ]
  },
  {
   "cell_type": "code",
   "execution_count": null,
   "metadata": {},
   "outputs": [],
   "source": [
    "bool(0), bool(1)"
   ]
  },
  {
   "cell_type": "code",
   "execution_count": null,
   "metadata": {},
   "outputs": [],
   "source": [
    "bool('Hello world!'), bool('')"
   ]
  },
  {
   "cell_type": "code",
   "execution_count": null,
   "metadata": {},
   "outputs": [],
   "source": [
    "bool([]), bool([1, 2, 3])"
   ]
  },
  {
   "cell_type": "markdown",
   "metadata": {},
   "source": [
    "## Приведение типов"
   ]
  },
  {
   "cell_type": "markdown",
   "metadata": {},
   "source": [
    "Типам `str`, `bool`, `int` и `float` соответствуют функции, которые можно использовать для приведения значения к соответствующему типу:"
   ]
  },
  {
   "cell_type": "code",
   "execution_count": null,
   "metadata": {},
   "outputs": [],
   "source": [
    "s = '3.14159'\n",
    "pi = float(s)\n",
    "int(pi)"
   ]
  },
  {
   "cell_type": "markdown",
   "metadata": {},
   "source": [
    "## Тип None"
   ]
  },
  {
   "cell_type": "markdown",
   "metadata": {},
   "source": [
    "`None` – это тип пустого значения (`null`) в Python. Если функция явно не возвращает никакого значения, то неявно она возвращает `None`."
   ]
  },
  {
   "cell_type": "code",
   "execution_count": null,
   "metadata": {},
   "outputs": [],
   "source": [
    "x = None\n",
    "print(\"x is None:\", x is None)\n",
    "y = 5\n",
    "print(\"y is None:\", y is None)"
   ]
  },
  {
   "cell_type": "markdown",
   "metadata": {},
   "source": [
    "## Вывод на экран"
   ]
  },
  {
   "cell_type": "markdown",
   "metadata": {},
   "source": [
    "Для вывода на экран используется функция `print`, например:"
   ]
  },
  {
   "cell_type": "code",
   "execution_count": null,
   "metadata": {},
   "outputs": [],
   "source": [
    "print('Привет, Мир!') "
   ]
  },
  {
   "cell_type": "markdown",
   "metadata": {},
   "source": [
    "Метод `format()` позволяет составить строку на основе каких-либо данных. Например:"
   ]
  },
  {
   "cell_type": "code",
   "execution_count": null,
   "metadata": {},
   "outputs": [],
   "source": [
    "x = 2\n",
    "y = 3\n",
    "print('Сумма {} и {} равна {}'.format(x,y,x+y))"
   ]
  },
  {
   "cell_type": "markdown",
   "metadata": {},
   "source": [
    "### Ввод данных с экрана"
   ]
  },
  {
   "cell_type": "markdown",
   "metadata": {},
   "source": [
    "Для ввода данных с экрана будем использовать функцию `input`: "
   ]
  },
  {
   "cell_type": "code",
   "execution_count": null,
   "metadata": {},
   "outputs": [],
   "source": [
    "x = int(input('Введите целое число x:')) \n",
    "y = int(input('Введите целое число y:')) \n",
    "print('Сумма {} и {} равна {}'.format(x,y,x+y)) \n",
    "print('Произведение {} и {} равно {}'.format(x,y,x*y)) \n",
    "print('{} в степени {} равно {}'.format(x,y,x**y))"
   ]
  },
  {
   "cell_type": "markdown",
   "metadata": {},
   "source": [
    "Здесь использована функция преобразования к целому числу `int()`. "
   ]
  },
  {
   "cell_type": "markdown",
   "metadata": {},
   "source": [
    "### Математические функции"
   ]
  },
  {
   "cell_type": "markdown",
   "metadata": {},
   "source": [
    "Для работы с математическими функциями в Python нужно импортировать библиотеку `math` командой `import math`. После этого к функциям из этой библиотеки можно обращаться следующим образом: `math.имя_функции(…)`."
   ]
  },
  {
   "cell_type": "markdown",
   "metadata": {},
   "source": [
    "Чтобы импортировать функцию `exp` прямо в программу и не писать всякий раз `math.exp` при обращении к ней, можно воспользоваться командой “`from math import exp`”. Для импорта имён всех функций из модуля math можно выполнить команду “`from math import *`” (не рекомендуется)."
   ]
  },
  {
   "cell_type": "markdown",
   "metadata": {},
   "source": [
    "В Python можно использовать следующие математические функции:\n",
    "\n",
    "• `abs(x)` – Возвращает абсолютную величину (модуль числа).\n",
    "\n",
    "• `exp(x)` – Возвращает `e^{x}`.\n",
    "\n",
    "• `sqrt(x)` – Квадратный корень (`square root`) из `x`.\n",
    "\n",
    "• `log(x[,base])` – При передаче функции одного аргумента `x`, возвращает натуральный логарифм `x`. При передаче двух аргументов, второй берется как основание логарифма.\n",
    "\n",
    "• `pow(x,y)` – Возвращает `x` в степени `y`. В отличие от операции `**` приводит оба аргумента к типу `float`.\n",
    "\n",
    "• `sin(x)` – Возвращает синус `x`, где `x` выражен в радианах.\n",
    "\n",
    "• `cos(x)` – Возвращает косинус `x`, где `x` выражен в радианах."
   ]
  },
  {
   "cell_type": "markdown",
   "metadata": {},
   "source": [
    "## Поток управления"
   ]
  },
  {
   "cell_type": "markdown",
   "metadata": {},
   "source": [
    "### Оператор if "
   ]
  },
  {
   "cell_type": "markdown",
   "metadata": {},
   "source": [
    "Оператор `if` используется для проверки условий: если условие верно, выполняется блок выражений (называемый «`if-блок`»), иначе выполняется другой блок выражений (называемый «`else-блок`»). Блок «`else`» является необязательным. "
   ]
  },
  {
   "cell_type": "code",
   "execution_count": null,
   "metadata": {},
   "outputs": [],
   "source": [
    "number = 23 \n",
    "guess = int(input('Введите целое число:')) \n",
    "if guess == number: \n",
    "    print('Поздравляю, вы угадали.') \n",
    "elif guess < number: \n",
    "    print('Нет, загаданное число немного больше этого.') \n",
    "else: \n",
    "    print('Нет, загаданное число немного меньше этого.') \n",
    "print('Хорошего дня!')"
   ]
  },
  {
   "cell_type": "markdown",
   "metadata": {},
   "source": [
    "Для задания логических условий можно использовать следующие операторы, дающие логические значения.\n",
    "\n",
    "<table border=\"0\" cellspacing=\"0\" cellpadding=\"0\">\n",
    "    <tbody>\n",
    "        <tr>\n",
    "            <td width=\"10%\" valign=\"top\">\n",
    "                <p>\n",
    "                    <strong>Оператор</strong>\n",
    "                </p>\n",
    "            </td>\n",
    "            <td width=\"10%\" valign=\"top\">\n",
    "                <p>\n",
    "                    <strong>Название</strong>\n",
    "                </p>\n",
    "            </td>\n",
    "            <td width=\"35%\" valign=\"top\">\n",
    "                <p>\n",
    "                    <strong>Объяснение</strong>\n",
    "                </p>\n",
    "            </td>\n",
    "            <td width=\"35%\" valign=\"top\">\n",
    "                <p>\n",
    "                    <strong>Примеры</strong>\n",
    "                </p>\n",
    "            </td>\n",
    "        </tr>\n",
    "        <tr>\n",
    "            <td width=\"10%\" valign=\"top\">\n",
    "                <p>\n",
    "                    &lt;\n",
    "                </p>\n",
    "            </td>\n",
    "            <td width=\"10%\" valign=\"top\">\n",
    "                <p>\n",
    "                    Меньше\n",
    "                </p>\n",
    "            </td>\n",
    "            <td width=\"35%\" valign=\"top\">\n",
    "                <p>\n",
    "                    Определяет, верно ли, что x меньше y.\n",
    "                </p>\n",
    "            </td>\n",
    "            <td width=\"35%\" valign=\"top\">\n",
    "                <p>\n",
    "                    5 &lt; 3 даст False, 3 &lt; 5 даст True.\n",
    "                </p>\n",
    "            </td>\n",
    "        </tr>\n",
    "        <tr>\n",
    "            <td width=\"10%\" valign=\"top\">\n",
    "                <p>\n",
    "                    &gt;\n",
    "                </p>\n",
    "            </td>\n",
    "            <td width=\"10%\" valign=\"top\">\n",
    "                <p>\n",
    "                    Больше\n",
    "                </p>\n",
    "            </td>\n",
    "            <td width=\"35%\" valign=\"top\">\n",
    "                <p>\n",
    "                    Определяет, верно ли, что x больше y.\n",
    "                </p>\n",
    "            </td>\n",
    "            <td width=\"35%\" valign=\"top\">\n",
    "                <p>\n",
    "                    5 &gt; 3 даёт True.\n",
    "                </p>\n",
    "            </td>\n",
    "        </tr>\n",
    "        <tr>\n",
    "            <td width=\"10%\" valign=\"top\">\n",
    "                <p>\n",
    "                    &lt;=\n",
    "                </p>\n",
    "            </td>\n",
    "            <td width=\"10%\" valign=\"top\">\n",
    "                <p>\n",
    "                    Меньше или равно\n",
    "                </p>\n",
    "            </td>\n",
    "            <td width=\"35%\" valign=\"top\">\n",
    "                <p>\n",
    "                    Определяет, верно ли, что x меньше или равно y.\n",
    "                </p>\n",
    "            </td>\n",
    "            <td width=\"35%\" valign=\"top\">\n",
    "                <p>\n",
    "                    x = 3; y = 6; x &lt;= y даёт True.\n",
    "                </p>\n",
    "            </td>\n",
    "        </tr>\n",
    "        <tr>\n",
    "            <td width=\"10%\" valign=\"top\">\n",
    "                <p>\n",
    "                    &gt;=\n",
    "                </p>\n",
    "            </td>\n",
    "            <td width=\"10%\" valign=\"top\">\n",
    "                <p>\n",
    "                    Больше или равно\n",
    "                </p>\n",
    "            </td>\n",
    "            <td width=\"35%\" valign=\"top\">\n",
    "                <p>\n",
    "                    Определяет, верно ли, что x больше или равно y.\n",
    "                </p>\n",
    "            </td>\n",
    "            <td width=\"35%\" valign=\"top\">\n",
    "                <p>\n",
    "                    x = 4; y = 3; x &gt;= 3 даёт True.\n",
    "                </p>\n",
    "            </td>\n",
    "        </tr>\n",
    "        <tr>\n",
    "            <td width=\"10%\" valign=\"top\">\n",
    "                <p>\n",
    "                    ==\n",
    "                </p>\n",
    "            </td>\n",
    "            <td width=\"10%\" valign=\"top\">\n",
    "                <p>\n",
    "                    Равно\n",
    "                </p>\n",
    "            </td>\n",
    "            <td width=\"35%\" valign=\"top\">\n",
    "                <p>\n",
    "                    Проверяет, одинаковы ли объекты.\n",
    "                </p>\n",
    "            </td>\n",
    "            <td width=\"35%\" valign=\"top\">\n",
    "                <p>\n",
    "                    x = 2; y = 2; x == y даёт True.\n",
    "                </p>\n",
    "                <p>\n",
    "                    x = 'str'; y = 'stR'; x == y даёт False.\n",
    "                </p>\n",
    "            </td>\n",
    "        </tr>\n",
    "        <tr>\n",
    "            <td width=\"10%\" valign=\"top\">\n",
    "                <p>\n",
    "                    !=\n",
    "                </p>\n",
    "            </td>\n",
    "            <td width=\"10%\" valign=\"top\">\n",
    "                <p>\n",
    "                    Не равно\n",
    "                </p>\n",
    "            </td>\n",
    "            <td width=\"35%\" valign=\"top\">\n",
    "                <p>\n",
    "                    Проверяет, верно ли, что объекты не равны.\n",
    "                </p>\n",
    "            </td>\n",
    "            <td width=\"35%\" valign=\"top\">\n",
    "                <p>\n",
    "                    x = 2; y = 3; x != y даёт True.\n",
    "                </p>\n",
    "            </td>\n",
    "        </tr>\n",
    "        <tr>\n",
    "            <td width=\"10%\" valign=\"top\">\n",
    "                <p>\n",
    "                    not\n",
    "                </p>\n",
    "            </td>\n",
    "            <td width=\"10%\" valign=\"top\">\n",
    "                <p>\n",
    "                    Логическое НЕ\n",
    "                </p>\n",
    "            </td>\n",
    "            <td width=\"35%\" valign=\"top\">\n",
    "                <p>\n",
    "                    Если x равно True, получим False. Если же x равно False,\n",
    "                    получим True.\n",
    "                </p>\n",
    "            </td>\n",
    "            <td width=\"35%\" valign=\"top\">\n",
    "                <p>\n",
    "                    x = True; not x даёт False.\n",
    "                </p>\n",
    "            </td>\n",
    "        </tr>\n",
    "        <tr>\n",
    "            <td width=\"10%\" valign=\"top\">\n",
    "                <p>\n",
    "                    and\n",
    "                </p>\n",
    "            </td>\n",
    "            <td width=\"10%\" valign=\"top\">\n",
    "                <p>\n",
    "                    Логическое И\n",
    "                </p>\n",
    "            </td>\n",
    "            <td width=\"35%\" valign=\"top\">\n",
    "                <p>\n",
    "                    x and y даёт False, если x равно False, в противном случае\n",
    "                    возвращает значение y.\n",
    "                </p>\n",
    "            </td>\n",
    "            <td width=\"35%\" valign=\"top\">\n",
    "                <p>\n",
    "                    x = False; y = True; x and y возвращает False, поскольку x\n",
    "                    равно False.\n",
    "                </p>\n",
    "            </td>\n",
    "        </tr>\n",
    "        <tr>\n",
    "            <td width=\"10%\" valign=\"top\">\n",
    "                <p>\n",
    "                    or\n",
    "                </p>\n",
    "            </td>\n",
    "            <td width=\"10%\" valign=\"top\">\n",
    "                <p>\n",
    "                    Логическое ИЛИ\n",
    "                </p>\n",
    "            </td>\n",
    "            <td width=\"35%\" valign=\"top\">\n",
    "                <p>\n",
    "                    Если x равно True, в результате получим True, в противном\n",
    "                    случае получим значение y.\n",
    "                </p>\n",
    "            </td>\n",
    "            <td width=\"35%\" valign=\"top\">\n",
    "                <p>\n",
    "                    x = True; y = False; x or y даёт True.\n",
    "                </p>\n",
    "            </td>\n",
    "        </tr>\n",
    "    </tbody>\n",
    "</table>\n"
   ]
  },
  {
   "cell_type": "markdown",
   "metadata": {},
   "source": [
    "### Оператор while"
   ]
  },
  {
   "cell_type": "markdown",
   "metadata": {},
   "source": [
    "Оператор `while` позволяет многократно выполнять блок команд до тех пор, пока выполняется некоторое условие. Он также может иметь необязательный пункт `else`."
   ]
  },
  {
   "cell_type": "code",
   "execution_count": null,
   "metadata": {},
   "outputs": [],
   "source": [
    "number = 23 \n",
    "running = True\n",
    "while running: \n",
    "    guess = int(input('Введите целое число : ')) \n",
    "    if guess == number: \n",
    "        print('Поздравляю, вы угадали.') \n",
    "        running = False \n",
    "    elif guess < number: \n",
    "        print('Нет, загаданное число немного больше этого') \n",
    "    else: \n",
    "        print('Нет, загаданное число немного меньше этого.') \n",
    "else: \n",
    "    print('Цикл while закончен.') "
   ]
  },
  {
   "cell_type": "markdown",
   "metadata": {},
   "source": [
    "### Оператор for"
   ]
  },
  {
   "cell_type": "markdown",
   "metadata": {},
   "source": [
    "Оператор `for..in` также является оператором цикла, который осуществляет итерацию по последовательности объектов, т.е. проходит через каждый элемент в последовательности. "
   ]
  },
  {
   "cell_type": "code",
   "execution_count": null,
   "metadata": {},
   "outputs": [],
   "source": [
    "for i in range(5): \n",
    "    print(i) \n",
    "else: \n",
    "    print('Цикл for закончен')"
   ]
  },
  {
   "cell_type": "markdown",
   "metadata": {},
   "source": [
    "Блок `else` не обязателен. Конструкция range возвращает последовательность чисел от первого числа до второго, но не включая второе число. Например, `range(1,5)` даёт последовательность `[1, 2, 3, 4]`. По умолчанию `range` использует  значение шага, равное 1. Если мы зададим в `range` также и третье число, то оно будет служить шагом. Например, `range(1,5,2)` даст последовательность `[1,3]`. "
   ]
  },
  {
   "cell_type": "markdown",
   "metadata": {},
   "source": [
    "Если элементы последовательности являются кортежами или списками, то их можно распаковать в переменные: \n",
    "\n",
    "`for a, b, c in iter_list:`  \n",
    "    `# что-то сделать с переменными a, b, c`  "
   ]
  },
  {
   "cell_type": "markdown",
   "metadata": {},
   "source": [
    "### Оператор break"
   ]
  },
  {
   "cell_type": "markdown",
   "metadata": {},
   "source": [
    "Оператор `break` служит для прерывания цикла, т.е. остановки выполнения команд даже если условие выполнения цикла ещё не приняло значения `False` или последовательность элементов не закончилась."
   ]
  },
  {
   "cell_type": "code",
   "execution_count": null,
   "metadata": {},
   "outputs": [],
   "source": [
    "while True: \n",
    "    s = input('Введите что-нибудь : ') \n",
    "    if s == 'выход': \n",
    "        break \n",
    "    print('Длина строки: ', len(s)) \n",
    "print('Завершение')"
   ]
  },
  {
   "cell_type": "markdown",
   "metadata": {},
   "source": [
    "### Оператор continue"
   ]
  },
  {
   "cell_type": "markdown",
   "metadata": {},
   "source": [
    "Оператор `continue` используется для указания Python, что необходимо пропустить все оставшиеся команды в текущем блоке цикла и продолжить со следующей итерации цикла. "
   ]
  },
  {
   "cell_type": "code",
   "execution_count": null,
   "metadata": {},
   "outputs": [],
   "source": [
    "while True: \n",
    "    s = input('Введите текст: ') \n",
    "    if s == 'выход': \n",
    "        break \n",
    "    if len(s) < 3: \n",
    "        print('Слишком короткий текст') \n",
    "        continue \n",
    "    print('Введённый текст достаточной длины') "
   ]
  },
  {
   "cell_type": "markdown",
   "metadata": {},
   "source": [
    "### Оператор pass"
   ]
  },
  {
   "cell_type": "markdown",
   "metadata": {},
   "source": [
    "Оператор `pass` является пустым оператором, используемым в тех блоках, в которых не требуется никакое действие. \n",
    "\n",
    "Часто оператор `pass` оставляют, чтобы позже заменить его каким-то кодом."
   ]
  },
  {
   "cell_type": "markdown",
   "metadata": {},
   "source": [
    "## Функции"
   ]
  },
  {
   "cell_type": "markdown",
   "metadata": {},
   "source": [
    "Функции – это многократно используемые фрагменты программы. Они позволяют дать имя определённому блоку команд с тем, чтобы впоследствии запускать этот блок по указанному имени в любом месте программы и сколь угодно много раз. "
   ]
  },
  {
   "cell_type": "markdown",
   "metadata": {},
   "source": [
    "Для вызова после имени функции ставятся круглые скобки, внутри которых может быть нуль или более параметров. Возвращенное значение может быть присвоено переменной, например: \n",
    "\n",
    "`res = f(x, y, z)`   \n",
    "`g()`  "
   ]
  },
  {
   "cell_type": "markdown",
   "metadata": {},
   "source": [
    "Функции определяются при помощи зарезервированного слова `def`. После этого слова указывается имя функции, за которым следует пара скобок, в которых можно указать имена некоторых переменных, и заключительное двоеточие в конце строки. Далее следует блок команд, составляющих функцию. "
   ]
  },
  {
   "cell_type": "code",
   "execution_count": null,
   "metadata": {},
   "outputs": [],
   "source": [
    "def sayHello(): \n",
    "    print('Привет, Мир!') \n",
    "\n",
    "sayHello()"
   ]
  },
  {
   "cell_type": "markdown",
   "metadata": {},
   "source": [
    "### Параметры функций"
   ]
  },
  {
   "cell_type": "markdown",
   "metadata": {},
   "source": [
    "Функции могут принимать параметры, т.е. некоторые значения, передаваемые функции для обработки."
   ]
  },
  {
   "cell_type": "code",
   "execution_count": null,
   "metadata": {},
   "outputs": [],
   "source": [
    "def printMax(a, b): \n",
    "    if a > b: \n",
    "        print(a, 'максимально') \n",
    "    elif a == b: \n",
    "        print(a, 'равно', b) \n",
    "    else: \n",
    "        print(b, 'максимально') \n",
    "\n",
    "printMax(3, 4) \n",
    "x=7 \n",
    "y=7 \n",
    "printMax(x, y) "
   ]
  },
  {
   "cell_type": "markdown",
   "metadata": {},
   "source": [
    "`None` также часто применяется в качестве значения по умолчанию для необязательных аргументов функции:"
   ]
  },
  {
   "cell_type": "code",
   "execution_count": null,
   "metadata": {},
   "outputs": [],
   "source": [
    "def add_and_maybe_multiply(a, b, c=None):\n",
    "    result = a + b\n",
    "    if c is not None:\n",
    "        result = result * c\n",
    "    return result\n",
    "\n",
    "print(add_and_maybe_multiply(3, 4, 2))\n",
    "print(add_and_maybe_multiply(4, 5))"
   ]
  },
  {
   "cell_type": "markdown",
   "metadata": {},
   "source": [
    "### Оператор return"
   ]
  },
  {
   "cell_type": "markdown",
   "metadata": {},
   "source": [
    "Оператор `return` используется для возврата из функции, т.е. для прекращения её работы и выхода из неё. При этом можно также вернуть некоторое значение из функции."
   ]
  },
  {
   "cell_type": "code",
   "execution_count": null,
   "metadata": {},
   "outputs": [],
   "source": [
    "def maximum(x, y): \n",
    "    if x > y: \n",
    "        return x \n",
    "    elif x == y: \n",
    "        return 'Числа равны.' \n",
    "    else: \n",
    "        return y \n",
    "\n",
    "print(maximum(3, 3))"
   ]
  },
  {
   "cell_type": "markdown",
   "metadata": {},
   "source": [
    "Функция для вычисления факториала заданного натурального числа может выглядеть так:"
   ]
  },
  {
   "cell_type": "code",
   "execution_count": null,
   "metadata": {},
   "outputs": [],
   "source": [
    "def factorial(n): \n",
    "    f = 1 \n",
    "    for i in range(1,n+1): \n",
    "        f *= i \n",
    "    return f\n",
    "\n",
    "print(factorial(200))"
   ]
  },
  {
   "cell_type": "markdown",
   "metadata": {},
   "source": [
    "В теле функции может присутствовать обращение к ней самой, т.е. функции могут быть рекурсивными:"
   ]
  },
  {
   "cell_type": "code",
   "execution_count": null,
   "metadata": {},
   "outputs": [],
   "source": [
    "def factorial(n): \n",
    "    if n==1: \n",
    "        return 1 \n",
    "    else: \n",
    "        return n*factorial(n-1)\n",
    "\n",
    "print(factorial(150))"
   ]
  },
  {
   "cell_type": "markdown",
   "metadata": {},
   "source": [
    "Приведенный код рекурсивной функции можно упростить, если использовать тернарную условную операцию `Y if X else Z`:"
   ]
  },
  {
   "cell_type": "code",
   "execution_count": null,
   "metadata": {},
   "outputs": [],
   "source": [
    "def factorial(n): \n",
    "    return 1 if n==1 else n*factorial(n-1)\n",
    "\n",
    "print(factorial(1000))"
   ]
  },
  {
   "cell_type": "code",
   "execution_count": null,
   "metadata": {},
   "outputs": [],
   "source": []
  }
 ],
 "metadata": {
  "kernelspec": {
   "display_name": "Python 3",
   "language": "python",
   "name": "python3"
  },
  "language_info": {
   "codemirror_mode": {
    "name": "ipython",
    "version": 3
   },
   "file_extension": ".py",
   "mimetype": "text/x-python",
   "name": "python",
   "nbconvert_exporter": "python",
   "pygments_lexer": "ipython3",
   "version": "3.7.6"
  }
 },
 "nbformat": 4,
 "nbformat_minor": 4
}
