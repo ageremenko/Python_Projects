{
 "cells": [
  {
   "cell_type": "markdown",
   "metadata": {},
   "source": [
    "# Лабораторная работа №1\n",
    "# Исследование данных"
   ]
  },
  {
   "cell_type": "markdown",
   "metadata": {},
   "source": [
    "## Порядок сдачи лабораторной работы"
   ]
  },
  {
   "cell_type": "markdown",
   "metadata": {},
   "source": [
    "Для каждого направления подготовки будет создана отдельная команда MS Teams, а для каждой лабораторной работы в рамках команды будет создан отдельный канал. Варианты заданий будут направляться каждому студенту через записную книжку команды. \n",
    "\n",
    "Отчет по лабораторной работы должен быть представлен в виде файла PDF, представляющего собой содержимое Jupiter Notebook с титульным листом, вариантом задания, программным кодом, комментариями к программному коду и результатами выполнения программы. Отчет в формате PDF и исходный файл ipynb передаются как ответ на задание MS Teams. Моментом сдачи задания является дата и время отправки файлов путем нажатия кнопки «сдать» в MS Teams.  \n",
    "\n",
    "Лабораторная работа оценивается с максимальной оценкой 10 баллов, если программа корректно решает поставленные задачи и отчет сдан не позднее 23:59 даты, указанной в задании на лабораторную работу. В случае просрочки оценка снижается на 1 балл за каждый день просрочки, но не более чем на 5 баллов. Отчеты, отправленные в срок более 6 дней со дня проведения лабораторной работы, оцениваются в конце семестра не более, чем в 5 баллов."
   ]
  },
  {
   "cell_type": "markdown",
   "metadata": {},
   "source": [
    "## Работа с языком программирования Python"
   ]
  },
  {
   "cell_type": "markdown",
   "metadata": {},
   "source": [
    "Python – это простой в освоении и мощный современный язык программирования (www.python.org). "
   ]
  },
  {
   "cell_type": "markdown",
   "metadata": {},
   "source": [
    "Для работы с языком Python скачайте с сайта https://www.anaconda.com и установите на компьютер дистрибутив Anaconda (Individual Edition). В качестве редактора/среды исполнения при выполнении лабораторных работ будет использоваться приложение Jupiter Notebook."
   ]
  },
  {
   "cell_type": "markdown",
   "metadata": {},
   "source": [
    "## Программа hello_data_mining на Python"
   ]
  },
  {
   "cell_type": "code",
   "execution_count": null,
   "metadata": {},
   "outputs": [],
   "source": [
    "def hello_data_mining():\n",
    "    print('Hello, Data Mining!')\n",
    "\n",
    "for _ in range(10):\n",
    "    hello_data_mining()"
   ]
  },
  {
   "cell_type": "markdown",
   "metadata": {},
   "source": [
    "## Библиотека NumPy"
   ]
  },
  {
   "cell_type": "markdown",
   "metadata": {},
   "source": [
    "NumPy (Numerical Python) — это библиотека Python с поддержкой многомерных массивов (включая матрицы) и математических функций, предназначенных для работы с многомерными массивами. NumPy является основой для многих других библиотек Python, в т.ч. библиотек машинного обучения.\n",
    "\n",
    "Для использования NumPy импортируем библиотеку командой `import`."
   ]
  },
  {
   "cell_type": "code",
   "execution_count": null,
   "metadata": {},
   "outputs": [],
   "source": [
    "import numpy as np"
   ]
  },
  {
   "cell_type": "markdown",
   "metadata": {},
   "source": [
    "### Создание объекта ndarray"
   ]
  },
  {
   "cell_type": "markdown",
   "metadata": {},
   "source": [
    "Объект `ndarray` (многомерный массив) может быть создан из списка или кортежа."
   ]
  },
  {
   "cell_type": "markdown",
   "metadata": {},
   "source": [
    "Объект `ndarray` имеет такие свойства как:\n",
    "\n",
    "• `ndim` – ранг (число осей или измерений) массива \n",
    "\n",
    "• `shape` – кортеж, показывающий длину массива по каждой из осей (размеры массива). Для матрицы из `n` строк и `m` столбов, свойство shape равно `(n,m)`. Число элементов в кортеже `shape` равно рангу массива, то есть свойству `ndim`.\n",
    "\n",
    "• `size` – число элементов в массиве, равное произведению всех элементов кортежа `shape`.\n",
    "\n",
    "• `dtype` – тип элементов массива. Тип `dtype` можно определить явно, используя стандартные типы данных Python или типы, предусмотренные библиотекой NumPy, например, `dtype=np.int8`. Тип `dtype` также может быть составным, например, целое число и число с плавающей точкой."
   ]
  },
  {
   "cell_type": "code",
   "execution_count": null,
   "metadata": {},
   "outputs": [],
   "source": [
    "oneDim = np.array([1,2,3,4,5],dtype=np.float16) # одномерный массивa (вектор)\n",
    "print(oneDim)\n",
    "print(\"Ранг =\", oneDim.ndim) \n",
    "print(\"Размеры =\", oneDim.shape) \n",
    "print(\"Число элементов =\", oneDim.size) \n",
    "print(\"Тип массива =\", oneDim.dtype)"
   ]
  },
  {
   "cell_type": "code",
   "execution_count": null,
   "metadata": {},
   "outputs": [],
   "source": [
    "twoDim = np.array([[1,2],[3,4],[5,6],[7,8]]) # двумерный массив (матрица) \n",
    "print(twoDim)\n",
    "print(\"Ранг =\", twoDim.ndim)\n",
    "print(\"Размеры =\", twoDim.shape)\n",
    "print(\"Число элементов =\", twoDim.size) \n",
    "print(\"Тип массива =\", twoDim.dtype)"
   ]
  },
  {
   "cell_type": "code",
   "execution_count": null,
   "metadata": {},
   "outputs": [],
   "source": [
    "arrFromTuple = np.array([(1,'a',3.0),(2,'b',3.5)]) # создание ndarray из кортежа \n",
    "print(arrFromTuple)\n",
    "print(\"Ранг =\", arrFromTuple.ndim)\n",
    "print(\"Размеры =\", arrFromTuple.shape)\n",
    "print(\"Число элементов =\", arrFromTuple.size)\n",
    "print(\"Тип массива =\", arrFromTuple.dtype)"
   ]
  },
  {
   "cell_type": "markdown",
   "metadata": {},
   "source": [
    "В NumPy имеется ряд встроенных функций для создания объектов `ndarray`. "
   ]
  },
  {
   "cell_type": "code",
   "execution_count": null,
   "metadata": {},
   "outputs": [],
   "source": [
    "print(np.random.rand(5))         # случайные числа с равномерным распределением на [0,1]"
   ]
  },
  {
   "cell_type": "code",
   "execution_count": null,
   "metadata": {},
   "outputs": [],
   "source": [
    "print(np.random.randn(5))        # случайные числа со стандартным нормальным распределением"
   ]
  },
  {
   "cell_type": "code",
   "execution_count": null,
   "metadata": {},
   "outputs": [],
   "source": [
    "print(np.arange(-10,10,3))       # аналогично range, возвращается объект ndarray вместо списка"
   ]
  },
  {
   "cell_type": "code",
   "execution_count": null,
   "metadata": {},
   "outputs": [],
   "source": [
    "print(np.arange(12).reshape(3,4))# преобразование вектора в матрицу"
   ]
  },
  {
   "cell_type": "code",
   "execution_count": null,
   "metadata": {},
   "outputs": [],
   "source": [
    "print(np.linspace(0,1,11))       # разбиение интервала [0,1] на 11 равноудаленных значений"
   ]
  },
  {
   "cell_type": "code",
   "execution_count": null,
   "metadata": {},
   "outputs": [],
   "source": [
    "print(np.zeros((2,3)))           # матрица из нулей"
   ]
  },
  {
   "cell_type": "code",
   "execution_count": null,
   "metadata": {},
   "outputs": [],
   "source": [
    "print(np.ones((3,2),dtype=int))  # матрица из единиц"
   ]
  },
  {
   "cell_type": "code",
   "execution_count": null,
   "metadata": {},
   "outputs": [],
   "source": [
    "print(np.eye(4,dtype=np.int16))  # единичная матрица размером 4 x 4 (со значениями типа np.int16)"
   ]
  },
  {
   "cell_type": "markdown",
   "metadata": {},
   "source": [
    "### Поэлементные операции"
   ]
  },
  {
   "cell_type": "markdown",
   "metadata": {},
   "source": [
    "Можно применять стандартные операции, такие как сложение и умножение, к каждому элементу объекта `ndarray`, при этом создается новый массив, который заполняется результатами действия оператора."
   ]
  },
  {
   "cell_type": "code",
   "execution_count": null,
   "metadata": {},
   "outputs": [],
   "source": [
    "x = np.array([1,2,3,4,5]) # ndarray из списка Python\n",
    "\n",
    "print(x + 1)      # сложение\n",
    "print(x - 1)      # вычитание\n",
    "print(x * 2)      # умножение\n",
    "print(x // 2)     # целая часть от деления\n",
    "print(x ** 2)     # возведение в квадрат\n",
    "print(x % 2)      # остаток от деления  \n",
    "print(1 / x)      # деление"
   ]
  },
  {
   "cell_type": "code",
   "execution_count": null,
   "metadata": {},
   "outputs": [],
   "source": [
    "x = np.array([2,4,6,8,10])\n",
    "y = np.array([1,2,3,4,5])\n",
    "\n",
    "print(x + y)\n",
    "print(x - y)\n",
    "print(x * y)\n",
    "print(x / y)\n",
    "print(x // y)\n",
    "print(x ** y)"
   ]
  },
  {
   "cell_type": "markdown",
   "metadata": {},
   "source": [
    "### Индексы и срезы"
   ]
  },
  {
   "cell_type": "markdown",
   "metadata": {},
   "source": [
    "Существуют различные способы выбрать определенные элементы в массиве `ndarray`. Нумерация элементов в массиве (как и в других структурах данных) начинается с нуля."
   ]
  },
  {
   "cell_type": "code",
   "execution_count": null,
   "metadata": {},
   "outputs": [],
   "source": [
    "x = np.arange(-5,5)\n",
    "print(x)"
   ]
  },
  {
   "cell_type": "code",
   "execution_count": null,
   "metadata": {},
   "outputs": [],
   "source": [
    "y = x[3:5]     # y - это срез или указатель на подмассив в x\n",
    "print(\"y =\",y)\n",
    "y[:] = 1000    # изменение y приведет к изменению x\n",
    "print(\"y =\",y)\n",
    "print(\"x =\",x)"
   ]
  },
  {
   "cell_type": "code",
   "execution_count": null,
   "metadata": {},
   "outputs": [],
   "source": [
    "z = x[3:5].copy()   # делаем копию подмассива\n",
    "print(\"z =\",z)\n",
    "z[:] = 500          # изменение z не влияет на x\n",
    "print(\"z =\",z)\n",
    "print(\"x =\",x)"
   ]
  },
  {
   "cell_type": "markdown",
   "metadata": {},
   "source": [
    "Срез массива представляет собой представление тех же самых данных (ссылку на данные), а для создания копии данных массива можно воспользоваться методом `copy()`. \n"
   ]
  },
  {
   "cell_type": "markdown",
   "metadata": {},
   "source": [
    "Объект `ndarray` также поддерживает булево индексирование:"
   ]
  },
  {
   "cell_type": "code",
   "execution_count": null,
   "metadata": {},
   "outputs": [],
   "source": [
    "my2darr = np.arange(1,13).reshape(3,4)\n",
    "print(my2darr)"
   ]
  },
  {
   "cell_type": "code",
   "execution_count": null,
   "metadata": {},
   "outputs": [],
   "source": [
    "divBy3 = my2darr[my2darr % 3 == 1]\n",
    "print(\"Тип =\",type(divBy3),\"  Ранг =\",divBy3.ndim,\"  Размеры =\",divBy3.shape)\n",
    "print(divBy3)"
   ]
  },
  {
   "cell_type": "code",
   "execution_count": null,
   "metadata": {},
   "outputs": [],
   "source": [
    "divBy3LastRow = my2darr[1:, my2darr[2,:] % 3 == 0]\n",
    "print(divBy3LastRow)"
   ]
  },
  {
   "cell_type": "markdown",
   "metadata": {},
   "source": [
    "Также объект `ndarray` допускает индексирование массивами или списками целых чисел:"
   ]
  },
  {
   "cell_type": "code",
   "execution_count": null,
   "metadata": {},
   "outputs": [],
   "source": [
    "my2darr = np.arange(1,13).reshape(4,3)\n",
    "print(my2darr)"
   ]
  },
  {
   "cell_type": "code",
   "execution_count": null,
   "metadata": {},
   "outputs": [],
   "source": [
    "indices = [2,1,0,3]    # выбранные индексы строк\n",
    "print(my2darr[indices,:])"
   ]
  },
  {
   "cell_type": "code",
   "execution_count": null,
   "metadata": {},
   "outputs": [],
   "source": [
    "rowIndex = [0,0,1,2,3]     # индексы строк\n",
    "columnIndex = [0,2,0,1,2]  # индексы столбцов\n",
    "print(my2darr[rowIndex,columnIndex])"
   ]
  },
  {
   "cell_type": "markdown",
   "metadata": {},
   "source": [
    "### Арифметические и статистические функции Numpy"
   ]
  },
  {
   "cell_type": "markdown",
   "metadata": {},
   "source": [
    "В NumPy встроены многие математические функции для манипулирования элементами `ndarray`."
   ]
  },
  {
   "cell_type": "code",
   "execution_count": null,
   "metadata": {},
   "outputs": [],
   "source": [
    "y = np.array([-1.4, 0.4, -3.2, 2.5, 3.4])    # массив чисел\n",
    "print(y)"
   ]
  },
  {
   "cell_type": "code",
   "execution_count": null,
   "metadata": {},
   "outputs": [],
   "source": [
    "print(np.abs(y))          # абсолютные значения"
   ]
  },
  {
   "cell_type": "code",
   "execution_count": null,
   "metadata": {},
   "outputs": [],
   "source": [
    "print(np.sqrt(abs(y)))    # квадратный корень из абсолютных значений"
   ]
  },
  {
   "cell_type": "code",
   "execution_count": null,
   "metadata": {},
   "outputs": [],
   "source": [
    "print(np.sign(y))         # знак каждого элемента"
   ]
  },
  {
   "cell_type": "code",
   "execution_count": null,
   "metadata": {},
   "outputs": [],
   "source": [
    "print(np.exp(y))          # экспонента"
   ]
  },
  {
   "cell_type": "code",
   "execution_count": null,
   "metadata": {},
   "outputs": [],
   "source": [
    "print(np.sort(y))         # сортировка"
   ]
  },
  {
   "cell_type": "code",
   "execution_count": null,
   "metadata": {},
   "outputs": [],
   "source": [
    "y = np.array([-3.2, -1.4, 0.4, 2.5, 3.4])    # массив чисел\n",
    "print(y)\n",
    "\n",
    "print(\"Минимум  =\", np.min(y))           \n",
    "print(\"Максимум =\", np.max(y))          \n",
    "print(\"Среднее  =\", np.mean(y))        \n",
    "print(\"Стандартное отклонение =\", np.std(y))   \n",
    "print(\"Сумма =\", np.sum(y))              "
   ]
  },
  {
   "cell_type": "markdown",
   "metadata": {},
   "source": [
    "### Линейная алгебра в Numpy"
   ]
  },
  {
   "cell_type": "markdown",
   "metadata": {},
   "source": [
    "Numpy поддерживает многие операции линейной алгебры, например, транспонирование матрицы и матричное умножение."
   ]
  },
  {
   "cell_type": "code",
   "execution_count": null,
   "metadata": {},
   "outputs": [],
   "source": [
    "X = np.random.randn(2,4) # случайная матрица 2 x 4 \n",
    "print(X)\n",
    "print(X.T)               # транспонирование матрицы X^T "
   ]
  },
  {
   "cell_type": "code",
   "execution_count": null,
   "metadata": {},
   "outputs": [],
   "source": [
    "y = np.random.randn(4) # случайный вектор\n",
    "print(y)"
   ]
  },
  {
   "cell_type": "code",
   "execution_count": null,
   "metadata": {},
   "outputs": [],
   "source": [
    "print(X.dot(y))        # умножение матрицы на вектор   X * y"
   ]
  },
  {
   "cell_type": "code",
   "execution_count": null,
   "metadata": {},
   "outputs": [],
   "source": [
    "print(X.dot(X.T))      # умножение матрицы на матрицу  X * X^T"
   ]
  },
  {
   "cell_type": "code",
   "execution_count": null,
   "metadata": {},
   "outputs": [],
   "source": [
    "print(X.T.dot(X))      # умножение матрицы на матрицу  X^T * X"
   ]
  },
  {
   "cell_type": "markdown",
   "metadata": {},
   "source": [
    "Также поддерживается вычисление определителя, обратной матрицы, собственных значений и собственных векторов матрицы."
   ]
  },
  {
   "cell_type": "code",
   "execution_count": null,
   "metadata": {},
   "outputs": [],
   "source": [
    "X = np.random.randn(5,3)     # матрица 5 x 3\n",
    "print(X)"
   ]
  },
  {
   "cell_type": "code",
   "execution_count": null,
   "metadata": {},
   "outputs": [],
   "source": [
    "C = X.T.dot(X)               # C = X^T * X - это квадратная матрица\n",
    "print(C)"
   ]
  },
  {
   "cell_type": "code",
   "execution_count": null,
   "metadata": {},
   "outputs": [],
   "source": [
    "invC = np.linalg.inv(C)      # обратная матрица \n",
    "print(invC)"
   ]
  },
  {
   "cell_type": "code",
   "execution_count": null,
   "metadata": {},
   "outputs": [],
   "source": [
    "detC = np.linalg.det(C)      # определитель\n",
    "print(detC)"
   ]
  },
  {
   "cell_type": "code",
   "execution_count": null,
   "metadata": {},
   "outputs": [],
   "source": [
    "S, U = np.linalg.eig(C)      # собственные значения S и собственные вектора U \n",
    "print(S)\n",
    "print(U)"
   ]
  },
  {
   "cell_type": "markdown",
   "metadata": {},
   "source": [
    "## Библиотека Pandas"
   ]
  },
  {
   "cell_type": "markdown",
   "metadata": {},
   "source": [
    "Библиотека Pandas содержит две удобных структуры данных для хранения и манипуляций с данными – объекты `Series` и `DataFrame`. Объект `Series` подобен одномерному массиву, в то время, как объект `DataFrame` более напоминает матрицу или таблицу."
   ]
  },
  {
   "cell_type": "markdown",
   "metadata": {},
   "source": [
    "### Объект Series "
   ]
  },
  {
   "cell_type": "markdown",
   "metadata": {},
   "source": [
    "Объект `Series` состоит из одномерного массива значений (свойство `values`), к элементам которого можно обращаться при помощи массива индексов (свойство `index`). Все элементы в объекте `Series` имеют один и тот же тип. Объект `Series` может быть создан из списка, массива NumPy или словаря Python. "
   ]
  },
  {
   "cell_type": "code",
   "execution_count": null,
   "metadata": {},
   "outputs": [],
   "source": [
    "from pandas import Series\n",
    "\n",
    "s = Series([3.1, 2.4, -1.7, 0.2, -2.9, 4.5])   # объект Series из списка\n",
    "print(s)\n",
    "print('Values =', s.values)     # значения объекта Series\n",
    "print('Index =', s.index)       # индексы объекта Series"
   ]
  },
  {
   "cell_type": "code",
   "execution_count": null,
   "metadata": {},
   "outputs": [],
   "source": [
    "s2 = Series(np.random.randn(6))  # объект Series из массива numpy\n",
    "print(s2)\n",
    "print('Values =', s2.values)   # значения объекта Series\n",
    "print('Index =', s2.index)     # индексы объекта Series"
   ]
  },
  {
   "cell_type": "code",
   "execution_count": null,
   "metadata": {},
   "outputs": [],
   "source": [
    "s3 = Series([1.2,2.5,-2.2,3.1,-0.8,-3.2], \n",
    "            index = ['Jan 1','Jan 2','Jan 3','Jan 4','Jan 5','Jan 6',])\n",
    "print(s3)\n",
    "print('Values=', s3.values)   # значения объекта Series\n",
    "print('Index=', s3.index)     # индексы объекта Series"
   ]
  },
  {
   "cell_type": "code",
   "execution_count": null,
   "metadata": {},
   "outputs": [],
   "source": [
    "capitals = {'MI': 'Lansing', 'CA': 'Sacramento', 'TX': 'Austin', 'MN': 'St Paul'}\n",
    "\n",
    "s4 = Series(capitals)   # объект Series из словаря\n",
    "print(s4)\n",
    "print('Values=', s4.values)   # значения объекта Series\n",
    "print('Index=', s4.index)     # индексы объекта Series"
   ]
  },
  {
   "cell_type": "markdown",
   "metadata": {},
   "source": [
    "Доступ к элементам объекта `Series` возможен по номеру объекта или по ключу:"
   ]
  },
  {
   "cell_type": "code",
   "execution_count": null,
   "metadata": {},
   "outputs": [],
   "source": [
    "print('\\ns3[2]=', s3[2])             # доступ по номеру\n",
    "print('s3[\\'Jan 3\\']=', s3['Jan 3']) # доступ по индексу\n",
    "\n",
    "print('\\ns3[1:3]=')                  # срез объекта Series\n",
    "print(s3[1:3])"
   ]
  },
  {
   "cell_type": "markdown",
   "metadata": {},
   "source": [
    "Большинство функций NumPy могут применяться к объекту `Series`."
   ]
  },
  {
   "cell_type": "code",
   "execution_count": null,
   "metadata": {},
   "outputs": [],
   "source": [
    "print('shape =', s3.shape)  # размеры Series\n",
    "print('size =', s3.size)    # число элементов в Series"
   ]
  },
  {
   "cell_type": "code",
   "execution_count": null,
   "metadata": {},
   "outputs": [],
   "source": [
    "print(s3[s3 < 0])   # фильтр для выбора элементов Series"
   ]
  },
  {
   "cell_type": "code",
   "execution_count": null,
   "metadata": {},
   "outputs": [],
   "source": [
    "print(s3 + 4)       # операции числового объекта Series со скалярными величинами\n",
    "print(s3 / 4)    "
   ]
  },
  {
   "cell_type": "code",
   "execution_count": null,
   "metadata": {},
   "outputs": [],
   "source": [
    "print(np.log(s3 + 4))    # функция numpy от числового объекта Series"
   ]
  },
  {
   "cell_type": "markdown",
   "metadata": {},
   "source": [
    "## Объект DataFrame"
   ]
  },
  {
   "cell_type": "markdown",
   "metadata": {},
   "source": [
    "Объект `DataFrame` представляет собой табличную структуру данных, содержащую набор столбцов, каждый из которых может иметь различный тип (числовой, строковый, логический и т.п.). В отличие от объекта `Series` объект `DataFrame` имеет различные индексы для строк и столбцов. Существуют различные способы создания объекта `DataFrame` (например, из словаря, списка кортежей или массивов ndarray)."
   ]
  },
  {
   "cell_type": "code",
   "execution_count": null,
   "metadata": {},
   "outputs": [],
   "source": [
    "from pandas import DataFrame\n",
    "\n",
    "cars = {'make': ['Ford', 'Honda', 'Toyota', 'Tesla'],\n",
    "       'model': ['Taurus', 'Accord', 'Camry', 'Model S'],\n",
    "       'MSRP': [27595, 23570, 23495, 68000]}          \n",
    "carData = DataFrame(cars)   # объект DataFrame из словаря\n",
    "print(carData)              "
   ]
  },
  {
   "cell_type": "code",
   "execution_count": null,
   "metadata": {},
   "outputs": [],
   "source": [
    "print(carData.index)       # индексы строк\n",
    "print(carData.columns)     # индексы столбцов"
   ]
  },
  {
   "cell_type": "code",
   "execution_count": null,
   "metadata": {
    "scrolled": true
   },
   "outputs": [],
   "source": [
    "carData2 = DataFrame(cars, index = [1,2,3,4])  # изменяем индексы строк\n",
    "carData2['year'] = 2020    # добавляем столбец с одним и тем же значением\n",
    "carData2['dealer'] = ['Courtesy Ford','Capital Honda','Spartan Toyota','N/A']\n",
    "print(carData2)                  "
   ]
  },
  {
   "cell_type": "markdown",
   "metadata": {},
   "source": [
    "Объект `DataFrame` может быть создан из списка кортежей:"
   ]
  },
  {
   "cell_type": "code",
   "execution_count": null,
   "metadata": {},
   "outputs": [],
   "source": [
    "tuplelist = [(2015,7.3,32.4),(2016,5.8,34.5),(2017,8.4,39.2),\n",
    "              (2018,6.8,31.4),(2019,4.4,29.8),(2020,5.3,36.7)]\n",
    "columnNames = ['Год','Темп','Осадки']\n",
    "weatherData = DataFrame(tuplelist, columns=columnNames)\n",
    "print(weatherData)"
   ]
  },
  {
   "cell_type": "markdown",
   "metadata": {},
   "source": [
    "Объект `DataFrame` может быть создан из массива numpy (объекта `ndarray`):"
   ]
  },
  {
   "cell_type": "code",
   "execution_count": null,
   "metadata": {},
   "outputs": [],
   "source": [
    "npdata = np.random.randn(5,3)  # случайная матрица 5 на 3\n",
    "columnNames = ['x1','x2','x3']\n",
    "data = DataFrame(npdata, columns=columnNames)\n",
    "print(data)"
   ]
  },
  {
   "cell_type": "markdown",
   "metadata": {},
   "source": [
    "Для обращения к столбцу объекта `DataFrame` можно использовать имя столбца: "
   ]
  },
  {
   "cell_type": "code",
   "execution_count": null,
   "metadata": {},
   "outputs": [],
   "source": [
    "# при обращении к столбцу получаем объект Series\n",
    "print(data.x2)\n",
    "print(data['x2'])"
   ]
  },
  {
   "cell_type": "markdown",
   "metadata": {},
   "source": [
    "При выборе строк и/или столбцов объекта `DataFrame` можно использовать индексаторы `.loc` и `.iloc`. Индексатор `.loc` выбирает данные по метке строк и столбцов, а индексатор `.iloc` использует номера строк и столбцов, которые необходимо выбрать."
   ]
  },
  {
   "cell_type": "code",
   "execution_count": null,
   "metadata": {},
   "outputs": [],
   "source": [
    "# при обращении к строке получаем объект Series\n",
    "print('Строка 3 набора data:')\n",
    "print(data.iloc[2])       # возвращает 3 строку объекта DataFrame\n",
    "print(type(data.iloc[2]))\n",
    "print('\\nСтрока 3 набора carData2:')\n",
    "print(carData2.iloc[2])   # строка содержит данные различных типов\n",
    "print(type(carData2.iloc[2]))"
   ]
  },
  {
   "cell_type": "code",
   "execution_count": null,
   "metadata": {},
   "outputs": [],
   "source": [
    "# обращаемся к конкретным элементам объекта DataFrame\n",
    "\n",
    "print(carData2.iloc[1,2])      # извлекаем вторую строку, третий столбец\n",
    "print(carData2.loc[1,'model']) # извлекаем вторую строку, столбец с именем 'model'\n",
    "\n",
    "# обращаемся к срезу объекта DataFrame\n",
    "\n",
    "print('carData2.iloc[1:3,1:3]=')\n",
    "print(carData2.iloc[1:3,1:3])\n",
    "print(type(carData2.iloc[1:3,1:3]))"
   ]
  },
  {
   "cell_type": "code",
   "execution_count": null,
   "metadata": {},
   "outputs": [],
   "source": [
    "print('carData2.shape =', carData2.shape)\n",
    "print('carData2.size =', carData2.size)"
   ]
  },
  {
   "cell_type": "code",
   "execution_count": null,
   "metadata": {},
   "outputs": [],
   "source": [
    "# выбор и фильтрация\n",
    "print('carData2[carData2.MSRP > 25000]')  \n",
    "print(carData2[carData2.MSRP > 25000])"
   ]
  },
  {
   "cell_type": "markdown",
   "metadata": {},
   "source": [
    "## Арифметические операции"
   ]
  },
  {
   "cell_type": "code",
   "execution_count": null,
   "metadata": {},
   "outputs": [],
   "source": [
    "data"
   ]
  },
  {
   "cell_type": "code",
   "execution_count": null,
   "metadata": {},
   "outputs": [],
   "source": [
    "print(\"Данные:\\n\",data)"
   ]
  },
  {
   "cell_type": "code",
   "execution_count": null,
   "metadata": {},
   "outputs": [],
   "source": [
    "print('Транспонированные данные:')\n",
    "print(data.T)    # транспонирование"
   ]
  },
  {
   "cell_type": "code",
   "execution_count": null,
   "metadata": {},
   "outputs": [],
   "source": [
    "print('Сложение:')\n",
    "print(data + 4)    # операция сложения"
   ]
  },
  {
   "cell_type": "code",
   "execution_count": null,
   "metadata": {},
   "outputs": [],
   "source": [
    "print('Умножение:')\n",
    "print(data * 10)   # операция умножения"
   ]
  },
  {
   "cell_type": "code",
   "execution_count": null,
   "metadata": {},
   "outputs": [],
   "source": [
    "columnNames = ['x1','x2','x3']\n",
    "data2 = DataFrame(np.random.randn(5,3), columns=columnNames)\n",
    "print('\\ndata2 =')\n",
    "print(data2)"
   ]
  },
  {
   "cell_type": "code",
   "execution_count": null,
   "metadata": {},
   "outputs": [],
   "source": [
    "print('\\ndata + data2 = ')\n",
    "print(data+data2) # data.add(data2)\n",
    "\n",
    "print('\\ndata * data2 = ')\n",
    "print(data*data2) # data.mul(data2)"
   ]
  },
  {
   "cell_type": "code",
   "execution_count": null,
   "metadata": {},
   "outputs": [],
   "source": [
    "print(data.abs())    # абсолютное значение по каждому элементу"
   ]
  },
  {
   "cell_type": "code",
   "execution_count": null,
   "metadata": {},
   "outputs": [],
   "source": [
    "print('\\nМаксимальное значение по столбцам:')\n",
    "print(data.max()) # максимальное значение по каждому столбцу (axis=0)"
   ]
  },
  {
   "cell_type": "code",
   "execution_count": null,
   "metadata": {},
   "outputs": [],
   "source": [
    "print('\\nМинимальное значение по строкам:')\n",
    "print(data.min(axis=1)) # минимальное значение по каждой строке"
   ]
  },
  {
   "cell_type": "code",
   "execution_count": null,
   "metadata": {},
   "outputs": [],
   "source": [
    "print('\\nСумма значений по столбцам:')\n",
    "print(data.sum()) # найти сумму значений для каждого столбца"
   ]
  },
  {
   "cell_type": "code",
   "execution_count": null,
   "metadata": {},
   "outputs": [],
   "source": [
    "print('\\nСреднее значение по строкам:')\n",
    "print(data.mean(axis=1)) # найти среднее значение для каждой строки"
   ]
  },
  {
   "cell_type": "code",
   "execution_count": null,
   "metadata": {},
   "outputs": [],
   "source": [
    "print('\\nВычислить max - min по столбцам')\n",
    "f = lambda x: x.max() - x.min()\n",
    "print(data.apply(f))\n",
    "\n",
    "print('\\nВычислить max - min по строкам')\n",
    "f = lambda x: x.max() - x.min()\n",
    "print(data.apply(f, axis=1))"
   ]
  },
  {
   "cell_type": "markdown",
   "metadata": {},
   "source": [
    "## Загрузка набора данных \"Ирисы\"\n",
    "\n",
    "Считаем набор данных “Ирисы” из файла `iris.csv` при помощи пакета Pandas:"
   ]
  },
  {
   "cell_type": "code",
   "execution_count": null,
   "metadata": {},
   "outputs": [],
   "source": [
    "import pandas as pd\n",
    "\n",
    "# считываем данные из файла в объект DataFrame\n",
    "my_data = pd.read_csv( \"iris.csv\", header=None, prefix=\"V\" )\n",
    "my_data"
   ]
  },
  {
   "cell_type": "code",
   "execution_count": null,
   "metadata": {},
   "outputs": [],
   "source": [
    "my_data.head(3)"
   ]
  },
  {
   "cell_type": "code",
   "execution_count": null,
   "metadata": {},
   "outputs": [],
   "source": [
    "my_data.tail(10)"
   ]
  },
  {
   "cell_type": "code",
   "execution_count": null,
   "metadata": {},
   "outputs": [],
   "source": [
    "my_data.info()"
   ]
  },
  {
   "cell_type": "markdown",
   "metadata": {},
   "source": [
    "Отбор числовых и нечисловых признаков:"
   ]
  },
  {
   "cell_type": "code",
   "execution_count": null,
   "metadata": {},
   "outputs": [],
   "source": [
    "my_data['V4']"
   ]
  },
  {
   "cell_type": "code",
   "execution_count": null,
   "metadata": {},
   "outputs": [],
   "source": [
    "my_data[['V0','V1','V2','V3']]"
   ]
  },
  {
   "cell_type": "code",
   "execution_count": null,
   "metadata": {},
   "outputs": [],
   "source": [
    "my_data.drop(['V4'],axis=1)"
   ]
  },
  {
   "cell_type": "code",
   "execution_count": null,
   "metadata": {},
   "outputs": [],
   "source": [
    "my_data_num = my_data.drop(['V4'],axis=1)"
   ]
  },
  {
   "cell_type": "markdown",
   "metadata": {},
   "source": [
    "### Дескриптивный анализ\n",
    "\n",
    "Дескриптивный (описательный) анализ (аналитика, статистика) – это разновидность анализа данных, ориентированная на сбор, систематизацию и обобщение данных с целью обнаружения в них интерпретируемых зависимостей и закономерностей."
   ]
  },
  {
   "cell_type": "markdown",
   "metadata": {},
   "source": [
    "1. Значения данных и их частоты\n",
    "\n",
    "Таблица частот (для нечисловых признаков) может быть построена следующей командой:"
   ]
  },
  {
   "cell_type": "code",
   "execution_count": null,
   "metadata": {},
   "outputs": [],
   "source": [
    "my_data['V4'].value_counts()"
   ]
  },
  {
   "cell_type": "code",
   "execution_count": null,
   "metadata": {},
   "outputs": [],
   "source": [
    "my_data['V4'].unique()"
   ]
  },
  {
   "cell_type": "markdown",
   "metadata": {},
   "source": [
    "2. Средние значения (центральная тенденция) данных"
   ]
  },
  {
   "cell_type": "code",
   "execution_count": null,
   "metadata": {},
   "outputs": [],
   "source": [
    "my_data_num.mean()"
   ]
  },
  {
   "cell_type": "code",
   "execution_count": null,
   "metadata": {},
   "outputs": [],
   "source": [
    "my_data_num.median()"
   ]
  },
  {
   "cell_type": "code",
   "execution_count": null,
   "metadata": {},
   "outputs": [],
   "source": [
    "my_data_num.mode()"
   ]
  },
  {
   "cell_type": "markdown",
   "metadata": {},
   "source": [
    "3. Рассеяние (разброс) данных"
   ]
  },
  {
   "cell_type": "code",
   "execution_count": null,
   "metadata": {},
   "outputs": [],
   "source": [
    "my_data_num.min()"
   ]
  },
  {
   "cell_type": "code",
   "execution_count": null,
   "metadata": {},
   "outputs": [],
   "source": [
    "my_data_num.max()"
   ]
  },
  {
   "cell_type": "code",
   "execution_count": null,
   "metadata": {},
   "outputs": [],
   "source": [
    "my_data_num.std()"
   ]
  },
  {
   "cell_type": "markdown",
   "metadata": {},
   "source": [
    "4. Расположение данных (квантили)"
   ]
  },
  {
   "cell_type": "code",
   "execution_count": null,
   "metadata": {},
   "outputs": [],
   "source": [
    "my_data.quantile(0.95)"
   ]
  },
  {
   "cell_type": "code",
   "execution_count": null,
   "metadata": {},
   "outputs": [],
   "source": [
    "my_data.describe()"
   ]
  },
  {
   "cell_type": "markdown",
   "metadata": {},
   "source": [
    "### Таблицы сопряженности (contingency table)\n",
    "\n",
    "В таблице сопряженности каждая ячейка соответствует комбинации двух (категориальных) переменных. Обычно, независимая переменная указывается по вертикальной оси, а зависимая - по горизонтальной оси."
   ]
  },
  {
   "cell_type": "code",
   "execution_count": null,
   "metadata": {},
   "outputs": [],
   "source": [
    "my_data['V0_C'] = round(my_data['V0']).astype(str)"
   ]
  },
  {
   "cell_type": "code",
   "execution_count": null,
   "metadata": {},
   "outputs": [],
   "source": [
    "my_data['V0_C'].unique()"
   ]
  },
  {
   "cell_type": "code",
   "execution_count": null,
   "metadata": {},
   "outputs": [],
   "source": [
    "my_data.pivot_table(values='V1',index=['V0_C'],columns=['V4'],aggfunc=sum)"
   ]
  },
  {
   "cell_type": "markdown",
   "metadata": {},
   "source": [
    "## Визуализация данных"
   ]
  },
  {
   "cell_type": "code",
   "execution_count": null,
   "metadata": {},
   "outputs": [],
   "source": [
    "df = my_data.drop(['V0_C'],axis=1)\n",
    "df.columns = ['sepal length', 'sepal width', 'petal length', 'petal width', 'class']\n",
    "df.head()"
   ]
  },
  {
   "cell_type": "markdown",
   "metadata": {},
   "source": [
    "В Pandas имеются встроенные средства для отображения данных объектов `Series` и `DataFrame`. Например, __линейный график__ (line plot) состоит из серии точек, соединенных линиями:"
   ]
  },
  {
   "cell_type": "code",
   "execution_count": null,
   "metadata": {},
   "outputs": [],
   "source": [
    "df['sepal length'].plot.line(title='Линейный график признака sepal length');"
   ]
  },
  {
   "cell_type": "code",
   "execution_count": null,
   "metadata": {},
   "outputs": [],
   "source": [
    "df.plot.line(title='Линейный график признаков набора Ирисы');"
   ]
  },
  {
   "cell_type": "markdown",
   "metadata": {},
   "source": [
    "__Столбчатая диаграмма__ (bar chart) представляет величины прямоугольными зонами, высоты или длины которых пропорциональны величинам, которые они отображают: "
   ]
  },
  {
   "cell_type": "code",
   "execution_count": null,
   "metadata": {},
   "outputs": [],
   "source": [
    "df['sepal length'].plot.bar(title='Столбчатая диаграмма признака sepal length');"
   ]
  },
  {
   "cell_type": "code",
   "execution_count": null,
   "metadata": {},
   "outputs": [],
   "source": [
    "df.iloc[::10]['sepal length'].plot.bar(title='Столбчатая диаграмма признака sepal length');"
   ]
  },
  {
   "cell_type": "code",
   "execution_count": null,
   "metadata": {},
   "outputs": [],
   "source": [
    "df.iloc[::10].plot.bar(title='Столбчатая диаграмма признаков набора Ирисы',figsize=(12,8));"
   ]
  },
  {
   "cell_type": "markdown",
   "metadata": {},
   "source": [
    "__Гистограмма__ (histogram) — это столбчатая диаграмма, в которой высота каждого прямоугольника (или его площадь) пропорциональна числу элементов выборки, попадающих в соответствующий интервал. "
   ]
  },
  {
   "cell_type": "code",
   "execution_count": null,
   "metadata": {},
   "outputs": [],
   "source": [
    "df['sepal length'].plot.hist(bins=15,title='Гистограмма признака sepal length');"
   ]
  },
  {
   "cell_type": "markdown",
   "metadata": {},
   "source": [
    "__Диаграмма размаха__ (box plot) в удобной форме показывает медиану (среднее), первый (25%) и третий (75%) квартили, края статистически значимой выборки (минимальное и максимальное значения) и, возможно, выбросы."
   ]
  },
  {
   "cell_type": "code",
   "execution_count": null,
   "metadata": {},
   "outputs": [],
   "source": [
    "df['sepal length'].plot.box(title='Диаграмма размаха признака sepal length');"
   ]
  },
  {
   "cell_type": "code",
   "execution_count": null,
   "metadata": {
    "scrolled": true
   },
   "outputs": [],
   "source": [
    "df.plot.box(by='class',title='Диаграммы размаха признаков набора Ирисы');"
   ]
  },
  {
   "cell_type": "markdown",
   "metadata": {},
   "source": [
    "__Диаграмма рассеяния__ (scatter plot) изображает значения двух переменных в виде точек на плоскости:"
   ]
  },
  {
   "cell_type": "code",
   "execution_count": null,
   "metadata": {},
   "outputs": [],
   "source": [
    "df.plot.scatter('sepal length','sepal width',title='Диаграмма рассеяния признаков sepal length и sepal width');"
   ]
  },
  {
   "cell_type": "markdown",
   "metadata": {},
   "source": [
    "## Разведочный анализ данных\n",
    "\n",
    "Разведочный анализ данных (exploratory data analysis) — анализ основных свойств данных, нахождение в них общих закономерностей, распределений и аномалий, построение моделей данных с использованием инструментов визуализации.\n",
    "\n",
    "Основные средства разведочного анализа — изучение вероятностных распределений переменных, построение и анализ корреляционных матриц, факторный анализ, дискриминантный анализ."
   ]
  },
  {
   "cell_type": "markdown",
   "metadata": {},
   "source": [
    "### Эмпирическая функция и плотность распределения\n",
    "\n",
    "Пусть рассматривается числовой признак $X$, принимающий значения $x_{i},i=\\overline{1,n}.$\n",
    "\n",
    "Тогда __эмпирическая кумулятивная функция распределения__ (CDF) задается как\n",
    "\n",
    "$\\hat{F}(x)=\\frac{1}{n}\\;\\sum_{i=1}^{n}I\\left(x_{i}\\leqslant x\\right)$,\n",
    "\n",
    "где индикаторная переменная $I$ принимает значение $1$, когда указанное в качестве аргумента условие выполняется, или $0$ в противном случае. Для каждой точки $x_{i}$ используется одинаковый коэффициент $\\frac{1}{n}$. "
   ]
  },
  {
   "cell_type": "code",
   "execution_count": null,
   "metadata": {},
   "outputs": [],
   "source": [
    "def ECDF(data, x):\n",
    "    counter = 0\n",
    "    for v in data:\n",
    "        if v <= x:\n",
    "            counter += 1\n",
    "    return counter / len(data)"
   ]
  },
  {
   "cell_type": "code",
   "execution_count": null,
   "metadata": {},
   "outputs": [],
   "source": [
    "samples = df['sepal length']\n",
    "npoints = 500\n",
    "dx = (samples.max()-samples.min())/npoints\n",
    "\n",
    "xlist = [samples.min()+dx*i for i in range(npoints)]\n",
    "ylist = [ECDF(samples, x) for x in xlist]"
   ]
  },
  {
   "cell_type": "code",
   "execution_count": null,
   "metadata": {},
   "outputs": [],
   "source": [
    "import matplotlib.pyplot as plt\n",
    "\n",
    "plt.plot(xlist, ylist,'g'); # green color"
   ]
  },
  {
   "cell_type": "markdown",
   "metadata": {},
   "source": [
    "__Эмпирической плотностью распределения__ (PDF) называется функция\n",
    "\n",
    "$\\hat{f}\\left(x\\right)=\\frac{1}{\\triangle x}\\left(\\hat{F}\\left(x+\\triangle x\\right)-\\hat{F}\\left(x\\right)\\right),$\n",
    "\n",
    "где $\\hat{F}\\left(x+\\triangle x\\right)-\\hat{F}\\left(x\\right)$ – это частота попадания значений $x_{i}$ в полуинтервал $\\left[x,\\,x+\\triangle x\\right)$."
   ]
  },
  {
   "cell_type": "code",
   "execution_count": null,
   "metadata": {},
   "outputs": [],
   "source": [
    "nbins = 25\n",
    "dxb = (samples.max()-samples.min())/nbins\n",
    "\n",
    "xlist = [samples.min()+dxb*i for i in range(nbins)]\n",
    "zlist = [(ECDF(samples, x+dxb)-ECDF(samples, x))/dx for x in xlist]"
   ]
  },
  {
   "cell_type": "code",
   "execution_count": null,
   "metadata": {},
   "outputs": [],
   "source": [
    "plt.plot(xlist, zlist,'r'); # red color"
   ]
  },
  {
   "cell_type": "code",
   "execution_count": null,
   "metadata": {},
   "outputs": [],
   "source": [
    "df['sepal length'].plot.hist(density=True);"
   ]
  },
  {
   "cell_type": "code",
   "execution_count": null,
   "metadata": {},
   "outputs": [],
   "source": [
    "df['sepal length'].plot.hist(color = 'yellow', edgecolor = 'black', bins = 20, density=True);"
   ]
  },
  {
   "cell_type": "markdown",
   "metadata": {},
   "source": [
    "### Ковариация и корреляция между признаками\n",
    "\n",
    "__Ковариация__ — это мера линейной зависимости двух случайных величин."
   ]
  },
  {
   "cell_type": "code",
   "execution_count": null,
   "metadata": {},
   "outputs": [],
   "source": [
    "df.cov()"
   ]
  },
  {
   "cell_type": "markdown",
   "metadata": {},
   "source": [
    "__Корреляция__ (корреляция Пирсона) — это статистическая взаимосвязь двух или более случайных величин."
   ]
  },
  {
   "cell_type": "code",
   "execution_count": null,
   "metadata": {},
   "outputs": [],
   "source": [
    "df.corr()"
   ]
  },
  {
   "cell_type": "markdown",
   "metadata": {},
   "source": [
    "## Загрузка котировок акций из Yahoo Finance"
   ]
  },
  {
   "cell_type": "code",
   "execution_count": null,
   "metadata": {},
   "outputs": [],
   "source": [
    "from pandas_datareader import data as pdr\n",
    "import datetime as dt"
   ]
  },
  {
   "cell_type": "code",
   "execution_count": null,
   "metadata": {},
   "outputs": [],
   "source": [
    "aapl = pdr.get_data_yahoo('AAPL', \n",
    "                          start=dt.datetime(2016, 1, 1), \n",
    "                          end=dt.datetime(2021, 6, 30))\n",
    "aapl.head()"
   ]
  },
  {
   "cell_type": "markdown",
   "metadata": {},
   "source": [
    "Извлечем первые записи с котировками за март 2021 г.:"
   ]
  },
  {
   "cell_type": "code",
   "execution_count": null,
   "metadata": {},
   "outputs": [],
   "source": [
    "aapl.loc[pd.Timestamp('2021-03-01'):pd.Timestamp('2021-03-31')].head()"
   ]
  },
  {
   "cell_type": "markdown",
   "metadata": {},
   "source": [
    "Извлечем первые записи с котировками за 2021 г.:"
   ]
  },
  {
   "cell_type": "code",
   "execution_count": null,
   "metadata": {},
   "outputs": [],
   "source": [
    "aapl.loc['2021'].head(15)"
   ]
  },
  {
   "cell_type": "markdown",
   "metadata": {},
   "source": [
    "Нарисуем график котировок закрытия:"
   ]
  },
  {
   "cell_type": "code",
   "execution_count": null,
   "metadata": {},
   "outputs": [],
   "source": [
    "aapl['Close'].plot.line(grid=True,title='Котировки акций компании Apple в 2016-2021 гг.');"
   ]
  },
  {
   "cell_type": "markdown",
   "metadata": {},
   "source": [
    "Произведем расчет дневных доходностей акции:"
   ]
  },
  {
   "cell_type": "code",
   "execution_count": null,
   "metadata": {},
   "outputs": [],
   "source": [
    "d_close = aapl[['Adj Close']]\n",
    "d_close"
   ]
  },
  {
   "cell_type": "code",
   "execution_count": null,
   "metadata": {},
   "outputs": [],
   "source": [
    "d_pct_ch = d_close.pct_change()\n",
    "d_pct_ch"
   ]
  },
  {
   "cell_type": "code",
   "execution_count": null,
   "metadata": {},
   "outputs": [],
   "source": [
    "d_pct_ch2 = d_close / d_close.shift(1) - 1\n",
    "d_pct_ch2"
   ]
  },
  {
   "cell_type": "code",
   "execution_count": null,
   "metadata": {},
   "outputs": [],
   "source": [
    "d_pct_ch.describe()"
   ]
  },
  {
   "cell_type": "code",
   "execution_count": null,
   "metadata": {},
   "outputs": [],
   "source": [
    "d_pct_ch.hist(bins=50);"
   ]
  },
  {
   "cell_type": "markdown",
   "metadata": {},
   "source": [
    "Произведем загрузку котировок нескольких акций:"
   ]
  },
  {
   "cell_type": "code",
   "execution_count": null,
   "metadata": {},
   "outputs": [],
   "source": [
    "def get(tickers, startdate, enddate):\n",
    "    def data(ticker):\n",
    "        return (pdr.get_data_yahoo(ticker, start=startdate, end=enddate))\n",
    "    datas = map (data, tickers)\n",
    "    return(pd.concat(datas, keys=tickers, names=['Ticker', 'Date']))"
   ]
  },
  {
   "cell_type": "code",
   "execution_count": null,
   "metadata": {},
   "outputs": [],
   "source": [
    "tickers = ['AAPL', 'MSFT', 'IBM', 'GOOG']\n",
    "all_data = get(tickers, dt.datetime(2020, 1, 1), dt.datetime(2020, 12, 31))\n",
    "all_data.head()"
   ]
  },
  {
   "cell_type": "code",
   "execution_count": null,
   "metadata": {},
   "outputs": [],
   "source": [
    "all_data.index"
   ]
  },
  {
   "cell_type": "code",
   "execution_count": null,
   "metadata": {},
   "outputs": [],
   "source": [
    "all_data.columns"
   ]
  },
  {
   "cell_type": "code",
   "execution_count": null,
   "metadata": {},
   "outputs": [],
   "source": [
    "daily_close_pr = all_data[['Adj Close']].reset_index().pivot('Date', 'Ticker', 'Adj Close')\n",
    "daily_close_pr"
   ]
  },
  {
   "cell_type": "code",
   "execution_count": null,
   "metadata": {},
   "outputs": [],
   "source": [
    "daily_pct_change = daily_close_pr.pct_change()\n",
    "daily_pct_change"
   ]
  },
  {
   "cell_type": "code",
   "execution_count": null,
   "metadata": {},
   "outputs": [],
   "source": [
    "daily_pct_change.hist(bins=50, sharex=True, figsize=(12,8));"
   ]
  },
  {
   "cell_type": "markdown",
   "metadata": {},
   "source": [
    "### Задание на лабораторную работу №1"
   ]
  },
  {
   "cell_type": "markdown",
   "metadata": {},
   "source": [
    "В соответствии с индивидуальным заданием, указанным в записной книжке команды, сделайте необходимые расчеты и постройте следующие визуализации:\n",
    "\n",
    "1. При помощи модуля `pandas_datareader` считайте котировки указанных в индивидуальным задании акций за указанный период времени.\n",
    "\n",
    "2. Вычислите дневные доходности акций.\n",
    "\n",
    "3. В соответствии с индивидуальным заданием визуализируйте динамику акции на графике.\n",
    "\n",
    "4. В соответствии с индивидуальным заданием визуализируйте дневную доходность акции на графике.\n",
    "\n",
    "5. В соответствии с индивидуальным заданием постройте и визуализируйте эмпирическую функцию распределения и эмпирическую плотность распределения дневной доходности акции.\n",
    "\n",
    "6. В соответствии с индивидуальным заданием визуализируйте диаграмму рассеяния для пары акций\n"
   ]
  },
  {
   "cell_type": "code",
   "execution_count": null,
   "metadata": {},
   "outputs": [],
   "source": []
  }
 ],
 "metadata": {
  "kernelspec": {
   "display_name": "Python 3 (ipykernel)",
   "language": "python",
   "name": "python3"
  },
  "language_info": {
   "codemirror_mode": {
    "name": "ipython",
    "version": 3
   },
   "file_extension": ".py",
   "mimetype": "text/x-python",
   "name": "python",
   "nbconvert_exporter": "python",
   "pygments_lexer": "ipython3",
   "version": "3.9.12"
  }
 },
 "nbformat": 4,
 "nbformat_minor": 4
}
