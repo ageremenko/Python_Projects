{
 "cells": [
  {
   "cell_type": "markdown",
   "metadata": {
    "id": "8VmeMIEuP-Ru"
   },
   "source": [
    "# Практика по базовой математической статистике для Data scientist"
   ]
  },
  {
   "cell_type": "markdown",
   "metadata": {
    "id": "z-yxRXVtP-Ru"
   },
   "source": [
    "# Практика 3 - построение доверительной оценки"
   ]
  },
  {
   "cell_type": "markdown",
   "metadata": {
    "id": "sf9xOGsoP-Rv"
   },
   "source": [
    "На практическом занятии научимся строить доверительные интервалы и выделять аномалии при помощи python. \n",
    "\n",
    "- Строим доверительный интервал для цен акций из yahoo finance при помощи scipy, numpy, pandas\n",
    "-  Делаем выводы по наличию или отсутствию аномальных событий"
   ]
  },
  {
   "cell_type": "markdown",
   "metadata": {
    "id": "sEbuMJzHP-Rv"
   },
   "source": [
    "Для начала импортируем все полезные библитеки и настроим ноутбук"
   ]
  },
  {
   "cell_type": "code",
   "execution_count": 1,
   "metadata": {
    "colab": {
     "base_uri": "https://localhost:8080/"
    },
    "id": "r7__tpQRP-Rw",
    "outputId": "890ec9ba-8ccf-4a45-8133-81281f3b1a97"
   },
   "outputs": [],
   "source": [
    "import pandas as pd\n",
    "import numpy as np\n",
    "import matplotlib.pyplot as plt\n",
    "import seaborn as sns\n",
    "import scipy.special as sps\n",
    "from scipy import *\n",
    "import warnings\n",
    "from scipy.stats import kurtosis\n",
    "from scipy.stats import skew\n",
    "from scipy import stats\n",
    "import statsmodels.api as sm\n",
    "\n",
    "%matplotlib inline\n",
    "plt.rcParams[\"figure.figsize\"] = (10.0, 7.0)\n",
    "warnings.filterwarnings(\"ignore\")"
   ]
  },
  {
   "cell_type": "markdown",
   "metadata": {
    "id": "v-SVPmyXP-Rw"
   },
   "source": [
    "В этой практике мы поработаем с реальными финансовыми данными. \n",
    "Наверняка каждый из нас хоть раз покупал доллары в надежде немного заработать на разнице курсов покупки и продажи. Но не каждый знает, что помимо валют есть ещё и другие финансовые инструменты - например, акции или облигации, с которыми работают профессиональные инвесторы на специальной площадке для купли и продаже - бирже.\n",
    "\n",
    "Данные о ценах финансовых инструментов называются котировками, и сегодня мы с вами представим себя инвесторами и проанализируем реальные котировки самых настоящих акций.\n",
    "\n",
    "Мы будем доставать их из сервиса yahoo finance, и для этого помощи bash магии установим несколько нужных библиотек."
   ]
  },
  {
   "cell_type": "code",
   "execution_count": 7,
   "metadata": {
    "colab": {
     "base_uri": "https://localhost:8080/"
    },
    "id": "CftB5QjP40rO",
    "outputId": "90b6dce4-fa07-4f3f-d04f-176e73d968a5"
   },
   "outputs": [
    {
     "ename": "SyntaxError",
     "evalue": "invalid syntax (<ipython-input-7-41cba0643138>, line 1)",
     "output_type": "error",
     "traceback": [
      "\u001b[1;36m  File \u001b[1;32m\"<ipython-input-7-41cba0643138>\"\u001b[1;36m, line \u001b[1;32m1\u001b[0m\n\u001b[1;33m    pip install yfinance\u001b[0m\n\u001b[1;37m              ^\u001b[0m\n\u001b[1;31mSyntaxError\u001b[0m\u001b[1;31m:\u001b[0m invalid syntax\n"
     ]
    }
   ],
   "source": [
    "pip install yfinance\n",
    "\n"
   ]
  },
  {
   "cell_type": "code",
   "execution_count": 3,
   "metadata": {
    "colab": {
     "base_uri": "https://localhost:8080/"
    },
    "id": "RTuj6oLLP-Ry",
    "outputId": "9c7f1306-1428-4d9c-fa43-54a59b404d9d",
    "scrolled": true
   },
   "outputs": [
    {
     "name": "stdout",
     "output_type": "stream",
     "text": [
      "Couldn't find program: 'bash'\n"
     ]
    }
   ],
   "source": [
    "%%bash\n",
    "pip install pandas-datareader"
   ]
  },
  {
   "cell_type": "code",
   "execution_count": 4,
   "metadata": {
    "id": "HNcAbzaBP-Ry"
   },
   "outputs": [
    {
     "ename": "ModuleNotFoundError",
     "evalue": "No module named 'yfinance'",
     "output_type": "error",
     "traceback": [
      "\u001b[1;31m---------------------------------------------------------------------------\u001b[0m",
      "\u001b[1;31mModuleNotFoundError\u001b[0m                       Traceback (most recent call last)",
      "\u001b[1;32m<ipython-input-4-d278f2e6483f>\u001b[0m in \u001b[0;36m<module>\u001b[1;34m\u001b[0m\n\u001b[0;32m      1\u001b[0m \u001b[1;32mimport\u001b[0m \u001b[0mpandas_datareader\u001b[0m \u001b[1;32mas\u001b[0m \u001b[0mpdr\u001b[0m\u001b[1;33m\u001b[0m\u001b[1;33m\u001b[0m\u001b[0m\n\u001b[0;32m      2\u001b[0m \u001b[1;32mfrom\u001b[0m \u001b[0mdatetime\u001b[0m \u001b[1;32mimport\u001b[0m \u001b[0mdatetime\u001b[0m\u001b[1;33m\u001b[0m\u001b[1;33m\u001b[0m\u001b[0m\n\u001b[1;32m----> 3\u001b[1;33m \u001b[1;32mimport\u001b[0m \u001b[0myfinance\u001b[0m \u001b[1;32mas\u001b[0m \u001b[0myf\u001b[0m\u001b[1;33m\u001b[0m\u001b[1;33m\u001b[0m\u001b[0m\n\u001b[0m",
      "\u001b[1;31mModuleNotFoundError\u001b[0m: No module named 'yfinance'"
     ]
    }
   ],
   "source": [
    "import pandas_datareader as pdr\n",
    "from datetime import datetime\n",
    "import yfinance as yf"
   ]
  },
  {
   "cell_type": "code",
   "execution_count": null,
   "metadata": {
    "id": "MkDED-XOP-Ry"
   },
   "outputs": [],
   "source": [
    "# Собираем котировки за интересующий период.\n",
    "start_date = datetime(2018, 1, 1)\n",
    "end_date = datetime(2019, 8, 31)"
   ]
  },
  {
   "cell_type": "code",
   "execution_count": null,
   "metadata": {
    "colab": {
     "base_uri": "https://localhost:8080/"
    },
    "id": "SdZnhpVTP-Rz",
    "outputId": "19884e7a-6804-43fb-f5a7-471cd895b5a0",
    "scrolled": true
   },
   "outputs": [],
   "source": [
    "df = yf.download(\"GOOG\", start=start_date, end=end_date)"
   ]
  },
  {
   "cell_type": "code",
   "execution_count": null,
   "metadata": {
    "colab": {
     "base_uri": "https://localhost:8080/"
    },
    "id": "jWF-6byjP-Rz",
    "outputId": "c3c2283c-d96c-4828-b785-9a427d5d47b1"
   },
   "outputs": [],
   "source": [
    "df.info()"
   ]
  },
  {
   "cell_type": "code",
   "execution_count": null,
   "metadata": {
    "colab": {
     "base_uri": "https://localhost:8080/",
     "height": 235
    },
    "id": "5HDfZRGtP-Rz",
    "outputId": "2665d877-5476-4c2a-a89a-8c4ab2781f44"
   },
   "outputs": [],
   "source": [
    "# Переведем заголовки столбцов в нижний регистр и посмотрим на данные\n",
    "df.columns = map(str.lower, df.columns)\n",
    "df.head()"
   ]
  },
  {
   "cell_type": "markdown",
   "metadata": {
    "id": "ayI40OzPP-R0"
   },
   "source": [
    "Для изучения выберем разницу между ценой закрытия и ценой открытия."
   ]
  },
  {
   "cell_type": "code",
   "execution_count": null,
   "metadata": {
    "id": "olSrtRPqP-R0"
   },
   "outputs": [],
   "source": [
    "# Готовим новую метрику.\n",
    "df[\"diff_price\"] = df.close - df.open"
   ]
  },
  {
   "cell_type": "markdown",
   "metadata": {
    "id": "5nc8B84uP-R0"
   },
   "source": [
    "Для построения доверительного интервала необходимо, чтобы исследумая величина была распределена по Гауссову закону.\n",
    "Поэтому воспользуемся функцией из первой практики для разведочного анализа."
   ]
  },
  {
   "cell_type": "code",
   "execution_count": null,
   "metadata": {
    "colab": {
     "base_uri": "https://localhost:8080/",
     "height": 310
    },
    "id": "bHwsCubDP-R0",
    "outputId": "e183814a-1d9f-42e8-cf47-b6c2d73266ba"
   },
   "outputs": [],
   "source": [
    "df.diff_price.plot()\n",
    "plt.title(\"График разницы между ценой закрытия и открытия\")"
   ]
  },
  {
   "cell_type": "code",
   "execution_count": null,
   "metadata": {
    "id": "Oq56qMDmP-R0"
   },
   "outputs": [],
   "source": [
    "def my_basic_research(df=df, column = \"diff_price\"):\n",
    "    print(\"Базовые метрики\")\n",
    "    print(df[column].describe())\n",
    "    print(\"------------------------------------\")\n",
    "    \n",
    "    print(\"Самые популярные значения метрики, топ 5\")\n",
    "    print(df[column].value_counts().nlargest(5))\n",
    "    print(\"------------------------------------\")\n",
    "    \n",
    "    print(\"Эксцесс \", kurtosis(df[column]))\n",
    "    print(\"Ассиметрия \", skew(df[column]))\n",
    "    \n",
    "    sns.distplot(df[column])\n",
    "    plt.title(\"Распределение метрики\")"
   ]
  },
  {
   "cell_type": "code",
   "execution_count": null,
   "metadata": {
    "colab": {
     "base_uri": "https://localhost:8080/",
     "height": 653
    },
    "id": "Gc47AXmBP-R1",
    "outputId": "85e06671-1772-40e2-a03c-c164b6f85141",
    "scrolled": false
   },
   "outputs": [],
   "source": [
    "my_basic_research(column = \"diff_price\")"
   ]
  },
  {
   "cell_type": "markdown",
   "metadata": {
    "id": "M5iN9FDfP-R1"
   },
   "source": [
    "В целом наше распределение близко к нормальному, несмотря на остроконечный пик и наличие выбросов. \n",
    "Однако для уверенности проверим его при помощи графика QQ plot - https://en.wikipedia.org/wiki/Q%E2%80%93Q_plot\n",
    "\n",
    "График сравнивает квантили выборки и выбранноого распределения - в нашем случае, нормального."
   ]
  },
  {
   "cell_type": "code",
   "execution_count": null,
   "metadata": {
    "colab": {
     "base_uri": "https://localhost:8080/",
     "height": 295
    },
    "id": "2wHRgVl-P-R1",
    "outputId": "8aed67c2-c907-4104-a129-b15c84f07c33"
   },
   "outputs": [],
   "source": [
    "sm.qqplot(df.diff_price, fit = True)\n",
    "plt.title(\"QQ plot\")\n",
    "plt.show()"
   ]
  },
  {
   "cell_type": "markdown",
   "metadata": {
    "id": "7tVXqg9QP-R1"
   },
   "source": [
    "Кажется, что можно использовать стандартные доверительные интервалы для нормального распределения. Для этого воспользуемся функцией https://docs.scipy.org/doc/scipy/reference/generated/scipy.stats.norm.html"
   ]
  },
  {
   "cell_type": "code",
   "execution_count": null,
   "metadata": {
    "id": "aTZcgylVP-R2"
   },
   "outputs": [],
   "source": [
    "def my_norm_confidence(df=df, column = \"diff_price\", alpha = 0.95):\n",
    "    interval = stats.norm.interval(alpha, loc=df[column].mean(), scale=df[column].std())\n",
    "    return interval"
   ]
  },
  {
   "cell_type": "code",
   "execution_count": null,
   "metadata": {
    "colab": {
     "base_uri": "https://localhost:8080/"
    },
    "id": "LyD6ONlIP-R2",
    "outputId": "35fa44d0-2b7e-42be-fee3-72203f923942"
   },
   "outputs": [],
   "source": [
    "confidence = my_norm_confidence()\n",
    "print(confidence)"
   ]
  },
  {
   "cell_type": "markdown",
   "metadata": {
    "id": "Ua7Y0Ev-P-R2"
   },
   "source": [
    "При доверительной вероятности 95 % средняя разница между ценой закрытия и открытия не выйдет за этот интервал.\n",
    "Отметим на графике полученный коридор."
   ]
  },
  {
   "cell_type": "code",
   "execution_count": null,
   "metadata": {
    "colab": {
     "base_uri": "https://localhost:8080/",
     "height": 310
    },
    "id": "11eb2MblP-R2",
    "outputId": "58fc54b7-421b-4dc5-b147-6eedf354a6f8"
   },
   "outputs": [],
   "source": [
    "df.diff_price.plot()\n",
    "plt.axhline(y=confidence[1], color=\"g\", linestyle=\"-\")\n",
    "plt.axhline(y=confidence[0], color=\"r\", linestyle=\"-\")\n",
    "plt.title(\"Доверительный интервал\")"
   ]
  },
  {
   "cell_type": "markdown",
   "metadata": {
    "id": "14iRY-jsP-R2"
   },
   "source": [
    "## Отбор аномалий при помощи доверительного интервала"
   ]
  },
  {
   "cell_type": "markdown",
   "metadata": {
    "id": "KTzAsL4lP-R2"
   },
   "source": [
    "А если нам понадобится отметить аномальные события, выходящие за зеленую границу, то это можно сделать следующим образом"
   ]
  },
  {
   "cell_type": "code",
   "execution_count": null,
   "metadata": {
    "id": "YHUOgnFCP-R3"
   },
   "outputs": [],
   "source": [
    "df[\"anomaly_big\"] = np.where(df.diff_price > confidence[1], 1,0)"
   ]
  },
  {
   "cell_type": "markdown",
   "metadata": {
    "id": "ZJMpL_qjP-R3"
   },
   "source": [
    "Теперь они готовы к дальнейшему исследованию."
   ]
  },
  {
   "cell_type": "code",
   "execution_count": null,
   "metadata": {
    "colab": {
     "base_uri": "https://localhost:8080/",
     "height": 297
    },
    "id": "m_MCB0zDP-R3",
    "outputId": "00ecefa8-e17e-467f-d7ce-a84aa811bcb1"
   },
   "outputs": [],
   "source": [
    "df[df.anomaly_big == 1].describe()"
   ]
  },
  {
   "cell_type": "markdown",
   "metadata": {
    "id": "0YSiLKU3P-R3"
   },
   "source": [
    "# Мини домашка"
   ]
  },
  {
   "cell_type": "markdown",
   "metadata": {
    "id": "UYe_62hYP-R3"
   },
   "source": [
    "Необходимо построить для тех же данных доверительный интервал с доверительной вероятностью 90 %\n",
    "Сколько аномальных событий находится выше верхней доверительной границы?"
   ]
  }
 ],
 "metadata": {
  "colab": {
   "collapsed_sections": [],
   "name": "stat_practice3_wo_answers.ipynb",
   "provenance": []
  },
  "kernelspec": {
   "display_name": "Python 3",
   "language": "python",
   "name": "python3"
  },
  "language_info": {
   "codemirror_mode": {
    "name": "ipython",
    "version": 3
   },
   "file_extension": ".py",
   "mimetype": "text/x-python",
   "name": "python",
   "nbconvert_exporter": "python",
   "pygments_lexer": "ipython3",
   "version": "3.7.6"
  }
 },
 "nbformat": 4,
 "nbformat_minor": 1
}
