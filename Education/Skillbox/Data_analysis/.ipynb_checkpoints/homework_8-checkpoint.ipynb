{
 "cells": [
  {
   "cell_type": "markdown",
   "metadata": {
    "colab_type": "text",
    "id": "c2KtXmjxtgw-"
   },
   "source": [
    "# Исключения\n",
    "## Домашняя работа"
   ]
  },
  {
   "cell_type": "markdown",
   "metadata": {
    "colab_type": "text",
    "id": "0Vhx-zKitgxA"
   },
   "source": [
    "### Вопросы по лекциям."
   ]
  },
  {
   "cell_type": "markdown",
   "metadata": {
    "colab_type": "text",
    "id": "14lleKewtgxC"
   },
   "source": [
    "Как поймать вообще все ошибки, которые могут произойти?"
   ]
  },
  {
   "cell_type": "markdown",
   "metadata": {
    "colab_type": "text",
    "id": "VQnYGkVKtgxD"
   },
   "source": [
    "**Ответ:** Весь код заключить под 'try:'. После этого написать просто 'except:'.\n"
   ]
  },
  {
   "cell_type": "markdown",
   "metadata": {
    "colab_type": "text",
    "id": "paSc2JE6tgxD"
   },
   "source": [
    "Сколько раз подряд можно указывать except?"
   ]
  },
  {
   "cell_type": "markdown",
   "metadata": {
    "colab_type": "text",
    "id": "bU0lzJPBtgxE"
   },
   "source": [
    "**Ответ:** Столько раз, колько строчек в коде. Каждую из них можно поместить в блок 'try-except'.\n"
   ]
  },
  {
   "cell_type": "markdown",
   "metadata": {
    "colab_type": "text",
    "id": "9wQ-yXpGtgxF"
   },
   "source": [
    "Вы хотите с помощью print вывести название ошибки в консоль, как это сделать?"
   ]
  },
  {
   "cell_type": "markdown",
   "metadata": {
    "colab_type": "text",
    "id": "iE1iqRZctgxH"
   },
   "source": [
    "**Ответ:** Присвоить название переменной, написав после названия ошибки 'as exc', где 'exc' - имя переменной. Затем вывести внутри функции вывода 'print()', указав имя переменной внутри фигурных скобок '{exc}'.\n"
   ]
  },
  {
   "cell_type": "markdown",
   "metadata": {
    "colab_type": "text",
    "id": "EDAi3ZFBtgxI"
   },
   "source": [
    "Вы хотите с помощью print вывести параметры ошибки в консоль, как это сделать?"
   ]
  },
  {
   "cell_type": "markdown",
   "metadata": {
    "colab_type": "text",
    "id": "qWimgtF3tgxK"
   },
   "source": [
    "**Ответ:** Аналогично как и с выводом имени ошибки, только выводим ещё и параметры ошибки, написав внутри вывода '{exc.args}'\n"
   ]
  },
  {
   "cell_type": "markdown",
   "metadata": {
    "colab_type": "text",
    "id": "leOCJIlRtgxK"
   },
   "source": [
    "Что такое DeprecationWarning?"
   ]
  },
  {
   "cell_type": "markdown",
   "metadata": {
    "colab_type": "text",
    "id": "KyaynuyvtgxL"
   },
   "source": [
    "**Ответ:** Предупреждение о некой характерной черте написания кода, которая в скором времени будет изменена разработчиками языка."
   ]
  },
  {
   "cell_type": "markdown",
   "metadata": {
    "colab_type": "text",
    "id": "oxgCUHzotgxM"
   },
   "source": [
    "### Разминочные задания. \n",
    "<br>\n",
    "\n",
    "Вам даны две функции. Поисследуйте, какие ошибки могут возникнуть при их реализации. Обработайте эти ошибки."
   ]
  },
  {
   "cell_type": "code",
   "execution_count": 19,
   "metadata": {
    "colab": {},
    "colab_type": "code",
    "id": "X4nsMUUAtgxN"
   },
   "outputs": [
    {
     "name": "stdout",
     "output_type": "stream",
     "text": [
      "enter a number: a\n",
      "An error invalid literal for int() with base 10: 'a' has happened. Please, input correct values next time!\n",
      "enter a number: 1\n",
      "enter another number: 0\n",
      "An error division by zero has happened. Please, input correct values next time!\n"
     ]
    }
   ],
   "source": [
    "def div():\n",
    "    for i in range(2):\n",
    "        try:\n",
    "            x = int(input(\"enter a number: \"))\n",
    "            y = int(input(\"enter another number: \"))\n",
    "            print(x, '/', y, '=', x/y)\n",
    "        except (ZeroDivisionError, ValueError) as exc:\n",
    "            print(f'An error with {exc} has happened. Please, input correct values next time!')\n",
    "div()"
   ]
  },
  {
   "cell_type": "code",
   "execution_count": 4,
   "metadata": {
    "colab": {},
    "colab_type": "code",
    "id": "hoDmt-nStgxS"
   },
   "outputs": [
    {
     "name": "stdout",
     "output_type": "stream",
     "text": [
      "sumOfPairs =  [4, 6, 8]\n",
      "An error with can only concatenate str (not \"int\") to str has happened into function sumOfPairs. Please, input arrays with correct values next time!\n",
      "An error with list index out of range has happened into function sumOfPairs. Please, input arrays with correct values next time!\n",
      "An error with sumOfPairs() missing 1 required positional argument: 'L2' has happened out of function. Please, input arrays with correct values next time!\n",
      "An error with name 'a' is not defined has happened out of function. Please, input arrays with correct values next time!\n"
     ]
    }
   ],
   "source": [
    "def sumOfPairs(L1, L2):\n",
    "    sum = 0\n",
    "    sumOfPairs = []\n",
    "    try:\n",
    "        for i in range(len(L1)):\n",
    "            sumOfPairs.append(L1[i]+L2[i])\n",
    "        print(\"sumOfPairs = \", sumOfPairs)\n",
    "    except (TypeError, IndexError) as exc:\n",
    "        print(f'An error with {exc} has happened into function sumOfPairs. Please, input arrays with correct values next time!')\n",
    "    \n",
    "      \n",
    "sumOfPairs([1, 2, 3], [3, 4, 5])\n",
    "\n",
    "sumOfPairs(['a', 'b', 'c'], [3, 4, 5])\n",
    "\n",
    "sumOfPairs([1, 2, 3, 4], [3, 4, 5])\n",
    "\n",
    "try:\n",
    "    sumOfPairs([1, 2, 3])\n",
    "except TypeError as exc:\n",
    "    print(f'An error with {exc} has happened out of function. Please, input arrays with correct values next time!')\n",
    "try:    \n",
    "    sumOfPairs([a, b, c], [3, 4, 5])\n",
    "    print('Hi')\n",
    "except NameError as exc:\n",
    "    print(f'An error with {exc} has happened out of function. Please, input arrays with correct values next time!')\n"
   ]
  },
  {
   "cell_type": "markdown",
   "metadata": {
    "colab_type": "text",
    "id": "geX0-Zq6tgxU"
   },
   "source": [
    "### Задание 1.\n",
    "\n",
    "Есть файл с протоколом регистраций пользователей на сайте (registrations.txt).<br>\n",
    "Каждая строка содержит информацию о имени, электронной почте и возрасте человека. <br><br>\n",
    "\n",
    "\n",
    "Надо проверить данные из файла, для каждой строки:\n",
    " - присутсвуют все три поля\n",
    " - поле имени содержит только буквы\n",
    " - поле email содержит @ и .\n",
    " - поле возраст является числом от 10 до 99<br>\n",
    "\n",
    "В результате проверки нужно сформировать два файла\n",
    " - registrations_good.log для правильных данных, записывать строки как есть\n",
    "- registrations_bad.log для ошибочных, записывать строку и вид ошибки.<br>\n",
    "\n",
    "Для валидации строки данных написать метод, который может выкидывать исключения:\n",
    " - НЕ присутсвуют все три поля: ValueError\n",
    " - поле имени содержит НЕ только буквы: NotNameError (кастомное исключение)\n",
    " - поле email НЕ содержит @ и .(точку): NotEmailError (кастомное исключение)\n",
    " - поле возраст НЕ является числом от 10 до 99: ValueError\n",
    "Вызов метода обернуть в try-except."
   ]
  },
  {
   "cell_type": "code",
   "execution_count": 1,
   "metadata": {
    "colab": {},
    "colab_type": "code",
    "id": "Eq2Ax0LntgxW"
   },
   "outputs": [],
   "source": [
    "### YOUR CODE HERE ###\n",
    "\n",
    "class NotNameError(Exception):\n",
    "    pass\n",
    "\n",
    "\n",
    "class NotEmailError(Exception):\n",
    "    pass\n",
    "\n",
    "\n",
    "f = open('registrations.txt', 'r', encoding='utf-8')\n",
    "good = open('registrations_good.log', 'w', encoding='utf-8')\n",
    "bad = open('registrations_bad.log', 'w', encoding='utf-8')\n",
    "\n",
    "for line in f:\n",
    "    if len(line.split()) != 3:\n",
    "        try:\n",
    "            raise ValueError('All three fields are NOT presented!')\n",
    "        except ValueError as exc:\n",
    "            bad.write(line.rstrip() + ' ' + str(type(exc)) + ': ' + str(exc) + '\\n')\n",
    "\n",
    "    elif not line.split()[0].isalpha():\n",
    "        try:\n",
    "            raise NotNameError('The name field contains NOT only letters!')\n",
    "        except NotNameError as exc:\n",
    "            bad.write(line.rstrip() + ' ' + str(type(exc)) + ': ' + str(exc) + '\\n')\n",
    "\n",
    "    elif not (('@' in line.split()[1]) and ('.' in line.split()[1])):\n",
    "        try:\n",
    "            raise NotEmailError(\"The email field does NOT contain '@' and '.'!\")\n",
    "        except NotEmailError as exc:\n",
    "            bad.write(line.rstrip() + ' ' + str(type(exc)) + ': ' + str(exc) + '\\n')\n",
    "\n",
    "    elif (int(line.split()[2]) < 10) or (int(line.split()[2]) > 99):\n",
    "        try:\n",
    "            raise ValueError('The age field is NOT a number between 10 and 99!')\n",
    "        except ValueError as exc:\n",
    "            bad.write(line.rstrip() + ' ' + str(type(exc)) + ': ' + str(exc) + '\\n')\n",
    "\n",
    "    else:\n",
    "        good.write(line)"
   ]
  },
  {
   "cell_type": "code",
   "execution_count": null,
   "metadata": {},
   "outputs": [],
   "source": []
  }
 ],
 "metadata": {
  "colab": {
   "name": "jun_anl_exeptions.ipynb",
   "provenance": [],
   "version": "0.3.2"
  },
  "kernelspec": {
   "display_name": "Python 3 (ipykernel)",
   "language": "python",
   "name": "python3"
  },
  "language_info": {
   "codemirror_mode": {
    "name": "ipython",
    "version": 3
   },
   "file_extension": ".py",
   "mimetype": "text/x-python",
   "name": "python",
   "nbconvert_exporter": "python",
   "pygments_lexer": "ipython3",
   "version": "3.9.12"
  }
 },
 "nbformat": 4,
 "nbformat_minor": 1
}
