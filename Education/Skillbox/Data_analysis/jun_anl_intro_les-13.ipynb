{
 "cells": [
  {
   "cell_type": "markdown",
   "metadata": {},
   "source": [
    "# Введение в Python – 3\n",
    "\n",
    "*Алла Тамбовцева, НИУ ВШЭ*"
   ]
  },
  {
   "cell_type": "markdown",
   "metadata": {},
   "source": [
    "## Переменные в Python\n",
    "\n",
    "### Создание переменных в Python \n",
    "\n",
    "Переменные в программировании можно рассматривать как хранилища значений – «контейнеры», в которые мы что-то кладём. Например, мы можем сохранить возраст интересующего нас человека – создать переменную `age` и присвоить ей значение 27:"
   ]
  },
  {
   "cell_type": "code",
   "execution_count": 1,
   "metadata": {},
   "outputs": [],
   "source": [
    "age = 27  # 27 лет"
   ]
  },
  {
   "cell_type": "markdown",
   "metadata": {},
   "source": [
    "Или сохранить имя человека в переменную `name`:"
   ]
  },
  {
   "cell_type": "code",
   "execution_count": 2,
   "metadata": {},
   "outputs": [],
   "source": [
    "name = \"Olga\"  # текст всегда вводится в кавычках"
   ]
  },
  {
   "cell_type": "markdown",
   "metadata": {},
   "source": [
    "Теперь мы можем вывести значения этих переменных на экран с помощью функции `print()`:"
   ]
  },
  {
   "cell_type": "code",
   "execution_count": 3,
   "metadata": {},
   "outputs": [
    {
     "name": "stdout",
     "output_type": "stream",
     "text": [
      "Olga\n",
      "27\n"
     ]
    }
   ],
   "source": [
    "# каждый print() выводит результат с новой строки\n",
    "print(name)\n",
    "print(age)"
   ]
  },
  {
   "cell_type": "code",
   "execution_count": 4,
   "metadata": {},
   "outputs": [
    {
     "name": "stdout",
     "output_type": "stream",
     "text": [
      "Olga 27\n"
     ]
    }
   ],
   "source": [
    "print(name, age)"
   ]
  },
  {
   "cell_type": "markdown",
   "metadata": {},
   "source": [
    "Можем изменить разделитель, который используется для «склеивания» объектов внутри `print()`. По умолчанию используется пробел, но разделитель можно поменять, добавив аргумент (опцию) `sep` в функцию `print()`. "
   ]
  },
  {
   "cell_type": "code",
   "execution_count": 5,
   "metadata": {},
   "outputs": [
    {
     "name": "stdout",
     "output_type": "stream",
     "text": [
      "Olga-27\n"
     ]
    }
   ],
   "source": [
    "print(name, age, sep=\"-\") # теперь части склеиваются по дефису"
   ]
  },
  {
   "cell_type": "markdown",
   "metadata": {},
   "source": [
    "А можем вывести более красивые сообщения:"
   ]
  },
  {
   "cell_type": "code",
   "execution_count": 6,
   "metadata": {},
   "outputs": [
    {
     "name": "stdout",
     "output_type": "stream",
     "text": [
      "Name: Olga\n",
      "Age: 27\n"
     ]
    }
   ],
   "source": [
    "# по умолчанию print() склеивает результаты по пробелу\n",
    "print(\"Name:\", name)\n",
    "print(\"Age:\", age)"
   ]
  },
  {
   "cell_type": "markdown",
   "metadata": {},
   "source": [
    "Python, в отличие от некоторых языков программирования (C, C++, Java), сам распознает что мы «кладём в контейнер»: число, текст, набор чисел... Поэтому при создании переменной нам не нужно указывать её тип. Про типы переменных в Python мы поговорим чуть позже, но пока и так видно, что в примерах выше кроме значения, которое мы сохраняем, мы больше ничего особенного не указывали."
   ]
  },
  {
   "cell_type": "markdown",
   "metadata": {},
   "source": [
    "Значения переменных мы можем обновлять – изменять значение и сохранять в переменную с тем же названием. Например, теперь нас интересуют данные по другому человеку, данные по 27-летней Ольге из примера выше нам уже не нужны. Тогда мы можем перезаписать значения переменных `name` и `age` на новые:"
   ]
  },
  {
   "cell_type": "code",
   "execution_count": 7,
   "metadata": {},
   "outputs": [],
   "source": [
    "name = \"Anna\"\n",
    "age = 38"
   ]
  },
  {
   "cell_type": "code",
   "execution_count": 8,
   "metadata": {},
   "outputs": [
    {
     "name": "stdout",
     "output_type": "stream",
     "text": [
      "Anna 38\n"
     ]
    }
   ],
   "source": [
    "print(name, age)  # значения изменились!"
   ]
  },
  {
   "cell_type": "markdown",
   "metadata": {},
   "source": [
    "А теперь представим себе такую ситуацию: мы уже ввели данные в какую-нибудь систему, забыли, какие значения были сохранены, и строчки `age = 38` у нас перед глазами нет. И вдруг мы узнаём, что возраст человека нам был сообщён с ошибкой, на самом деле значение должно быть на 1 единицу больше! Чтобы не вспоминать значение и не тратить время на лишние операции, воспользуемся такой записью:"
   ]
  },
  {
   "cell_type": "code",
   "execution_count": 9,
   "metadata": {},
   "outputs": [],
   "source": [
    "age = age + 1"
   ]
  },
  {
   "cell_type": "markdown",
   "metadata": {},
   "source": [
    "Эта запись означает, что мы берём уже сохранённое в переменной `age` значение (какое бы оно ни было) и добавляем к нему 1. Посмотрим на результат:"
   ]
  },
  {
   "cell_type": "code",
   "execution_count": 10,
   "metadata": {},
   "outputs": [
    {
     "name": "stdout",
     "output_type": "stream",
     "text": [
      "39\n"
     ]
    }
   ],
   "source": [
    "print(age)"
   ]
  },
  {
   "cell_type": "markdown",
   "metadata": {},
   "source": [
    "Для тех, кто любит более компактный код или знаком с программированием: альтернативная запись для выражения выше:"
   ]
  },
  {
   "cell_type": "code",
   "execution_count": 11,
   "metadata": {},
   "outputs": [],
   "source": [
    "age += 1  # то же что age = age + 1"
   ]
  },
  {
   "cell_type": "markdown",
   "metadata": {},
   "source": [
    "### Типы переменных и преобразование типов"
   ]
  },
  {
   "cell_type": "markdown",
   "metadata": {},
   "source": [
    "В Python существуют четыре основных типа переменных:\n",
    "\n",
    "* `integer` (`int`) – целые числа\n",
    "* `float` – числа с плавающей точкой (дробные)\n",
    "* `string` (`str`) – строки (текст)\n",
    "* `boolean` (`bool`) – логические (булевы) значения (*True* и *False*)"
   ]
  },
  {
   "cell_type": "markdown",
   "metadata": {},
   "source": [
    "Переменные типа `integer` и `string` мы уже встречали: это были `age` и `name` соответственно. Создадим ещё две переменные:\n",
    "\n",
    "* `height` – *рост* человека в сантиметрах (число с плавающей точкой, дробное)\n",
    "* `is_male` – *пол человека* (логическая, где *True* соответствует мужкому полу, а *False* – женскому).  "
   ]
  },
  {
   "cell_type": "code",
   "execution_count": 12,
   "metadata": {},
   "outputs": [],
   "source": [
    "height = 168.5\n",
    "is_male = True"
   ]
  },
  {
   "cell_type": "markdown",
   "metadata": {},
   "source": [
    "Посмотрим на типы переменных – определим их с помощью функции `type()`:"
   ]
  },
  {
   "cell_type": "code",
   "execution_count": 13,
   "metadata": {},
   "outputs": [
    {
     "name": "stdout",
     "output_type": "stream",
     "text": [
      "<class 'str'>\n",
      "<class 'int'>\n",
      "<class 'float'>\n",
      "<class 'bool'>\n"
     ]
    }
   ],
   "source": [
    "print(type(name))\n",
    "print(type(age))\n",
    "print(type(height))\n",
    "print(type(is_male))"
   ]
  },
  {
   "cell_type": "markdown",
   "metadata": {},
   "source": [
    "Теперь посмотрим, когда нам понадобится преобразования типов – конвертация текущего типа переменной в какой-нибудь другой. Рассмотрим несколько задач.\n",
    "\n",
    "**Задача 1.** У Ивана есть 120 рублей. Сколько маленьких упаковок апельсинового сока он сможет купить на эти деньги, если известно, что одна упаковка стоит 18 рублей?\n",
    "\n",
    "**Решение.** Очевидно, что для решения нам нужно просто разделить 120 на 18 и взять только целую часть от результата деления. Это можно сделать по-разному, но мы сейчас воспользуемся преобразованием типов."
   ]
  },
  {
   "cell_type": "code",
   "execution_count": 14,
   "metadata": {},
   "outputs": [
    {
     "name": "stdout",
     "output_type": "stream",
     "text": [
      "6.666666666666667\n"
     ]
    }
   ],
   "source": [
    "# результат до преобразования - число упаковок\n",
    "n = 120 / 18\n",
    "print(n)"
   ]
  },
  {
   "cell_type": "markdown",
   "metadata": {},
   "source": [
    "Переменная `n` – число с плавающей точкой (*float*). А нам нужно целое! Превратим `n` в целое число, и тогда дробная часть отбросится (округления не происходит, просто дробная часть отбрасывается):"
   ]
  },
  {
   "cell_type": "code",
   "execution_count": 15,
   "metadata": {},
   "outputs": [
    {
     "name": "stdout",
     "output_type": "stream",
     "text": [
      "6\n"
     ]
    }
   ],
   "source": [
    "itog = int(n) # int - integer\n",
    "print(itog)"
   ]
  },
  {
   "cell_type": "markdown",
   "metadata": {},
   "source": [
    "**Задача 2.** Пользователь с клавиатуры вводит число книг, которые он полностью прочитал за прошедший месяц. Необходимо проверить, прочитал ли этот пользователь более одной книги."
   ]
  },
  {
   "cell_type": "markdown",
   "metadata": {},
   "source": [
    "**Решение.** Ввод значения с клавиатуры осуществляется с помощью функции `input()`: внутри неё по желанию можно впечатать текст-подсказку для пользователя, что именно ему следует ввести."
   ]
  },
  {
   "cell_type": "code",
   "execution_count": 16,
   "metadata": {},
   "outputs": [
    {
     "name": "stdout",
     "output_type": "stream",
     "text": [
      "Введите число прочитанных книг: 3\n"
     ]
    }
   ],
   "source": [
    "k = input(\"Введите число прочитанных книг: \")"
   ]
  },
  {
   "cell_type": "markdown",
   "metadata": {},
   "source": [
    "Если мы выведем `k` на экран, кажется, никаких подвохов нет:"
   ]
  },
  {
   "cell_type": "code",
   "execution_count": 17,
   "metadata": {},
   "outputs": [
    {
     "name": "stdout",
     "output_type": "stream",
     "text": [
      "3\n"
     ]
    }
   ],
   "source": [
    "print(k)  # три книги"
   ]
  },
  {
   "cell_type": "markdown",
   "metadata": {},
   "source": [
    "Но если мы посмотрим на тип переменной `k`, окажется, что это строка (*string*):"
   ]
  },
  {
   "cell_type": "code",
   "execution_count": 18,
   "metadata": {},
   "outputs": [
    {
     "name": "stdout",
     "output_type": "stream",
     "text": [
      "<class 'str'>\n"
     ]
    }
   ],
   "source": [
    "print(type(k))"
   ]
  },
  {
   "cell_type": "markdown",
   "metadata": {},
   "source": [
    "Понятно, что со строкой нельзя работать как с числом; будет странно сравнивать какой-то текст с числом, пытаться умножить его на число, возвести в степень и так далее. Напишем правильный код. Будем сразу превращать введённый пользователем текст в целое число – допишем `int()` перед функцией `input()`:"
   ]
  },
  {
   "cell_type": "code",
   "execution_count": 19,
   "metadata": {},
   "outputs": [
    {
     "name": "stdout",
     "output_type": "stream",
     "text": [
      "Введите число прочитанных книг: 23\n"
     ]
    }
   ],
   "source": [
    "k = int(input(\"Введите число прочитанных книг: \"))"
   ]
  },
  {
   "cell_type": "markdown",
   "metadata": {},
   "source": [
    "А теперь проверим, правда ли, что `k` больше 1:"
   ]
  },
  {
   "cell_type": "code",
   "execution_count": 20,
   "metadata": {},
   "outputs": [
    {
     "data": {
      "text/plain": [
       "True"
      ]
     },
     "execution_count": 20,
     "metadata": {},
     "output_type": "execute_result"
    }
   ],
   "source": [
    "k > 1  # True - правда"
   ]
  },
  {
   "cell_type": "markdown",
   "metadata": {},
   "source": [
    "**Задача 3.** Пользователь последовательно (с новой строки) вводит с клавиатуры два дробных числа – рейтинги двух фильмов, которые ему нравятся больше всего. Чему равен средний рейтинг фильмов, которые нравятся этому пользователю?\n",
    "\n",
    "**Решение**. Нетрудно догадаться, что здесь нам понадобятся две строки кода с `input()`, чтобы запросить два числа, а также функция, которая поможет превратить текстовое значение, введённое пользователем, в числовое. В предыдущем примере мы использовали `int()`, потому что от пользователя ожидалось целое число. Здесь от него ожидается дробное число, число с плавающей точкой, поэтому нам понадобится функция `float()`:"
   ]
  },
  {
   "cell_type": "code",
   "execution_count": 21,
   "metadata": {},
   "outputs": [
    {
     "name": "stdout",
     "output_type": "stream",
     "text": [
      "Рейтинг 1:4.5\n",
      "Рейтинг 2:3.2\n"
     ]
    }
   ],
   "source": [
    "rating1 = float(input(\"Рейтинг 1:\"))\n",
    "rating2 = float(input(\"Рейтинг 2:\"))"
   ]
  },
  {
   "cell_type": "markdown",
   "metadata": {},
   "source": [
    "Теперь посчитаем средний рейтинг – сложим два значения рейтинга и поделим результат пополам:"
   ]
  },
  {
   "cell_type": "code",
   "execution_count": 22,
   "metadata": {},
   "outputs": [
    {
     "name": "stdout",
     "output_type": "stream",
     "text": [
      "3.85\n"
     ]
    }
   ],
   "source": [
    "ave_rating = (rating1 + rating2) / 2\n",
    "print(ave_rating)"
   ]
  },
  {
   "cell_type": "markdown",
   "metadata": {},
   "source": [
    "### Напоследок: если потерялись"
   ]
  },
  {
   "cell_type": "markdown",
   "metadata": {},
   "source": [
    "Как найти, куда Jupyter сохраняет ноутбуки — файлы с расширением `.ipynb`? Можно посмотреть на перечень папок и файлов в *Home* и попытаться узнать рабочую папку. А можно импортировать библиотеку `os` и узнать текущую рабочую папку (*current working directory*) — в ней будут лежать ноутбуки."
   ]
  },
  {
   "cell_type": "code",
   "execution_count": 23,
   "metadata": {},
   "outputs": [
    {
     "data": {
      "text/plain": [
       "'/Users/allat/Desktop/skillbox/intro-python'"
      ]
     },
     "execution_count": 23,
     "metadata": {},
     "output_type": "execute_result"
    }
   ],
   "source": [
    "import os\n",
    "os.getcwd()  # от get current working directory"
   ]
  }
 ],
 "metadata": {
  "kernelspec": {
   "display_name": "Python 3",
   "language": "python",
   "name": "python3"
  },
  "language_info": {
   "codemirror_mode": {
    "name": "ipython",
    "version": 3
   },
   "file_extension": ".py",
   "mimetype": "text/x-python",
   "name": "python",
   "nbconvert_exporter": "python",
   "pygments_lexer": "ipython3",
   "version": "3.6.5"
  }
 },
 "nbformat": 4,
 "nbformat_minor": 2
}
