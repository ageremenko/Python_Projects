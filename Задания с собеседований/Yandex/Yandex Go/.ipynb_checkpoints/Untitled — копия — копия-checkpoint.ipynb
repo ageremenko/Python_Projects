{
 "cells": [
  {
   "cell_type": "code",
   "execution_count": 1,
   "metadata": {},
   "outputs": [],
   "source": [
    "import pandas as pd\n",
    "import numpy as np\n",
    "import matplotlib.pyplot as plt\n",
    "import seaborn as sns\n",
    "import datetime\n",
    "from datetime import datetime"
   ]
  },
  {
   "cell_type": "code",
   "execution_count": 2,
   "metadata": {},
   "outputs": [
    {
     "data": {
      "text/html": [
       "<div>\n",
       "<style scoped>\n",
       "    .dataframe tbody tr th:only-of-type {\n",
       "        vertical-align: middle;\n",
       "    }\n",
       "\n",
       "    .dataframe tbody tr th {\n",
       "        vertical-align: top;\n",
       "    }\n",
       "\n",
       "    .dataframe thead th {\n",
       "        text-align: right;\n",
       "    }\n",
       "</style>\n",
       "<table border=\"1\" class=\"dataframe\">\n",
       "  <thead>\n",
       "    <tr style=\"text-align: right;\">\n",
       "      <th></th>\n",
       "      <th>Неделя</th>\n",
       "      <th>Drivers, success</th>\n",
       "      <th>GMV, burnt orders, rub</th>\n",
       "      <th>GMV, paid cancel orders, rub</th>\n",
       "      <th>GMV, success orders, rub</th>\n",
       "      <th>GMV, discount orders, rub</th>\n",
       "      <th>GMV, surge orders only, rub</th>\n",
       "      <th>Orders, burnt</th>\n",
       "      <th>Orders, paid cancel</th>\n",
       "      <th>Orders, success</th>\n",
       "      <th>...</th>\n",
       "      <th>Surge value, surge orders only</th>\n",
       "      <th>Users, burnt</th>\n",
       "      <th>Users, paid cancel</th>\n",
       "      <th>Users, success</th>\n",
       "      <th>Users, new</th>\n",
       "      <th>GMV, User, rub</th>\n",
       "      <th>Discounts, rub</th>\n",
       "      <th>Net Subsidy, rub</th>\n",
       "      <th>Net Fee, rub</th>\n",
       "      <th>VAT, rub</th>\n",
       "    </tr>\n",
       "  </thead>\n",
       "  <tbody>\n",
       "    <tr>\n",
       "      <th>0</th>\n",
       "      <td>2017-01-02</td>\n",
       "      <td>1856</td>\n",
       "      <td>237776.56</td>\n",
       "      <td>6328.39</td>\n",
       "      <td>7671354.22</td>\n",
       "      <td>0.0</td>\n",
       "      <td>1115641.04</td>\n",
       "      <td>2944</td>\n",
       "      <td>158</td>\n",
       "      <td>47033</td>\n",
       "      <td>...</td>\n",
       "      <td>7308.6</td>\n",
       "      <td>1967</td>\n",
       "      <td>155</td>\n",
       "      <td>19679</td>\n",
       "      <td>3655</td>\n",
       "      <td>7537521.22</td>\n",
       "      <td>0.0</td>\n",
       "      <td>1427026.37</td>\n",
       "      <td>579778.43</td>\n",
       "      <td>104360.12</td>\n",
       "    </tr>\n",
       "    <tr>\n",
       "      <th>1</th>\n",
       "      <td>2017-01-09</td>\n",
       "      <td>2237</td>\n",
       "      <td>120438.68</td>\n",
       "      <td>6027.91</td>\n",
       "      <td>8467211.90</td>\n",
       "      <td>0.0</td>\n",
       "      <td>313623.16</td>\n",
       "      <td>1820</td>\n",
       "      <td>162</td>\n",
       "      <td>54995</td>\n",
       "      <td>...</td>\n",
       "      <td>2178.9</td>\n",
       "      <td>1307</td>\n",
       "      <td>153</td>\n",
       "      <td>20972</td>\n",
       "      <td>3312</td>\n",
       "      <td>8349106.90</td>\n",
       "      <td>0.0</td>\n",
       "      <td>1645511.42</td>\n",
       "      <td>637040.34</td>\n",
       "      <td>114667.26</td>\n",
       "    </tr>\n",
       "    <tr>\n",
       "      <th>2</th>\n",
       "      <td>2017-01-16</td>\n",
       "      <td>2468</td>\n",
       "      <td>145439.24</td>\n",
       "      <td>8138.22</td>\n",
       "      <td>9093563.74</td>\n",
       "      <td>0.0</td>\n",
       "      <td>215521.02</td>\n",
       "      <td>1700</td>\n",
       "      <td>203</td>\n",
       "      <td>59735</td>\n",
       "      <td>...</td>\n",
       "      <td>1477.1</td>\n",
       "      <td>1139</td>\n",
       "      <td>193</td>\n",
       "      <td>21776</td>\n",
       "      <td>3236</td>\n",
       "      <td>8956484.74</td>\n",
       "      <td>0.0</td>\n",
       "      <td>1770212.54</td>\n",
       "      <td>682545.99</td>\n",
       "      <td>122858.28</td>\n",
       "    </tr>\n",
       "    <tr>\n",
       "      <th>3</th>\n",
       "      <td>2017-01-23</td>\n",
       "      <td>2631</td>\n",
       "      <td>87881.35</td>\n",
       "      <td>8944.60</td>\n",
       "      <td>9878048.28</td>\n",
       "      <td>0.0</td>\n",
       "      <td>188985.28</td>\n",
       "      <td>1092</td>\n",
       "      <td>239</td>\n",
       "      <td>65090</td>\n",
       "      <td>...</td>\n",
       "      <td>1331.0</td>\n",
       "      <td>806</td>\n",
       "      <td>227</td>\n",
       "      <td>23354</td>\n",
       "      <td>3395</td>\n",
       "      <td>9703942.28</td>\n",
       "      <td>0.0</td>\n",
       "      <td>1933193.37</td>\n",
       "      <td>739135.40</td>\n",
       "      <td>133044.37</td>\n",
       "    </tr>\n",
       "    <tr>\n",
       "      <th>4</th>\n",
       "      <td>2017-01-30</td>\n",
       "      <td>2691</td>\n",
       "      <td>88103.53</td>\n",
       "      <td>8856.71</td>\n",
       "      <td>10590010.64</td>\n",
       "      <td>0.0</td>\n",
       "      <td>402526.68</td>\n",
       "      <td>1450</td>\n",
       "      <td>239</td>\n",
       "      <td>70059</td>\n",
       "      <td>...</td>\n",
       "      <td>2822.5</td>\n",
       "      <td>998</td>\n",
       "      <td>232</td>\n",
       "      <td>24425</td>\n",
       "      <td>3460</td>\n",
       "      <td>10450685.64</td>\n",
       "      <td>0.0</td>\n",
       "      <td>2133394.37</td>\n",
       "      <td>812713.15</td>\n",
       "      <td>146288.36</td>\n",
       "    </tr>\n",
       "  </tbody>\n",
       "</table>\n",
       "<p>5 rows × 24 columns</p>\n",
       "</div>"
      ],
      "text/plain": [
       "      Неделя  Drivers, success  GMV, burnt orders, rub  \\\n",
       "0 2017-01-02              1856               237776.56   \n",
       "1 2017-01-09              2237               120438.68   \n",
       "2 2017-01-16              2468               145439.24   \n",
       "3 2017-01-23              2631                87881.35   \n",
       "4 2017-01-30              2691                88103.53   \n",
       "\n",
       "   GMV, paid cancel orders, rub  GMV, success orders, rub  \\\n",
       "0                       6328.39                7671354.22   \n",
       "1                       6027.91                8467211.90   \n",
       "2                       8138.22                9093563.74   \n",
       "3                       8944.60                9878048.28   \n",
       "4                       8856.71               10590010.64   \n",
       "\n",
       "   GMV, discount orders, rub  GMV, surge orders only, rub  Orders, burnt  \\\n",
       "0                        0.0                   1115641.04           2944   \n",
       "1                        0.0                    313623.16           1820   \n",
       "2                        0.0                    215521.02           1700   \n",
       "3                        0.0                    188985.28           1092   \n",
       "4                        0.0                    402526.68           1450   \n",
       "\n",
       "   Orders, paid cancel  Orders, success  ...  Surge value, surge orders only  \\\n",
       "0                  158            47033  ...                          7308.6   \n",
       "1                  162            54995  ...                          2178.9   \n",
       "2                  203            59735  ...                          1477.1   \n",
       "3                  239            65090  ...                          1331.0   \n",
       "4                  239            70059  ...                          2822.5   \n",
       "\n",
       "   Users, burnt  Users, paid cancel  Users, success  Users, new  \\\n",
       "0          1967                 155           19679        3655   \n",
       "1          1307                 153           20972        3312   \n",
       "2          1139                 193           21776        3236   \n",
       "3           806                 227           23354        3395   \n",
       "4           998                 232           24425        3460   \n",
       "\n",
       "   GMV, User, rub  Discounts, rub  Net Subsidy, rub  Net Fee, rub   VAT, rub  \n",
       "0      7537521.22             0.0        1427026.37     579778.43  104360.12  \n",
       "1      8349106.90             0.0        1645511.42     637040.34  114667.26  \n",
       "2      8956484.74             0.0        1770212.54     682545.99  122858.28  \n",
       "3      9703942.28             0.0        1933193.37     739135.40  133044.37  \n",
       "4     10450685.64             0.0        2133394.37     812713.15  146288.36  \n",
       "\n",
       "[5 rows x 24 columns]"
      ]
     },
     "execution_count": 2,
     "metadata": {},
     "output_type": "execute_result"
    }
   ],
   "source": [
    "df = pd.read_excel('6118149_ZJFPSI7F.xlsx', sheet_name=1)\n",
    "df.head()"
   ]
  },
  {
   "cell_type": "code",
   "execution_count": 12,
   "metadata": {},
   "outputs": [
    {
     "data": {
      "text/plain": [
       "10    0.311005\n",
       "dtype: float64"
      ]
     },
     "execution_count": 12,
     "metadata": {},
     "output_type": "execute_result"
    }
   ],
   "source": [
    "df[df['Дата'] == '2017-07-10']['Drivers, core']/df[df['Дата'] == '2017-07-10']['Drivers, total']"
   ]
  },
  {
   "cell_type": "code",
   "execution_count": 14,
   "metadata": {},
   "outputs": [
    {
     "data": {
      "text/plain": [
       "0.7188525172193425"
      ]
     },
     "execution_count": 14,
     "metadata": {},
     "output_type": "execute_result"
    }
   ],
   "source": [
    "df['perc_core'] = df['Orders, core']/df['Orders, total']\n",
    "df['perc_core'].max()"
   ]
  },
  {
   "cell_type": "code",
   "execution_count": 19,
   "metadata": {},
   "outputs": [
    {
     "data": {
      "text/plain": [
       "17    14.156432\n",
       "dtype: float64"
      ]
     },
     "execution_count": 19,
     "metadata": {},
     "output_type": "execute_result"
    }
   ],
   "source": [
    "(df[df['Дата'] == '2017-08-28']['Orders, total']-df[df['Дата'] == '2017-08-28']['Orders, core']) / df[df['Дата'] == '2017-08-28']['Drivers, total'] "
   ]
  },
  {
   "cell_type": "code",
   "execution_count": 28,
   "metadata": {},
   "outputs": [
    {
     "data": {
      "text/html": [
       "<div>\n",
       "<style scoped>\n",
       "    .dataframe tbody tr th:only-of-type {\n",
       "        vertical-align: middle;\n",
       "    }\n",
       "\n",
       "    .dataframe tbody tr th {\n",
       "        vertical-align: top;\n",
       "    }\n",
       "\n",
       "    .dataframe thead th {\n",
       "        text-align: right;\n",
       "    }\n",
       "</style>\n",
       "<table border=\"1\" class=\"dataframe\">\n",
       "  <thead>\n",
       "    <tr style=\"text-align: right;\">\n",
       "      <th></th>\n",
       "      <th>Дата</th>\n",
       "      <th>Drivers, total</th>\n",
       "      <th>Drivers, core</th>\n",
       "      <th>Orders, total</th>\n",
       "      <th>Orders, core</th>\n",
       "      <th>Drivers, returned</th>\n",
       "      <th>Drivers, core, returned</th>\n",
       "      <th>perc_core</th>\n",
       "      <th>доля</th>\n",
       "    </tr>\n",
       "  </thead>\n",
       "  <tbody>\n",
       "    <tr>\n",
       "      <th>36</th>\n",
       "      <td>2018-01-08</td>\n",
       "      <td>3669</td>\n",
       "      <td>837</td>\n",
       "      <td>114994</td>\n",
       "      <td>67204</td>\n",
       "      <td>2725</td>\n",
       "      <td>793</td>\n",
       "      <td>0.584413</td>\n",
       "      <td>0.742709</td>\n",
       "    </tr>\n",
       "  </tbody>\n",
       "</table>\n",
       "</div>"
      ],
      "text/plain": [
       "         Дата  Drivers, total  Drivers, core  Orders, total  Orders, core  \\\n",
       "36 2018-01-08            3669            837         114994         67204   \n",
       "\n",
       "    Drivers, returned  Drivers, core, returned  perc_core      доля  \n",
       "36               2725                      793   0.584413  0.742709  "
      ]
     },
     "execution_count": 28,
     "metadata": {},
     "output_type": "execute_result"
    }
   ],
   "source": [
    "df['доля'] = df['Drivers, returned']/df['Drivers, total']\n",
    "df[df['доля'] == df['доля'].min()]"
   ]
  }
 ],
 "metadata": {
  "kernelspec": {
   "display_name": "Python 3",
   "language": "python",
   "name": "python3"
  },
  "language_info": {
   "codemirror_mode": {
    "name": "ipython",
    "version": 3
   },
   "file_extension": ".py",
   "mimetype": "text/x-python",
   "name": "python",
   "nbconvert_exporter": "python",
   "pygments_lexer": "ipython3",
   "version": "3.7.6"
  }
 },
 "nbformat": 4,
 "nbformat_minor": 4
}
