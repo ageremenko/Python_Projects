{
 "cells": [
  {
   "cell_type": "markdown",
   "metadata": {},
   "source": [
    "### РОССИЙСКИЙ УНИВЕРСИТЕТ ДРУЖБЫ НАРОДОВ"
   ]
  },
  {
   "cell_type": "markdown",
   "metadata": {},
   "source": [
    "#### Факультет физико-математических и естественных наук  \n",
    "#### Кафедра информационных технологий "
   ]
  },
  {
   "cell_type": "markdown",
   "metadata": {},
   "source": [
    "## ОТЧЕТ ПО ЛАБОРАТОРНОЙ РАБОТЕ № 1"
   ]
  },
  {
   "cell_type": "markdown",
   "metadata": {},
   "source": [
    "#### Дисциплина: Интеллектуальный анализ данных"
   ]
  },
  {
   "cell_type": "markdown",
   "metadata": {},
   "source": [
    "##### Студент:  Еременко Артем Геннадьевич\n",
    "##### Группа:   НПИбд-01-18"
   ]
  },
  {
   "cell_type": "markdown",
   "metadata": {},
   "source": [
    "## Москва 2021\n",
    "***"
   ]
  },
  {
   "cell_type": "markdown",
   "metadata": {},
   "source": [
    "### Вариант № 20"
   ]
  },
  {
   "cell_type": "markdown",
   "metadata": {},
   "source": [
    "#### 1. Считайте котировки ценных бумаг с указанными ниже тикерами за 2021 год: \n",
    "\n",
    " * ORCL  Oracle Corp \n",
    " \n",
    " * SHO    Sunstone Hotel Investors \n",
    " \n",
    " * LI        Li Auto Inc ADR \n",
    " \n",
    " #### и вычислите дневные доходности ценных бумаг. "
   ]
  },
  {
   "cell_type": "code",
   "execution_count": 1,
   "metadata": {},
   "outputs": [],
   "source": [
    "from pandas_datareader import data as pdr\n",
    "import datetime as dt\n",
    "import matplotlib.pyplot as plt\n",
    "import pandas as pd"
   ]
  },
  {
   "cell_type": "markdown",
   "metadata": {},
   "source": [
    "1. Подключил библиотеку data из pandas_datareader для считывания котировок ценных бумаг\n",
    "2. Подключил библиотеку datetime для корректной работы с временным форматом\n",
    "3. Подключил библиотеку matplotlib.pyplot для визуализации данных\n",
    "4. Подключил библиотеку pandas для анализа данных"
   ]
  },
  {
   "cell_type": "code",
   "execution_count": 2,
   "metadata": {},
   "outputs": [],
   "source": [
    "def get(tickers, startdate, enddate):\n",
    "    def data(ticker):\n",
    "        return (pdr.get_data_yahoo(ticker, start=startdate, end=enddate))\n",
    "    datas = map (data, tickers)\n",
    "    return(pd.concat(datas, keys=tickers, names=['Ticker', 'Date']))"
   ]
  },
  {
   "cell_type": "markdown",
   "metadata": {},
   "source": [
    " Задал функции get() и data() для получения данных из Yahoo Finance"
   ]
  },
  {
   "cell_type": "code",
   "execution_count": 3,
   "metadata": {},
   "outputs": [
    {
     "data": {
      "text/html": [
       "<div>\n",
       "<style scoped>\n",
       "    .dataframe tbody tr th:only-of-type {\n",
       "        vertical-align: middle;\n",
       "    }\n",
       "\n",
       "    .dataframe tbody tr th {\n",
       "        vertical-align: top;\n",
       "    }\n",
       "\n",
       "    .dataframe thead th {\n",
       "        text-align: right;\n",
       "    }\n",
       "</style>\n",
       "<table border=\"1\" class=\"dataframe\">\n",
       "  <thead>\n",
       "    <tr style=\"text-align: right;\">\n",
       "      <th></th>\n",
       "      <th></th>\n",
       "      <th>High</th>\n",
       "      <th>Low</th>\n",
       "      <th>Open</th>\n",
       "      <th>Close</th>\n",
       "      <th>Volume</th>\n",
       "      <th>Adj Close</th>\n",
       "    </tr>\n",
       "    <tr>\n",
       "      <th>Ticker</th>\n",
       "      <th>Date</th>\n",
       "      <th></th>\n",
       "      <th></th>\n",
       "      <th></th>\n",
       "      <th></th>\n",
       "      <th></th>\n",
       "      <th></th>\n",
       "    </tr>\n",
       "  </thead>\n",
       "  <tbody>\n",
       "    <tr>\n",
       "      <th rowspan=\"5\" valign=\"top\">ORCL</th>\n",
       "      <th>2021-01-04</th>\n",
       "      <td>64.699997</td>\n",
       "      <td>63.169998</td>\n",
       "      <td>64.690002</td>\n",
       "      <td>63.750000</td>\n",
       "      <td>11249900.0</td>\n",
       "      <td>63.001003</td>\n",
       "    </tr>\n",
       "    <tr>\n",
       "      <th>2021-01-05</th>\n",
       "      <td>63.790001</td>\n",
       "      <td>62.480000</td>\n",
       "      <td>63.680000</td>\n",
       "      <td>62.959999</td>\n",
       "      <td>11005700.0</td>\n",
       "      <td>62.220284</td>\n",
       "    </tr>\n",
       "    <tr>\n",
       "      <th>2021-01-06</th>\n",
       "      <td>63.349998</td>\n",
       "      <td>61.910000</td>\n",
       "      <td>62.270000</td>\n",
       "      <td>62.570000</td>\n",
       "      <td>8685400.0</td>\n",
       "      <td>62.071476</td>\n",
       "    </tr>\n",
       "    <tr>\n",
       "      <th>2021-01-07</th>\n",
       "      <td>63.740002</td>\n",
       "      <td>62.849998</td>\n",
       "      <td>62.849998</td>\n",
       "      <td>63.070000</td>\n",
       "      <td>7382800.0</td>\n",
       "      <td>62.567493</td>\n",
       "    </tr>\n",
       "    <tr>\n",
       "      <th>2021-01-08</th>\n",
       "      <td>63.540001</td>\n",
       "      <td>62.910000</td>\n",
       "      <td>63.180000</td>\n",
       "      <td>63.380001</td>\n",
       "      <td>7751700.0</td>\n",
       "      <td>62.875023</td>\n",
       "    </tr>\n",
       "  </tbody>\n",
       "</table>\n",
       "</div>"
      ],
      "text/plain": [
       "                        High        Low       Open      Close      Volume  \\\n",
       "Ticker Date                                                                 \n",
       "ORCL   2021-01-04  64.699997  63.169998  64.690002  63.750000  11249900.0   \n",
       "       2021-01-05  63.790001  62.480000  63.680000  62.959999  11005700.0   \n",
       "       2021-01-06  63.349998  61.910000  62.270000  62.570000   8685400.0   \n",
       "       2021-01-07  63.740002  62.849998  62.849998  63.070000   7382800.0   \n",
       "       2021-01-08  63.540001  62.910000  63.180000  63.380001   7751700.0   \n",
       "\n",
       "                   Adj Close  \n",
       "Ticker Date                   \n",
       "ORCL   2021-01-04  63.001003  \n",
       "       2021-01-05  62.220284  \n",
       "       2021-01-06  62.071476  \n",
       "       2021-01-07  62.567493  \n",
       "       2021-01-08  62.875023  "
      ]
     },
     "execution_count": 3,
     "metadata": {},
     "output_type": "execute_result"
    }
   ],
   "source": [
    "tickers = ['ORCL', 'SHO', 'LI']\n",
    "all_data = get(tickers, dt.datetime(2021, 1, 1), dt.datetime(2021, 12, 31))\n",
    "all_data.head()"
   ]
  },
  {
   "cell_type": "markdown",
   "metadata": {},
   "source": [
    "Получил котировки ценных бумаг компаний Oracle Corp, Sunstone Hotel Investors, Li Auto Inc ADR за период 2021 года."
   ]
  },
  {
   "cell_type": "code",
   "execution_count": 14,
   "metadata": {
    "scrolled": true
   },
   "outputs": [
    {
     "data": {
      "text/html": [
       "<div>\n",
       "<style scoped>\n",
       "    .dataframe tbody tr th:only-of-type {\n",
       "        vertical-align: middle;\n",
       "    }\n",
       "\n",
       "    .dataframe tbody tr th {\n",
       "        vertical-align: top;\n",
       "    }\n",
       "\n",
       "    .dataframe thead th {\n",
       "        text-align: right;\n",
       "    }\n",
       "</style>\n",
       "<table border=\"1\" class=\"dataframe\">\n",
       "  <thead>\n",
       "    <tr style=\"text-align: right;\">\n",
       "      <th></th>\n",
       "      <th></th>\n",
       "      <th>Adj Close</th>\n",
       "    </tr>\n",
       "    <tr>\n",
       "      <th>Ticker</th>\n",
       "      <th>Date</th>\n",
       "      <th></th>\n",
       "    </tr>\n",
       "  </thead>\n",
       "  <tbody>\n",
       "    <tr>\n",
       "      <th rowspan=\"5\" valign=\"top\">ORCL</th>\n",
       "      <th>2021-01-04</th>\n",
       "      <td>63.001003</td>\n",
       "    </tr>\n",
       "    <tr>\n",
       "      <th>2021-01-05</th>\n",
       "      <td>62.220284</td>\n",
       "    </tr>\n",
       "    <tr>\n",
       "      <th>2021-01-06</th>\n",
       "      <td>62.071476</td>\n",
       "    </tr>\n",
       "    <tr>\n",
       "      <th>2021-01-07</th>\n",
       "      <td>62.567493</td>\n",
       "    </tr>\n",
       "    <tr>\n",
       "      <th>2021-01-08</th>\n",
       "      <td>62.875023</td>\n",
       "    </tr>\n",
       "  </tbody>\n",
       "</table>\n",
       "</div>"
      ],
      "text/plain": [
       "                   Adj Close\n",
       "Ticker Date                 \n",
       "ORCL   2021-01-04  63.001003\n",
       "       2021-01-05  62.220284\n",
       "       2021-01-06  62.071476\n",
       "       2021-01-07  62.567493\n",
       "       2021-01-08  62.875023"
      ]
     },
     "execution_count": 14,
     "metadata": {},
     "output_type": "execute_result"
    }
   ],
   "source": [
    "d_close = all_data[['Adj Close']]\n",
    "d_close.head()"
   ]
  },
  {
   "cell_type": "markdown",
   "metadata": {},
   "source": [
    "Вынес скорректированную цену закрытия акций от остального датафрейма"
   ]
  },
  {
   "cell_type": "code",
   "execution_count": 63,
   "metadata": {},
   "outputs": [
    {
     "data": {
      "text/html": [
       "<div>\n",
       "<style scoped>\n",
       "    .dataframe tbody tr th:only-of-type {\n",
       "        vertical-align: middle;\n",
       "    }\n",
       "\n",
       "    .dataframe tbody tr th {\n",
       "        vertical-align: top;\n",
       "    }\n",
       "\n",
       "    .dataframe thead th {\n",
       "        text-align: right;\n",
       "    }\n",
       "</style>\n",
       "<table border=\"1\" class=\"dataframe\">\n",
       "  <thead>\n",
       "    <tr style=\"text-align: right;\">\n",
       "      <th>Ticker</th>\n",
       "      <th>LI</th>\n",
       "      <th>ORCL</th>\n",
       "      <th>SHO</th>\n",
       "    </tr>\n",
       "    <tr>\n",
       "      <th>Date</th>\n",
       "      <th></th>\n",
       "      <th></th>\n",
       "      <th></th>\n",
       "    </tr>\n",
       "  </thead>\n",
       "  <tbody>\n",
       "    <tr>\n",
       "      <th>2021-01-04</th>\n",
       "      <td>32.459999</td>\n",
       "      <td>63.001003</td>\n",
       "      <td>10.95</td>\n",
       "    </tr>\n",
       "    <tr>\n",
       "      <th>2021-01-05</th>\n",
       "      <td>30.990000</td>\n",
       "      <td>62.220284</td>\n",
       "      <td>10.93</td>\n",
       "    </tr>\n",
       "    <tr>\n",
       "      <th>2021-01-06</th>\n",
       "      <td>31.760000</td>\n",
       "      <td>62.071476</td>\n",
       "      <td>11.40</td>\n",
       "    </tr>\n",
       "    <tr>\n",
       "      <th>2021-01-07</th>\n",
       "      <td>35.090000</td>\n",
       "      <td>62.567493</td>\n",
       "      <td>11.27</td>\n",
       "    </tr>\n",
       "    <tr>\n",
       "      <th>2021-01-08</th>\n",
       "      <td>34.299999</td>\n",
       "      <td>62.875023</td>\n",
       "      <td>11.22</td>\n",
       "    </tr>\n",
       "  </tbody>\n",
       "</table>\n",
       "</div>"
      ],
      "text/plain": [
       "Ticker             LI       ORCL    SHO\n",
       "Date                                   \n",
       "2021-01-04  32.459999  63.001003  10.95\n",
       "2021-01-05  30.990000  62.220284  10.93\n",
       "2021-01-06  31.760000  62.071476  11.40\n",
       "2021-01-07  35.090000  62.567493  11.27\n",
       "2021-01-08  34.299999  62.875023  11.22"
      ]
     },
     "execution_count": 63,
     "metadata": {},
     "output_type": "execute_result"
    }
   ],
   "source": [
    "daily_close_pr = all_data[['Adj Close']].reset_index().pivot('Date', 'Ticker', 'Adj Close')\n",
    "daily_close_pr.head()"
   ]
  },
  {
   "cell_type": "markdown",
   "metadata": {},
   "source": [
    "Переформировал датафрейм для дальнейшей работы с ним"
   ]
  },
  {
   "cell_type": "code",
   "execution_count": 62,
   "metadata": {},
   "outputs": [
    {
     "data": {
      "text/html": [
       "<div>\n",
       "<style scoped>\n",
       "    .dataframe tbody tr th:only-of-type {\n",
       "        vertical-align: middle;\n",
       "    }\n",
       "\n",
       "    .dataframe tbody tr th {\n",
       "        vertical-align: top;\n",
       "    }\n",
       "\n",
       "    .dataframe thead th {\n",
       "        text-align: right;\n",
       "    }\n",
       "</style>\n",
       "<table border=\"1\" class=\"dataframe\">\n",
       "  <thead>\n",
       "    <tr style=\"text-align: right;\">\n",
       "      <th></th>\n",
       "      <th></th>\n",
       "      <th>Adj Close</th>\n",
       "    </tr>\n",
       "    <tr>\n",
       "      <th>Ticker</th>\n",
       "      <th>Date</th>\n",
       "      <th></th>\n",
       "    </tr>\n",
       "  </thead>\n",
       "  <tbody>\n",
       "    <tr>\n",
       "      <th rowspan=\"5\" valign=\"top\">ORCL</th>\n",
       "      <th>2021-01-04</th>\n",
       "      <td>NaN</td>\n",
       "    </tr>\n",
       "    <tr>\n",
       "      <th>2021-01-05</th>\n",
       "      <td>-0.012392</td>\n",
       "    </tr>\n",
       "    <tr>\n",
       "      <th>2021-01-06</th>\n",
       "      <td>-0.002392</td>\n",
       "    </tr>\n",
       "    <tr>\n",
       "      <th>2021-01-07</th>\n",
       "      <td>0.007991</td>\n",
       "    </tr>\n",
       "    <tr>\n",
       "      <th>2021-01-08</th>\n",
       "      <td>0.004915</td>\n",
       "    </tr>\n",
       "  </tbody>\n",
       "</table>\n",
       "</div>"
      ],
      "text/plain": [
       "                   Adj Close\n",
       "Ticker Date                 \n",
       "ORCL   2021-01-04        NaN\n",
       "       2021-01-05  -0.012392\n",
       "       2021-01-06  -0.002392\n",
       "       2021-01-07   0.007991\n",
       "       2021-01-08   0.004915"
      ]
     },
     "execution_count": 62,
     "metadata": {},
     "output_type": "execute_result"
    }
   ],
   "source": [
    "d_pct_ch = d_close.pct_change()\n",
    "d_pct_ch.head()"
   ]
  },
  {
   "cell_type": "markdown",
   "metadata": {},
   "source": [
    "Вычислил дневные доходности акций"
   ]
  },
  {
   "cell_type": "markdown",
   "metadata": {},
   "source": [
    "#### 2. Определите ценную бумагу, имеющую максимальную медиану дневной доходности, и постройте график изменения ее стоимости. "
   ]
  },
  {
   "cell_type": "code",
   "execution_count": 64,
   "metadata": {},
   "outputs": [
    {
     "data": {
      "text/plain": [
       "<matplotlib.axes._subplots.AxesSubplot at 0x20129eca208>"
      ]
     },
     "execution_count": 64,
     "metadata": {},
     "output_type": "execute_result"
    },
    {
     "data": {
      "image/png": "[encoded data removed]",
      "text/plain": [
       "<Figure size 432x288 with 1 Axes>"
      ]
     },
     "metadata": {
      "needs_background": "light"
     },
     "output_type": "display_data"
    }
   ],
   "source": [
    "co_max_med_d_pct_ch = d_pct_ch.groupby('Ticker')\\\n",
    "                              .median()\\\n",
    "                              .sort_values(by='Adj Close',\\\n",
    "                                           ascending=False)\\\n",
    "                              .index[0]\n",
    "\n",
    "\n",
    "daily_close_pr[co_max_med_d_pct_ch].plot\\\n",
    "                                   .line(grid=True,\n",
    "                                         title='Котировки акций тикера '+str(co_max_med_d_pct_ch)+' в 2021 г.')\n"
   ]
  },
  {
   "cell_type": "markdown",
   "metadata": {},
   "source": [
    "Сделав группировку по тикетам, вычислил медиану. Отсортировал по убыванию значения, тем самым сделав первой ценную бумагу с максимальной медианой.\n",
    "Далее построил линейный график изменения стоимости этой ценной бумаги."
   ]
  },
  {
   "cell_type": "markdown",
   "metadata": {},
   "source": [
    "#### 3. Для ценной бумаги, имеющей максимальную дневную доходность, постройте гистограмму для дневных доходностей. "
   ]
  },
  {
   "cell_type": "code",
   "execution_count": 65,
   "metadata": {},
   "outputs": [],
   "source": [
    "co_max_d_pct_ch = d_pct_ch.groupby('Ticker')\\\n",
    "                          .max()\\\n",
    "                          .sort_values(by='Adj Close',\\\n",
    "                                       ascending=False)\\\n",
    "                          .index[0]"
   ]
  },
  {
   "cell_type": "markdown",
   "metadata": {},
   "source": [
    "Сделав группировку по тикетам, вычислил максимальные дневные доходности ценных бумаг. Отсортировал по убыванию значения, сделав первой ценную бумагу с максимальной дневной доходностью."
   ]
  },
  {
   "cell_type": "code",
   "execution_count": 71,
   "metadata": {},
   "outputs": [
    {
     "data": {
      "text/plain": [
       "<matplotlib.axes._subplots.AxesSubplot at 0x2012a420848>"
      ]
     },
     "execution_count": 71,
     "metadata": {},
     "output_type": "execute_result"
    },
    {
     "data": {
      "image/png": "[encoded data removed]",
      "text/plain": [
       "<Figure size 432x288 with 1 Axes>"
      ]
     },
     "metadata": {
      "needs_background": "light"
     },
     "output_type": "display_data"
    }
   ],
   "source": [
    "d_pct_ch_new = d_pct_ch[['Adj Close']].reset_index().pivot('Date', 'Ticker', 'Adj Close')\n",
    "d_pct_ch_new[co_max_d_pct_ch].plot\\\n",
    "                         .hist(grid=True,\\\n",
    "                               edgecolor = 'black',\\\n",
    "                               bins=100,\\\n",
    "                               title='Гистограмма дневных доходностей тикера '+str(co_max_d_pct_ch)+' в 2021 г.')"
   ]
  },
  {
   "cell_type": "markdown",
   "metadata": {},
   "source": [
    "Далее построил гистограммный график для дневных доходностей этой ценной бумаги."
   ]
  },
  {
   "cell_type": "markdown",
   "metadata": {},
   "source": [
    "#### 4. Для ценной бумаги, имеющей минимальную дисперсию дневной доходности, постройте и визуализируйте эмпирическую плотность распределения дневной доходности. "
   ]
  },
  {
   "cell_type": "code",
   "execution_count": 9,
   "metadata": {},
   "outputs": [],
   "source": [
    "def ECDF(data, x):\n",
    "    counter = 0\n",
    "    for v in data:\n",
    "        if v <= x:\n",
    "            counter += 1\n",
    "    return counter / len(data)"
   ]
  },
  {
   "cell_type": "markdown",
   "metadata": {},
   "source": [
    "Задал выборочную функцию распределения."
   ]
  },
  {
   "cell_type": "code",
   "execution_count": 10,
   "metadata": {},
   "outputs": [],
   "source": [
    "co_var_d_pct_ch = d_pct_ch.groupby('Ticker')\\\n",
    "                          .var()\\\n",
    "                          .sort_values(by='Adj Close',\\\n",
    "                                       ascending=True)\\\n",
    "                          .index[0]"
   ]
  },
  {
   "cell_type": "markdown",
   "metadata": {},
   "source": [
    "Сделав группировку по тикетам, вычислил дисперсии дневных доходностей ценных бумаг. Отсортировал по возратанию значения, сделав первой ценную бумагу с минимальной дисперсией дневной доходности."
   ]
  },
  {
   "cell_type": "code",
   "execution_count": 24,
   "metadata": {},
   "outputs": [
    {
     "data": {
      "image/png": "[encoded data removed]",
      "text/plain": [
       "<Figure size 432x288 with 1 Axes>"
      ]
     },
     "metadata": {
      "needs_background": "light"
     },
     "output_type": "display_data"
    }
   ],
   "source": [
    "samples = daily_close_pr[co_var_d_pct_ch]\n",
    "npoints = 500\n",
    "dx = (samples.max()-samples.min())/npoints\n",
    "nbins = 25\n",
    "dxb = (samples.max()-samples.min())/nbins\n",
    "\n",
    "xlist = [samples.min()+dxb*i for i in range(nbins)]\n",
    "zlist = [(ECDF(samples, x+dxb)-ECDF(samples, x))/dx for x in xlist]\n",
    "\n",
    "plt.plot(xlist, zlist)\n",
    "plt.grid()"
   ]
  },
  {
   "cell_type": "markdown",
   "metadata": {},
   "source": [
    "Задали дифференциал и его изменение. Задали точки для эмпирической плотности распределения. Визуализировал эмпирическую плотность распределения дневной доходности."
   ]
  },
  {
   "cell_type": "markdown",
   "metadata": {},
   "source": [
    "#### 5. Вычислите матрицу ковариации дневных доходностей ценных бумаг и для пары ценных бумаг с наиболее низкой ковариацией постройте диаграмму рассеяния дневной доходности ценных бумаг "
   ]
  },
  {
   "cell_type": "code",
   "execution_count": 72,
   "metadata": {},
   "outputs": [
    {
     "data": {
      "image/png": "[encoded data removed]",
      "text/plain": [
       "<Figure size 432x288 with 1 Axes>"
      ]
     },
     "metadata": {
      "needs_background": "light"
     },
     "output_type": "display_data"
    }
   ],
   "source": [
    "cov_res = list(daily_close_pr.cov().min().sort_values()[0:2].index) \n",
    "\n",
    "daily_close_pr.plot\\\n",
    "              .scatter(cov_res[0],\\\n",
    "                       cov_res[1],\\\n",
    "                       title='Диаграмма рассеяния дневных доходностей акций тикеров '+str(cov_res[0])+' и '+cov_res[1]);"
   ]
  },
  {
   "cell_type": "markdown",
   "metadata": {},
   "source": [
    "Вычислил матрицу ковариации и выбрал из неё пару с наиболее низкой ковариацией. Далее построил диаграмму рассеяния дневных доходностей акций тикеров."
   ]
  }
 ],
 "metadata": {
  "kernelspec": {
   "display_name": "Python 3",
   "language": "python",
   "name": "python3"
  },
  "language_info": {
   "codemirror_mode": {
    "name": "ipython",
    "version": 3
   },
   "file_extension": ".py",
   "mimetype": "text/x-python",
   "name": "python",
   "nbconvert_exporter": "python",
   "pygments_lexer": "ipython3",
   "version": "3.7.6"
  }
 },
 "nbformat": 4,
 "nbformat_minor": 2
}
