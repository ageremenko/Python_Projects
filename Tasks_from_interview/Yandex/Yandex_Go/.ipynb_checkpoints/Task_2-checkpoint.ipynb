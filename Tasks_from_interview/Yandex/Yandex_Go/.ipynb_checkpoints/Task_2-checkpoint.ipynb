{
 "cells": [
  {
   "cell_type": "code",
   "execution_count": 1,
   "metadata": {},
   "outputs": [],
   "source": [
    "import pandas as pd\n",
    "import numpy as np\n",
    "import matplotlib.pyplot as plt\n",
    "import seaborn as sns\n",
    "import datetime\n",
    "from datetime import datetime"
   ]
  },
  {
   "cell_type": "code",
   "execution_count": 13,
   "metadata": {},
   "outputs": [
    {
     "data": {
      "text/html": [
       "<div>\n",
       "<style scoped>\n",
       "    .dataframe tbody tr th:only-of-type {\n",
       "        vertical-align: middle;\n",
       "    }\n",
       "\n",
       "    .dataframe tbody tr th {\n",
       "        vertical-align: top;\n",
       "    }\n",
       "\n",
       "    .dataframe thead th {\n",
       "        text-align: right;\n",
       "    }\n",
       "</style>\n",
       "<table border=\"1\" class=\"dataframe\">\n",
       "  <thead>\n",
       "    <tr style=\"text-align: right;\">\n",
       "      <th></th>\n",
       "      <th>Дата</th>\n",
       "      <th>Drivers, total</th>\n",
       "      <th>Drivers, core</th>\n",
       "      <th>Orders, total</th>\n",
       "      <th>Orders, core</th>\n",
       "      <th>Drivers, returned</th>\n",
       "      <th>Drivers, core, returned</th>\n",
       "    </tr>\n",
       "  </thead>\n",
       "  <tbody>\n",
       "    <tr>\n",
       "      <th>0</th>\n",
       "      <td>2017-05-01</td>\n",
       "      <td>1637</td>\n",
       "      <td>290</td>\n",
       "      <td>44833</td>\n",
       "      <td>22010</td>\n",
       "      <td>1283</td>\n",
       "      <td>280</td>\n",
       "    </tr>\n",
       "    <tr>\n",
       "      <th>1</th>\n",
       "      <td>2017-05-08</td>\n",
       "      <td>1601</td>\n",
       "      <td>339</td>\n",
       "      <td>47960</td>\n",
       "      <td>25768</td>\n",
       "      <td>1288</td>\n",
       "      <td>331</td>\n",
       "    </tr>\n",
       "    <tr>\n",
       "      <th>2</th>\n",
       "      <td>2017-05-15</td>\n",
       "      <td>1570</td>\n",
       "      <td>356</td>\n",
       "      <td>48923</td>\n",
       "      <td>27962</td>\n",
       "      <td>1261</td>\n",
       "      <td>341</td>\n",
       "    </tr>\n",
       "    <tr>\n",
       "      <th>3</th>\n",
       "      <td>2017-05-22</td>\n",
       "      <td>1565</td>\n",
       "      <td>372</td>\n",
       "      <td>49689</td>\n",
       "      <td>29863</td>\n",
       "      <td>1270</td>\n",
       "      <td>367</td>\n",
       "    </tr>\n",
       "    <tr>\n",
       "      <th>4</th>\n",
       "      <td>2017-05-29</td>\n",
       "      <td>1598</td>\n",
       "      <td>398</td>\n",
       "      <td>53222</td>\n",
       "      <td>33292</td>\n",
       "      <td>1252</td>\n",
       "      <td>385</td>\n",
       "    </tr>\n",
       "  </tbody>\n",
       "</table>\n",
       "</div>"
      ],
      "text/plain": [
       "        Дата  Drivers, total  Drivers, core  Orders, total  Orders, core  \\\n",
       "0 2017-05-01            1637            290          44833         22010   \n",
       "1 2017-05-08            1601            339          47960         25768   \n",
       "2 2017-05-15            1570            356          48923         27962   \n",
       "3 2017-05-22            1565            372          49689         29863   \n",
       "4 2017-05-29            1598            398          53222         33292   \n",
       "\n",
       "   Drivers, returned  Drivers, core, returned  \n",
       "0               1283                      280  \n",
       "1               1288                      331  \n",
       "2               1261                      341  \n",
       "3               1270                      367  \n",
       "4               1252                      385  "
      ]
     },
     "execution_count": 13,
     "metadata": {},
     "output_type": "execute_result"
    }
   ],
   "source": [
    "df = pd.read_excel('6118149_HUUZVQQT.xlsx', sheet_name=1)\n",
    "df.head()"
   ]
  },
  {
   "cell_type": "code",
   "execution_count": 12,
   "metadata": {},
   "outputs": [
    {
     "data": {
      "text/plain": [
       "10    0.311005\n",
       "dtype: float64"
      ]
     },
     "execution_count": 12,
     "metadata": {},
     "output_type": "execute_result"
    }
   ],
   "source": [
    "df[df['Дата'] == '2017-07-10']['Drivers, core']/df[df['Дата'] == '2017-07-10']['Drivers, total']"
   ]
  },
  {
   "cell_type": "code",
   "execution_count": 14,
   "metadata": {},
   "outputs": [
    {
     "data": {
      "text/plain": [
       "0.7188525172193425"
      ]
     },
     "execution_count": 14,
     "metadata": {},
     "output_type": "execute_result"
    }
   ],
   "source": [
    "df['perc_core'] = df['Orders, core']/df['Orders, total']\n",
    "df['perc_core'].max()"
   ]
  },
  {
   "cell_type": "code",
   "execution_count": 19,
   "metadata": {},
   "outputs": [
    {
     "data": {
      "text/plain": [
       "17    14.156432\n",
       "dtype: float64"
      ]
     },
     "execution_count": 19,
     "metadata": {},
     "output_type": "execute_result"
    }
   ],
   "source": [
    "(df[df['Дата'] == '2017-08-28']['Orders, total']-df[df['Дата'] == '2017-08-28']['Orders, core']) / df[df['Дата'] == '2017-08-28']['Drivers, total'] "
   ]
  },
  {
   "cell_type": "code",
   "execution_count": 28,
   "metadata": {},
   "outputs": [
    {
     "data": {
      "text/html": [
       "<div>\n",
       "<style scoped>\n",
       "    .dataframe tbody tr th:only-of-type {\n",
       "        vertical-align: middle;\n",
       "    }\n",
       "\n",
       "    .dataframe tbody tr th {\n",
       "        vertical-align: top;\n",
       "    }\n",
       "\n",
       "    .dataframe thead th {\n",
       "        text-align: right;\n",
       "    }\n",
       "</style>\n",
       "<table border=\"1\" class=\"dataframe\">\n",
       "  <thead>\n",
       "    <tr style=\"text-align: right;\">\n",
       "      <th></th>\n",
       "      <th>Дата</th>\n",
       "      <th>Drivers, total</th>\n",
       "      <th>Drivers, core</th>\n",
       "      <th>Orders, total</th>\n",
       "      <th>Orders, core</th>\n",
       "      <th>Drivers, returned</th>\n",
       "      <th>Drivers, core, returned</th>\n",
       "      <th>perc_core</th>\n",
       "      <th>доля</th>\n",
       "    </tr>\n",
       "  </thead>\n",
       "  <tbody>\n",
       "    <tr>\n",
       "      <th>36</th>\n",
       "      <td>2018-01-08</td>\n",
       "      <td>3669</td>\n",
       "      <td>837</td>\n",
       "      <td>114994</td>\n",
       "      <td>67204</td>\n",
       "      <td>2725</td>\n",
       "      <td>793</td>\n",
       "      <td>0.584413</td>\n",
       "      <td>0.742709</td>\n",
       "    </tr>\n",
       "  </tbody>\n",
       "</table>\n",
       "</div>"
      ],
      "text/plain": [
       "         Дата  Drivers, total  Drivers, core  Orders, total  Orders, core  \\\n",
       "36 2018-01-08            3669            837         114994         67204   \n",
       "\n",
       "    Drivers, returned  Drivers, core, returned  perc_core      доля  \n",
       "36               2725                      793   0.584413  0.742709  "
      ]
     },
     "execution_count": 28,
     "metadata": {},
     "output_type": "execute_result"
    }
   ],
   "source": [
    "df['доля'] = df['Drivers, returned']/df['Drivers, total']\n",
    "df[df['доля'] == df['доля'].min()]"
   ]
  }
 ],
 "metadata": {
  "kernelspec": {
   "display_name": "Python 3",
   "language": "python",
   "name": "python3"
  },
  "language_info": {
   "codemirror_mode": {
    "name": "ipython",
    "version": 3
   },
   "file_extension": ".py",
   "mimetype": "text/x-python",
   "name": "python",
   "nbconvert_exporter": "python",
   "pygments_lexer": "ipython3",
   "version": "3.7.6"
  }
 },
 "nbformat": 4,
 "nbformat_minor": 4
}
