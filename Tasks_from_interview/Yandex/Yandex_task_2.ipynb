{
 "cells": [
  {
   "cell_type": "code",
   "execution_count": 1,
   "metadata": {},
   "outputs": [],
   "source": [
    "import sys\n",
    "import math\n",
    "\n",
    "parametrs = []\n",
    "n = parametrs[0]\n",
    "m = parametrs[1]\n",
    "s = []\n",
    "ingred =[]\n",
    "k = 0\n",
    "\n",
    "with open('input.txt') as f:\n",
    "    line = f.readline()\n",
    "    \n",
    "    \n",
    "    parametrs.append(list(line))\n",
    "    \n",
    "    n = parametrs[0]\n",
    "    m = parametrs[1]\n",
    "    \n",
    "    for i in range(n):\n",
    "        s.append(list(f.readline()))\n",
    "    \n",
    "    k = f.readline()\n",
    "\n",
    "    for i in range(k):\n",
    "        ingred.append(list(f.readline()))\n",
    "\n",
    "\n",
    "s = s[::-1]\n",
    "\n",
    "new_s = []\n",
    "new_s.append(s[0])\n",
    "for line in s[1:]:  \n",
    "    if len(drink)>0:\n",
    "        new_line = line.replace(' ', str(drink[0]))\n",
    "        new_s.append(new_line)\n",
    "        del drink[0]\n",
    "    else:\n",
    "        new_s.append(line)\n",
    "        \n",
    "new_s = new_s[::-1]\n",
    "for i in new_s:\n",
    "    print(i)"
   ]
  },
  {
   "cell_type": "code",
   "execution_count": 2,
   "metadata": {},
   "outputs": [],
   "source": []
  },
  {
   "cell_type": "code",
   "execution_count": 3,
   "metadata": {},
   "outputs": [
    {
     "data": {
      "text/plain": [
       "['.....\\\\___/.....',\n",
       " '....\\\\%%%%%/....',\n",
       " '...|%%%%%%%|...',\n",
       " '...|*******|...',\n",
       " '..\\\\*********/..',\n",
       " '.|***********|.',\n",
       " '.|***********|.',\n",
       " '\\\\             /']"
      ]
     },
     "execution_count": 3,
     "metadata": {},
     "output_type": "execute_result"
    }
   ],
   "source": [
    "new_s = []\n",
    "new_s.append(s[0])\n",
    "for line in s[1:]:  \n",
    "    if len(drink)>0:\n",
    "        new_line = line.replace(' ', str(drink[0]))\n",
    "        new_s.append(new_line)\n",
    "        del drink[0]\n",
    "    else:\n",
    "        new_s.append(line)"
   ]
  },
  {
   "cell_type": "code",
   "execution_count": 4,
   "metadata": {},
   "outputs": [
    {
     "name": "stdout",
     "output_type": "stream",
     "text": [
      "\\             /\n",
      ".|***********|.\n",
      ".|***********|.\n",
      "..\\*********/..\n",
      "...|*******|...\n",
      "...|%%%%%%%|...\n",
      "....\\%%%%%/....\n",
      ".....\\___/.....\n"
     ]
    }
   ],
   "source": [
    "new_s = new_s[::-1]\n",
    "for i in new_s:\n",
    "    print(i)"
   ]
  },
  {
   "cell_type": "code",
   "execution_count": null,
   "metadata": {},
   "outputs": [],
   "source": []
  },
  {
   "cell_type": "code",
   "execution_count": null,
   "metadata": {},
   "outputs": [],
   "source": []
  }
 ],
 "metadata": {
  "kernelspec": {
   "display_name": "Python 3",
   "language": "python",
   "name": "python3"
  },
  "language_info": {
   "codemirror_mode": {
    "name": "ipython",
    "version": 3
   },
   "file_extension": ".py",
   "mimetype": "text/x-python",
   "name": "python",
   "nbconvert_exporter": "python",
   "pygments_lexer": "ipython3",
   "version": "3.7.6"
  }
 },
 "nbformat": 4,
 "nbformat_minor": 4
}
