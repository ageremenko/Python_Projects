{
 "cells": [
  {
   "cell_type": "code",
   "execution_count": 2,
   "metadata": {},
   "outputs": [
    {
     "name": "stdout",
     "output_type": "stream",
     "text": [
      "YES\n",
      "YES\n",
      "YES\n"
     ]
    }
   ],
   "source": [
    "import sys\n",
    "import math\n",
    "#import numpy as np\n",
    "#str = sys.stdin.read()\n",
    "\n",
    "def median(l):\n",
    "    l = sorted(l)   \n",
    "    return l[1]\n",
    "\n",
    "s = '2 6 5'\n",
    "l = []\n",
    "for t in s.split():\n",
    "    try:\n",
    "        l.append(int(t))\n",
    "    except ValueError:\n",
    "        pass\n",
    "\n",
    "\n",
    "for i in range(len(l)):\n",
    "    l_buf = l.copy()\n",
    "    \n",
    "    if l_buf[i]==median(l_buf):\n",
    "        print('YES')\n",
    "    else:\n",
    "        l_buf = l.copy()\n",
    "       \n",
    "        l_buf[i] = l_buf[i]-l_buf[i-1]\n",
    "        \n",
    "        if l_buf[i]==median(l_buf):\n",
    "            print('YES')\n",
    "        else:\n",
    "            l_buf = l.copy()\n",
    "           \n",
    "            l_buf[i] = l_buf[i]-l_buf[i-2]\n",
    "            \n",
    "            if l_buf[i]==median(l_buf):\n",
    "                print('YES')\n",
    "            else:\n",
    "                l_buf = l.copy()\n",
    "               \n",
    "                l_buf[i-2] = l_buf[i-2]-l_buf[i-1]\n",
    "                \n",
    "                if l_buf[i]==median(l_buf):\n",
    "                    print('YES')\n",
    "                else:\n",
    "                    l_buf = l.copy()\n",
    "                    \n",
    "                    l_buf[i-1] = l_buf[i-1]-l_buf[i-2]\n",
    "                    \n",
    "                    if l_buf[i]==median(l_buf):\n",
    "                        print('YES')\n",
    "                    else:\n",
    "                        print('NO')\n",
    "                        \n",
    "\n"
   ]
  },
  {
   "cell_type": "code",
   "execution_count": null,
   "metadata": {},
   "outputs": [],
   "source": [
    "l"
   ]
  },
  {
   "cell_type": "code",
   "execution_count": null,
   "metadata": {},
   "outputs": [],
   "source": [
    "median(l_buf)"
   ]
  },
  {
   "cell_type": "code",
   "execution_count": null,
   "metadata": {},
   "outputs": [],
   "source": []
  }
 ],
 "metadata": {
  "kernelspec": {
   "display_name": "Python 3",
   "language": "python",
   "name": "python3"
  },
  "language_info": {
   "codemirror_mode": {
    "name": "ipython",
    "version": 3
   },
   "file_extension": ".py",
   "mimetype": "text/x-python",
   "name": "python",
   "nbconvert_exporter": "python",
   "pygments_lexer": "ipython3",
   "version": "3.7.6"
  }
 },
 "nbformat": 4,
 "nbformat_minor": 4
}
