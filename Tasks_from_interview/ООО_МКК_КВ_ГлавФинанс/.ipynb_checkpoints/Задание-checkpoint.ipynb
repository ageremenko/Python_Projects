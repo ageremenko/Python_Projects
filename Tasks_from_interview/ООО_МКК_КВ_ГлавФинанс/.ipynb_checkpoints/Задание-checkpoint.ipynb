{
 "cells": [
  {
   "cell_type": "markdown",
   "metadata": {},
   "source": [
    "1. Сейчас порог отсечения для первичных клиентов (1 займ) по скорингу 200, при этом уровень просрочки 30+ (дней) составляет 22,3%. Какой порог отсечения необходимо поставить чтобы добиться уровня просрочки 30+ равным 14%.\n",
    "Используйте шаг скорингового балла = 50\n",
    "Поясните целесообразность этотого шага.\n",
    "Визуализируйте ответ"
   ]
  },
  {
   "cell_type": "code",
   "execution_count": 1,
   "metadata": {},
   "outputs": [],
   "source": [
    "import pandas as pd\n",
    "import numpy as np\n",
    "import matplotlib.pyplot as plt\n",
    "import seaborn as sns\n"
   ]
  },
  {
   "cell_type": "code",
   "execution_count": 2,
   "metadata": {},
   "outputs": [],
   "source": [
    "df = pd.read_excel('Тест_для_кандидата_риск_аналитик.xlsx', sheet_name=1)"
   ]
  },
  {
   "cell_type": "code",
   "execution_count": 3,
   "metadata": {},
   "outputs": [],
   "source": [
    "score_point = [200]\n",
    "cut_off = [22.3]"
   ]
  },
  {
   "cell_type": "code",
   "execution_count": 4,
   "metadata": {},
   "outputs": [],
   "source": [
    "while min(cut_off) > 14:\n",
    "    \n",
    "    score_point.append(max(score_point)+50)\n",
    "\n",
    "    first_loan = df[(df['Скоринговый балл Скиба']>=max(score_point)) &\\\n",
    "                       (df['Какой по счету займ у клиента']==1)]['ID займа'].count()\n",
    "\n",
    "    days_delay = df[(df['Скоринговый балл Скиба']>=max(score_point)) &\\\n",
    "                       (df['Какой по счету займ у клиента']==1) &\\\n",
    "                       (df['Итоговое дней просрочки']>=30)]['ID займа'].count()\n",
    "\n",
    "    cut_off.append((days_delay/first_loan)*100)"
   ]
  },
  {
   "cell_type": "code",
   "execution_count": 5,
   "metadata": {},
   "outputs": [
    {
     "name": "stdout",
     "output_type": "stream",
     "text": [
      "Скоринговый балл: 350\n",
      "Уровень просрочки: 13.953488372093023\n"
     ]
    }
   ],
   "source": [
    "print('Скоринговый балл: '+str(max(score_point))+'\\nУровень просрочки: '+str(min(cut_off)))  "
   ]
  },
  {
   "cell_type": "code",
   "execution_count": 6,
   "metadata": {},
   "outputs": [
    {
     "data": {
      "image/png": "[encoded data removed]",
      "text/plain": [
       "<Figure size 640x480 with 1 Axes>"
      ]
     },
     "metadata": {
      "needs_background": "light"
     },
     "output_type": "display_data"
    }
   ],
   "source": [
    "%matplotlib inline\n",
    "\n",
    "plt.figure( figsize=(8, 6), dpi=80 )\n",
    "\n",
    "plt.plot( score_point, cut_off) \n",
    "\n",
    "plt.xlabel('Скоринговый балл') \n",
    "plt.ylabel('Уровень просрочки в %')\n",
    "plt.title('Просрочка 30+ дней');"
   ]
  },
  {
   "cell_type": "markdown",
   "metadata": {},
   "source": [
    "2. Найти способ снизить просрочку 90+ (дней) по всем категориям займов более чем на 70%\n",
    "Визуализируйте ответ"
   ]
  },
  {
   "cell_type": "code",
   "execution_count": 7,
   "metadata": {},
   "outputs": [
    {
     "data": {
      "text/html": [
       "<div>\n",
       "<style scoped>\n",
       "    .dataframe tbody tr th:only-of-type {\n",
       "        vertical-align: middle;\n",
       "    }\n",
       "\n",
       "    .dataframe tbody tr th {\n",
       "        vertical-align: top;\n",
       "    }\n",
       "\n",
       "    .dataframe thead th {\n",
       "        text-align: right;\n",
       "    }\n",
       "</style>\n",
       "<table border=\"1\" class=\"dataframe\">\n",
       "  <thead>\n",
       "    <tr style=\"text-align: right;\">\n",
       "      <th></th>\n",
       "      <th>ID займа</th>\n",
       "      <th>id верификатора</th>\n",
       "      <th>Статус займа (4 - закрыт, 3 не выплачен)</th>\n",
       "      <th>Дата выдачи займа</th>\n",
       "      <th>Дата закрытия</th>\n",
       "      <th>Какой по счету займ у клиента</th>\n",
       "      <th>Количество продлений срока погашения по этому займу</th>\n",
       "      <th>Возраст</th>\n",
       "      <th>Пол (0 - м, 1-ж)</th>\n",
       "      <th>Количество детей</th>\n",
       "      <th>Скоринговый балл Скиба</th>\n",
       "      <th>Регион проживания</th>\n",
       "      <th>Регион паспорт</th>\n",
       "      <th>Дата погашения</th>\n",
       "      <th>Итоговое дней просрочки</th>\n",
       "      <th>Наличие просрочки ЖКХ</th>\n",
       "      <th>Наличие просрочки по кредитным картам</th>\n",
       "      <th>Наличие неоплаченных штрафов ГИБДД</th>\n",
       "      <th>Наличие производства в ФССП</th>\n",
       "    </tr>\n",
       "  </thead>\n",
       "  <tbody>\n",
       "    <tr>\n",
       "      <th>0</th>\n",
       "      <td>1</td>\n",
       "      <td>3</td>\n",
       "      <td>3</td>\n",
       "      <td>2019-09-24 14:37:56</td>\n",
       "      <td>NaT</td>\n",
       "      <td>3</td>\n",
       "      <td>1</td>\n",
       "      <td>32.424658</td>\n",
       "      <td>0</td>\n",
       "      <td>1</td>\n",
       "      <td>183</td>\n",
       "      <td>Самарская обл.</td>\n",
       "      <td>Самарская обл.</td>\n",
       "      <td>2019-11-19</td>\n",
       "      <td>115</td>\n",
       "      <td>1.0</td>\n",
       "      <td>NaN</td>\n",
       "      <td>1.0</td>\n",
       "      <td>NaN</td>\n",
       "    </tr>\n",
       "    <tr>\n",
       "      <th>1</th>\n",
       "      <td>2</td>\n",
       "      <td>20</td>\n",
       "      <td>4</td>\n",
       "      <td>2019-09-24 15:08:01</td>\n",
       "      <td>2019-10-06 16:54:28</td>\n",
       "      <td>4</td>\n",
       "      <td>0</td>\n",
       "      <td>39.734247</td>\n",
       "      <td>1</td>\n",
       "      <td>2</td>\n",
       "      <td>222</td>\n",
       "      <td>Московская обл.</td>\n",
       "      <td>Московская обл.</td>\n",
       "      <td>2019-10-06</td>\n",
       "      <td>0</td>\n",
       "      <td>NaN</td>\n",
       "      <td>NaN</td>\n",
       "      <td>NaN</td>\n",
       "      <td>1.0</td>\n",
       "    </tr>\n",
       "    <tr>\n",
       "      <th>2</th>\n",
       "      <td>3</td>\n",
       "      <td>3</td>\n",
       "      <td>4</td>\n",
       "      <td>2019-09-24 15:16:11</td>\n",
       "      <td>2019-11-13 19:16:09</td>\n",
       "      <td>10</td>\n",
       "      <td>0</td>\n",
       "      <td>43.509589</td>\n",
       "      <td>1</td>\n",
       "      <td>1</td>\n",
       "      <td>422</td>\n",
       "      <td>Курская обл.</td>\n",
       "      <td>Курская обл.</td>\n",
       "      <td>2019-10-23</td>\n",
       "      <td>21</td>\n",
       "      <td>NaN</td>\n",
       "      <td>1.0</td>\n",
       "      <td>NaN</td>\n",
       "      <td>NaN</td>\n",
       "    </tr>\n",
       "    <tr>\n",
       "      <th>3</th>\n",
       "      <td>4</td>\n",
       "      <td>97</td>\n",
       "      <td>4</td>\n",
       "      <td>2019-09-24 15:25:08</td>\n",
       "      <td>2019-10-02 15:02:18</td>\n",
       "      <td>1</td>\n",
       "      <td>0</td>\n",
       "      <td>30.695890</td>\n",
       "      <td>1</td>\n",
       "      <td>1</td>\n",
       "      <td>142</td>\n",
       "      <td>Мурманская обл.</td>\n",
       "      <td>Мурманская обл.</td>\n",
       "      <td>2019-10-02</td>\n",
       "      <td>0</td>\n",
       "      <td>NaN</td>\n",
       "      <td>1.0</td>\n",
       "      <td>NaN</td>\n",
       "      <td>1.0</td>\n",
       "    </tr>\n",
       "    <tr>\n",
       "      <th>4</th>\n",
       "      <td>5</td>\n",
       "      <td>97</td>\n",
       "      <td>4</td>\n",
       "      <td>2019-09-24 15:35:12</td>\n",
       "      <td>2019-10-29 10:44:37</td>\n",
       "      <td>1</td>\n",
       "      <td>0</td>\n",
       "      <td>37.002740</td>\n",
       "      <td>0</td>\n",
       "      <td>2</td>\n",
       "      <td>441</td>\n",
       "      <td>Краснодарский край</td>\n",
       "      <td>Краснодарский край</td>\n",
       "      <td>2019-10-24</td>\n",
       "      <td>5</td>\n",
       "      <td>NaN</td>\n",
       "      <td>1.0</td>\n",
       "      <td>1.0</td>\n",
       "      <td>NaN</td>\n",
       "    </tr>\n",
       "  </tbody>\n",
       "</table>\n",
       "</div>"
      ],
      "text/plain": [
       "   ID займа  id верификатора  Статус займа (4 - закрыт, 3 не выплачен)  \\\n",
       "0         1                3                                         3   \n",
       "1         2               20                                         4   \n",
       "2         3                3                                         4   \n",
       "3         4               97                                         4   \n",
       "4         5               97                                         4   \n",
       "\n",
       "    Дата выдачи займа       Дата закрытия  Какой по счету займ у клиента  \\\n",
       "0 2019-09-24 14:37:56                 NaT                              3   \n",
       "1 2019-09-24 15:08:01 2019-10-06 16:54:28                              4   \n",
       "2 2019-09-24 15:16:11 2019-11-13 19:16:09                             10   \n",
       "3 2019-09-24 15:25:08 2019-10-02 15:02:18                              1   \n",
       "4 2019-09-24 15:35:12 2019-10-29 10:44:37                              1   \n",
       "\n",
       "   Количество продлений срока погашения по этому займу    Возраст  \\\n",
       "0                                                  1    32.424658   \n",
       "1                                                  0    39.734247   \n",
       "2                                                  0    43.509589   \n",
       "3                                                  0    30.695890   \n",
       "4                                                  0    37.002740   \n",
       "\n",
       "   Пол (0 - м, 1-ж)  Количество детей  Скоринговый балл Скиба  \\\n",
       "0                 0                 1                     183   \n",
       "1                 1                 2                     222   \n",
       "2                 1                 1                     422   \n",
       "3                 1                 1                     142   \n",
       "4                 0                 2                     441   \n",
       "\n",
       "    Регион проживания      Регион паспорт Дата погашения  \\\n",
       "0      Самарская обл.      Самарская обл.     2019-11-19   \n",
       "1     Московская обл.     Московская обл.     2019-10-06   \n",
       "2        Курская обл.        Курская обл.     2019-10-23   \n",
       "3     Мурманская обл.     Мурманская обл.     2019-10-02   \n",
       "4  Краснодарский край  Краснодарский край     2019-10-24   \n",
       "\n",
       "   Итоговое дней просрочки  Наличие просрочки ЖКХ  \\\n",
       "0                      115                    1.0   \n",
       "1                        0                    NaN   \n",
       "2                       21                    NaN   \n",
       "3                        0                    NaN   \n",
       "4                        5                    NaN   \n",
       "\n",
       "   Наличие просрочки по кредитным картам  Наличие неоплаченных штрафов ГИБДД  \\\n",
       "0                                    NaN                                 1.0   \n",
       "1                                    NaN                                 NaN   \n",
       "2                                    1.0                                 NaN   \n",
       "3                                    1.0                                 NaN   \n",
       "4                                    1.0                                 1.0   \n",
       "\n",
       "   Наличие производства в ФССП  \n",
       "0                          NaN  \n",
       "1                          1.0  \n",
       "2                          NaN  \n",
       "3                          1.0  \n",
       "4                          NaN  "
      ]
     },
     "execution_count": 7,
     "metadata": {},
     "output_type": "execute_result"
    }
   ],
   "source": [
    "df.head()"
   ]
  },
  {
   "cell_type": "code",
   "execution_count": 8,
   "metadata": {},
   "outputs": [
    {
     "data": {
      "text/plain": [
       "id верификатора                          1010\n",
       "Скоринговый балл Скиба                   1010\n",
       "Какой по счету займ у клиента            1010\n",
       "Количество детей                         1010\n",
       "Наличие просрочки ЖКХ                    1010\n",
       "Наличие просрочки по кредитным картам    1010\n",
       "Наличие неоплаченных штрафов ГИБДД       1010\n",
       "Наличие производства в ФССП              1010\n",
       "dtype: int64"
      ]
     },
     "execution_count": 8,
     "metadata": {},
     "output_type": "execute_result"
    }
   ],
   "source": [
    "df_delay_90 = df[(df['Итоговое дней просрочки']>=90)][['id верификатора',\\\n",
    "                                                       'Скоринговый балл Скиба',\\\n",
    "                                                       'Какой по счету займ у клиента',\\\n",
    "                                                       'Количество детей',\\\n",
    "                                                       'Наличие просрочки ЖКХ',\\\n",
    "                                                       'Наличие просрочки по кредитным картам',\\\n",
    "                                                       'Наличие неоплаченных штрафов ГИБДД',\\\n",
    "                                                       'Наличие производства в ФССП']].fillna(0)\n",
    "df_delay_90.count()"
   ]
  },
  {
   "cell_type": "code",
   "execution_count": 9,
   "metadata": {},
   "outputs": [
    {
     "data": {
      "text/plain": [
       "29.207920792079207"
      ]
     },
     "execution_count": 9,
     "metadata": {},
     "output_type": "execute_result"
    }
   ],
   "source": [
    "df_delay_90_new = df[(df['Итоговое дней просрочки']>=90)&\\\n",
    "                     (df['Какой по счету займ у клиента']>=3)&\\\n",
    "                     (df['Скоринговый балл Скиба']>=100)].fillna(0)\n",
    "\n",
    "(df_delay_90_new['id верификатора'].count()/df_delay_90['id верификатора'].count())*100"
   ]
  },
  {
   "cell_type": "code",
   "execution_count": 10,
   "metadata": {},
   "outputs": [
    {
     "data": {
      "image/png": "[encoded data removed]",
      "text/plain": [
       "<Figure size 720x432 with 1 Axes>"
      ]
     },
     "metadata": {
      "needs_background": "light"
     },
     "output_type": "display_data"
    }
   ],
   "source": [
    "%matplotlib inline\n",
    "\n",
    "plt.figure(figsize=(10,6))\n",
    "plt.title(\"Просрочка 90+ дней\", fontsize=18, fontweight='bold')\n",
    "plt.ylabel(\"Количество просроченных займов\", fontsize=16)\n",
    "plt.tick_params(labelsize=14)\n",
    "sns.barplot(x=['До снижения','После снижения'],\\\n",
    "            y=[df_delay_90['id верификатора'].count(), df_delay_90_new['id верификатора'].count()]);\n"
   ]
  },
  {
   "cell_type": "markdown",
   "metadata": {},
   "source": [
    "\n",
    "3. Какие еще переменные из выгрузки, кроме скорингового балла, наиболее коррелируют с возвратностью первичных займов (1 займ). Визуализируйте ответ"
   ]
  },
  {
   "cell_type": "code",
   "execution_count": 11,
   "metadata": {},
   "outputs": [],
   "source": [
    "df_3 = df[(df['Какой по счету займ у клиента']==1)].fillna(0)\n",
    "df_3.reset_index(drop=True, inplace=True)"
   ]
  },
  {
   "cell_type": "code",
   "execution_count": 12,
   "metadata": {},
   "outputs": [
    {
     "data": {
      "text/plain": [
       "['Количество продлений срока погашения по этому займу',\n",
       " 'Возраст',\n",
       " 'Пол (0 - м, 1-ж)',\n",
       " 'Количество детей',\n",
       " 'Итоговое дней просрочки',\n",
       " 'Наличие просрочки ЖКХ',\n",
       " 'Наличие просрочки по кредитным картам',\n",
       " 'Наличие неоплаченных штрафов ГИБДД',\n",
       " 'Наличие производства в ФССП']"
      ]
     },
     "execution_count": 12,
     "metadata": {},
     "output_type": "execute_result"
    }
   ],
   "source": [
    "status = df_3['Статус займа (4 - закрыт, 3 не выплачен)']\n",
    "num_list = []\n",
    "for i in df_3.columns.drop(['ID займа','id верификатора', 'Скоринговый балл Скиба',\\\n",
    "                          'Какой по счету займ у клиента', 'Статус займа (4 - закрыт, 3 не выплачен)']):\n",
    "    if isinstance(df_3[i][0], (int,float,np.int64,np.float64)) == True:\n",
    "        num_list.append(i)\n",
    "num_list"
   ]
  },
  {
   "cell_type": "code",
   "execution_count": 13,
   "metadata": {},
   "outputs": [
    {
     "data": {
      "text/html": [
       "<div>\n",
       "<style scoped>\n",
       "    .dataframe tbody tr th:only-of-type {\n",
       "        vertical-align: middle;\n",
       "    }\n",
       "\n",
       "    .dataframe tbody tr th {\n",
       "        vertical-align: top;\n",
       "    }\n",
       "\n",
       "    .dataframe thead th {\n",
       "        text-align: right;\n",
       "    }\n",
       "</style>\n",
       "<table border=\"1\" class=\"dataframe\">\n",
       "  <thead>\n",
       "    <tr style=\"text-align: right;\">\n",
       "      <th></th>\n",
       "      <th>Количество продлений срока погашения по этому займу</th>\n",
       "      <th>Возраст</th>\n",
       "      <th>Пол (0 - м, 1-ж)</th>\n",
       "      <th>Количество детей</th>\n",
       "      <th>Итоговое дней просрочки</th>\n",
       "      <th>Наличие просрочки ЖКХ</th>\n",
       "      <th>Наличие просрочки по кредитным картам</th>\n",
       "      <th>Наличие неоплаченных штрафов ГИБДД</th>\n",
       "      <th>Наличие производства в ФССП</th>\n",
       "    </tr>\n",
       "  </thead>\n",
       "  <tbody>\n",
       "    <tr>\n",
       "      <th>Возвратность первичных займов</th>\n",
       "      <td>0.0485434</td>\n",
       "      <td>0.0380787</td>\n",
       "      <td>0.00234158</td>\n",
       "      <td>0.0190462</td>\n",
       "      <td>0.825024</td>\n",
       "      <td>0.696879</td>\n",
       "      <td>0.113417</td>\n",
       "      <td>0.0521163</td>\n",
       "      <td>0.00775703</td>\n",
       "    </tr>\n",
       "  </tbody>\n",
       "</table>\n",
       "</div>"
      ],
      "text/plain": [
       "                              Количество продлений срока погашения по этому займу  \\\n",
       "Возвратность первичных займов                                          0.0485434    \n",
       "\n",
       "                                 Возраст Пол (0 - м, 1-ж) Количество детей  \\\n",
       "Возвратность первичных займов  0.0380787       0.00234158        0.0190462   \n",
       "\n",
       "                              Итоговое дней просрочки Наличие просрочки ЖКХ  \\\n",
       "Возвратность первичных займов                0.825024              0.696879   \n",
       "\n",
       "                              Наличие просрочки по кредитным картам  \\\n",
       "Возвратность первичных займов                              0.113417   \n",
       "\n",
       "                              Наличие неоплаченных штрафов ГИБДД  \\\n",
       "Возвратность первичных займов                          0.0521163   \n",
       "\n",
       "                              Наличие производства в ФССП  \n",
       "Возвратность первичных займов                  0.00775703  "
      ]
     },
     "execution_count": 13,
     "metadata": {},
     "output_type": "execute_result"
    }
   ],
   "source": [
    "df_first_loan = pd.DataFrame(index=['Возвратность первичных займов'],columns=num_list)\n",
    "\n",
    "for i in num_list:\n",
    "    df_first_loan[i][0] = abs(df_3[num_list][i].corr(status))              # делаем корреляцию каждого столбца со статусом\n",
    "\n",
    "df_first_loan   "
   ]
  },
  {
   "cell_type": "code",
   "execution_count": 14,
   "metadata": {},
   "outputs": [
    {
     "data": {
      "image/png": "[encoded data removed]",
      "text/plain": [
       "<Figure size 1440x432 with 1 Axes>"
      ]
     },
     "metadata": {
      "needs_background": "light"
     },
     "output_type": "display_data"
    }
   ],
   "source": [
    "%matplotlib inline\n",
    "\n",
    "plt.figure(figsize=(20,6))\n",
    "plt.title(\"Просрочка 30+ дней\", fontsize=18, fontweight='bold')\n",
    "plt.xlabel(\"Корреляция\", fontsize=16)\n",
    "plt.tick_params(labelsize=14)\n",
    "plt.xticks(rotation=90)\n",
    "sns.barplot(x=list(df_first_loan.values[0]),\\\n",
    "            y=df_first_loan.columns);\n"
   ]
  },
  {
   "cell_type": "code",
   "execution_count": null,
   "metadata": {},
   "outputs": [],
   "source": []
  }
 ],
 "metadata": {
  "kernelspec": {
   "display_name": "Python 3",
   "language": "python",
   "name": "python3"
  },
  "language_info": {
   "codemirror_mode": {
    "name": "ipython",
    "version": 3
   },
   "file_extension": ".py",
   "mimetype": "text/x-python",
   "name": "python",
   "nbconvert_exporter": "python",
   "pygments_lexer": "ipython3",
   "version": "3.7.6"
  }
 },
 "nbformat": 4,
 "nbformat_minor": 4
}
