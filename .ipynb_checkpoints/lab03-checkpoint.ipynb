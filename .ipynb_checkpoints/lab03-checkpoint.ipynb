{
 "cells": [
  {
   "cell_type": "code",
   "execution_count": 1,
   "metadata": {},
   "outputs": [],
   "source": [
    "import requests\n",
    "import json"
   ]
  },
  {
   "cell_type": "code",
   "execution_count": 2,
   "metadata": {},
   "outputs": [],
   "source": [
    "url = 'https://oauth.vk.com/authorize'\n",
    "payload = {'client_id': '7866591', 'display': 'page', 'redirect_uri': 'https://oauth.vk.com/blank.htm',\n",
    "           'scope': 'friends', 'response_type': 'token', 'v': '5.89'}\n",
    "\n",
    "req_1 = requests.get(url, params=payload)"
   ]
  },
  {
   "cell_type": "code",
   "execution_count": 3,
   "metadata": {},
   "outputs": [
    {
     "name": "stdout",
     "output_type": "stream",
     "text": [
      "            <!DOCTYPE html>\n",
      "      <html lang=\"ru\" class=\"vk vk_js_no vk_1x vk_flex_no r d h  vk_appAuth_no n vk_old  vk_schemes_no  \">\n",
      "      <head>\n",
      "              <meta charset=\"utf-8\">\n",
      "        <meta name=\"viewport\" content=\"width=device-width, initial-scale=1.0, minimum-scale=1.0, maximum-scale=1.0, minimal-ui, user-scalable=no\" />\n",
      "        <meta name=\"format-detection\" content=\"telephone=no\" />\n",
      "        <meta http-equiv=\"X-UA-Compatible\" content=\"IE=edge\" />\n",
      "        <meta name=\"MobileOptimized\" content=\"176\" />\n",
      "        <meta name=\"HandheldFriendly\" content=\"True\" />\n",
      "        <base id=\"base\">\n",
      "        \n",
      "        <meta name=\"description\" content=\"\" />\n",
      "        <meta property=\"og:description\" content=\"\" />\n",
      "        <link rel=\"shortcut icon\" href=\"/images/icons/favicons/fav_logo.ico?8\"></link>\n",
      "            <meta name=\"theme-color\" content=\"#ffffff\" />\n",
      "    <link rel=\"icon\" type=\"image/png\" sizes=\"32x32\" href=\"/images/icons/pwa/favicon_32.png?11\">\n",
      "    <link rel=\"apple-touch-icon\" href=\"/images/icons/pwa/apple/default.png?11\">\n",
      "    <meta name=\"apple-mobile-web-app-title\" content=\"ВКонтакте\">\n",
      "    <meta name=\"application-name\" content=\"ВКонтакте\">\n",
      "    <meta name=\"mobile-web-app-capable\" content=\"yes\">\n",
      "    <meta name=\"apple-mobile-web-app-status-bar-style\" content=\"black\">\n",
      "        <title>Получение доступа к ВКонтакте | ВКонтакте</title>\n",
      "        <meta http-equiv=\"origin-trial\" content=\"Av8ECqeAAIiC9bF3N7aq2M/TaxNzzpPcFXnw0rRb9KRUQlbyHKYmPj6KeVUFVDk+S7W9RfJH2GsEOS8G99uJvgcAAABaeyJvcmlnaW4iOiJodHRwczovL3ZrLmNvbTo0NDMiLCJmZWF0dXJlIjoiQmFkZ2luZyIsImV4cGlyeSI6MTU2MTY2MTkxNCwiaXNTdWJkb21haW4iOnRydWV9\">\n",
      "        \n",
      "        <script>\n",
      "          (function() {\n",
      "            window.vk = {\"id\":0,\"__debug\":false,\"__dev\":false,\"wsTransport\":\"https:\\/\\/stats.vk-portal.net\",\"statsMeta\":{\"platform\":\"mvk\",\"st\":false,\"time\":1622365233,\"hash\":\"YsKMhrZbecOwbB8bcpEVQDUczC0oa7DmxuoN9Q94qLo\"},\"tnsPixelType\":\"unauth\",\"tnsPixelSocdem\":\"13\",\"platform\":\"mvk\",\"rv\":\"107319\",\"ts\":1622365233,\"sw\":null,\"stFiles\":{\"https:\\/\\/st2-10.vk.com\\/css\\/mobile\\/variables.af4e87ff1a66fb3c66a5.css\":\"\",\"https:\\/\\/st2-10.vk.com\\/css\\/mobile\\/oauth_base.6bff824a2bc2c4494704.css\":\"\",\"https:\\/\\/st2-10.vk.com\\/css\\/mobile\\/common.31a7166f9b5b854315e6.css\":\"\",\"https:\\/\\/st2-10.vk.com\\/css\\/mobile\\/unauthorized.1ba0fca371d487ff36c9.css\":\"\",\"https:\\/\\/st2-10.vk.com\\/js\\/cmodules\\/mobile\\/runtime.222fa5f5faa3a140ee22.js\":\"03813d1e6b191d01b27465767de90dfd938cb85c42ff5b708f18a89611d96b06\",\"https:\\/\\/st2-10.vk.com\\/js\\/cmodules\\/mobile\\/vendor.388f373daa5fd1fb3694.js\":\"f4865ea367c12de78678c3ec19070229dfeeb26bccdee7efc3f1081190564420\",\"https:\\/\\/st2-10.vk.com\\/js\\/cmodules\\/mobile\\/polyfills.d278122d5b48591daff8.js\":\"bdbcf0384e5fb68742aae57a025419fdc61b07377d07994dd27ff2d2408e2429\",\"https:\\/\\/st2-10.vk.com\\/js\\/cmodules\\/mobile\\/icons.fa271b46d6f688ed514b.js\":\"6f6f9472f86c5ef05fa9a8898f965be22ba645b87c24f430776bcd65a327c3ba\",\"https:\\/\\/st2-10.vk.com\\/js\\/cmodules\\/mobile\\/b-e26de325f9603fb08a22c8855b52d8e7.56af63311178c9260179.js\":\"ac7f367c064f44ce26ec4965af74e841c3a2339e20fe33cf006841da7d82b553\",\"https:\\/\\/st2-10.vk.com\\/js\\/cmodules\\/mobile\\/b-daa6459548e17297c3e150b5af3268f6.70429b50d0cb6f115248.js\":\"8a0de96e942bd54edbdb672b50d2939fc199f3227c84c88001145c0bc5c3f234\",\"https:\\/\\/st2-10.vk.com\\/js\\/cmodules\\/mobile\\/common.b7d14a9bf6f50733c5ee.js\":\"7006ebd302624e254fc8b113e6cdd0619ac714dd8155ea77ce5a08bbd26d9494\",\"https:\\/\\/st2-10.vk.com\\/js\\/cmodules\\/mobile\\/grip.1e7934d2a797e0789a3c.js\":\"b41f4ae376485c45d603f91310ba542fbfba86ffc4fb6fb06c2ab9de73e436f5\",\"https:\\/\\/st2-10.vk.com\\/js\\/cmodules\\/mobile\\/unauthorized.e749910360f3969b0a43.js\":\"2d6162980846938080cfe76dc4e73a11661b0346169a0738c248dd3c9d25891d\"},\"stNavMap\":{\"^\\\\\\/join\":[\"https:\\/\\/st2-10.vk.com\\/js\\/cmodules\\/mobile\\/runtime.222fa5f5faa3a140ee22.js\",\"https:\\/\\/st2-10.vk.com\\/js\\/cmodules\\/mobile\\/vendor.388f373daa5fd1fb3694.js\",\"https:\\/\\/st2-10.vk.com\\/js\\/cmodules\\/mobile\\/icons.fa271b46d6f688ed514b.js\",\"https:\\/\\/st2-10.vk.com\\/js\\/cmodules\\/mobile\\/b-e26de325f9603fb08a22c8855b52d8e7.56af63311178c9260179.js\",\"https:\\/\\/st2-10.vk.com\\/js\\/cmodules\\/mobile\\/b-daa6459548e17297c3e150b5af3268f6.70429b50d0cb6f115248.js\",\"https:\\/\\/st2-10.vk.com\\/js\\/cmodules\\/mobile\\/join.c228e20936c51f21d686.js\",\"https:\\/\\/st2-10.vk.com\\/css\\/mobile\\/join.33212a32f2afb13c77f8.css\"],\"promocode(\\\\\\/([0-9a-zA-Z-]+))?\":[\"https:\\/\\/st2-10.vk.com\\/js\\/cmodules\\/mobile\\/runtime.222fa5f5faa3a140ee22.js\",\"https:\\/\\/st2-10.vk.com\\/js\\/cmodules\\/mobile\\/vendor.388f373daa5fd1fb3694.js\",\"https:\\/\\/st2-10.vk.com\\/js\\/cmodules\\/mobile\\/icons.fa271b46d6f688ed514b.js\",\"https:\\/\\/st2-10.vk.com\\/js\\/cmodules\\/mobile\\/b-e26de325f9603fb08a22c8855b52d8e7.56af63311178c9260179.js\",\"https:\\/\\/st2-10.vk.com\\/js\\/cmodules\\/mobile\\/b-daa6459548e17297c3e150b5af3268f6.70429b50d0cb6f115248.js\",\"https:\\/\\/st2-10.vk.com\\/js\\/cmodules\\/mobile\\/promocode.243b4d79ed9ce18bb7d0.js\",\"https:\\/\\/st2-10.vk.com\\/css\\/mobile\\/promocode.32b978bb3a3fdfd00219.css\"],\"^\\\\\\/video\":[\"https:\\/\\/st2-10.vk.com\\/css\\/mobile\\/video.9906f62718a829d5cb95.css\",\"https:\\/\\/st2-10.vk.com\\/js\\/cmodules\\/mobile\\/runtime.222fa5f5faa3a140ee22.js\",\"https:\\/\\/st2-10.vk.com\\/js\\/cmodules\\/mobile\\/vendor.388f373daa5fd1fb3694.js\",\"https:\\/\\/st2-10.vk.com\\/js\\/cmodules\\/mobile\\/icons.fa271b46d6f688ed514b.js\",\"https:\\/\\/st2-10.vk.com\\/js\\/cmodules\\/mobile\\/b-e26de325f9603fb08a22c8855b52d8e7.56af63311178c9260179.js\",\"https:\\/\\/st2-10.vk.com\\/js\\/cmodules\\/mobile\\/b-daa6459548e17297c3e150b5af3268f6.70429b50d0cb6f115248.js\",\"https:\\/\\/st2-10.vk.com\\/js\\/cmodules\\/mobile\\/video.50a0fd725a2e3a72dac1.js\",\"https:\\/\\/st2-10.vk.com\\/css\\/mobile\\/mail.de996e2fe8799370ac90.css\"],\"^\\\\\\/clip\":[\"https:\\/\\/st2-10.vk.com\\/css\\/mobile\\/ShortVideoPage.f967cb514551f4366a79.css\",\"https:\\/\\/st2-10.vk.com\\/js\\/cmodules\\/mobile\\/runtime.222fa5f5faa3a140ee22.js\",\"https:\\/\\/st2-10.vk.com\\/js\\/cmodules\\/mobile\\/vendor.388f373daa5fd1fb3694.js\",\"https:\\/\\/st2-10.vk.com\\/js\\/cmodules\\/mobile\\/icons.fa271b46d6f688ed514b.js\",\"https:\\/\\/st2-10.vk.com\\/js\\/cmodules\\/mobile\\/b-e26de325f9603fb08a22c8855b52d8e7.56af63311178c9260179.js\",\"https:\\/\\/st2-10.vk.com\\/js\\/cmodules\\/mobile\\/b-daa6459548e17297c3e150b5af3268f6.70429b50d0cb6f115248.js\",\"https:\\/\\/st2-10.vk.com\\/js\\/cmodules\\/mobile\\/short_video.81e95c9f6528a4fe2ee2.js\",\"https:\\/\\/st2-10.vk.com\\/css\\/mobile\\/mail.de996e2fe8799370ac90.css\"],\"^\\\\\\/(photo|album|tag|attachments|market|uslugi)\":[\"https:\\/\\/st2-10.vk.com\\/css\\/mobile\\/photo.ccb8611fa80fa95eabce.css\",\"https:\\/\\/st2-10.vk.com\\/css\\/mobile\\/mail.de996e2fe8799370ac90.css\"],\"^\\\\\\/(wall|mail|write|im|chatjoin)\":[\"https:\\/\\/st2-10.vk.com\\/css\\/mobile\\/mail.de996e2fe8799370ac90.css\",\"https:\\/\\/st2-10.vk.com\\/css\\/mobile\\/wall.457a1a9d79cd032d55cf.css\"],\"settings\\\\?act=money_transfer_history\":[\"https:\\/\\/st2-10.vk.com\\/js\\/cmodules\\/mobile\\/runtime.222fa5f5faa3a140ee22.js\",\"https:\\/\\/st2-10.vk.com\\/js\\/cmodules\\/mobile\\/vendor.388f373daa5fd1fb3694.js\",\"https:\\/\\/st2-10.vk.com\\/js\\/cmodules\\/mobile\\/icons.fa271b46d6f688ed514b.js\",\"https:\\/\\/st2-10.vk.com\\/js\\/cmodules\\/mobile\\/b-e26de325f9603fb08a22c8855b52d8e7.56af63311178c9260179.js\",\"https:\\/\\/st2-10.vk.com\\/js\\/cmodules\\/mobile\\/b-daa6459548e17297c3e150b5af3268f6.70429b50d0cb6f115248.js\",\"https:\\/\\/st2-10.vk.com\\/js\\/cmodules\\/mobile\\/money_transfer_history.d107cca857fe85333b66.js\",\"https:\\/\\/st2-10.vk.com\\/css\\/mobile\\/money_transfer_history.c90e37ba1bd54cdaf38c.css\"],\"reports\\\\?act=\":[\"https:\\/\\/st2-10.vk.com\\/css\\/mobile\\/reports.e523124084bbb4cd2a5e.css\"],\"^\\\\\\/(blog|about|press|jobs|products|adv)\":[\"https:\\/\\/st2-10.vk.com\\/css\\/mobile\\/blog.69da9e94b1403bdefb55.css\",\"https:\\/\\/st2-10.vk.com\\/js\\/cmodules\\/mobile\\/runtime.222fa5f5faa3a140ee22.js\",\"https:\\/\\/st2-10.vk.com\\/js\\/cmodules\\/mobile\\/vendor.388f373daa5fd1fb3694.js\",\"https:\\/\\/st2-10.vk.com\\/js\\/cmodules\\/mobile\\/icons.fa271b46d6f688ed514b.js\",\"https:\\/\\/st2-10.vk.com\\/js\\/cmodules\\/mobile\\/b-e26de325f9603fb08a22c8855b52d8e7.56af63311178c9260179.js\",\"https:\\/\\/st2-10.vk.com\\/js\\/cmodules\\/mobile\\/b-daa6459548e17297c3e150b5af3268f6.70429b50d0cb6f115248.js\",\"https:\\/\\/st2-10.vk.com\\/js\\/cmodules\\/mobile\\/blog.227b74d699036f487f38.js\",\"https:\\/\\/st2-10.vk.com\\/css\\/mobile\\/mail.de996e2fe8799370ac90.css\"],\"^\\\\\\/(product|cart|cart_order|orders|market\\\\.php)(\\\\??[0-9a-zA-Z=_-]+)?\":[\"https:\\/\\/st2-10.vk.com\\/js\\/cmodules\\/mobile\\/runtime.222fa5f5faa3a140ee22.js\",\"https:\\/\\/st2-10.vk.com\\/js\\/cmodules\\/mobile\\/vendor.388f373daa5fd1fb3694.js\",\"https:\\/\\/st2-10.vk.com\\/js\\/cmodules\\/mobile\\/icons.fa271b46d6f688ed514b.js\",\"https:\\/\\/st2-10.vk.com\\/js\\/cmodules\\/mobile\\/b-e26de325f9603fb08a22c8855b52d8e7.56af63311178c9260179.js\",\"https:\\/\\/st2-10.vk.com\\/js\\/cmodules\\/mobile\\/b-daa6459548e17297c3e150b5af3268f6.70429b50d0cb6f115248.js\",\"https:\\/\\/st2-10.vk.com\\/js\\/cmodules\\/mobile\\/market.a362276a3732b2cae683.js\",\"https:\\/\\/st2-10.vk.com\\/css\\/mobile\\/market.0105db5edc6a2358c40d.css\"],\"^\\\\\\/(reviews)\":[\"https:\\/\\/st2-10.vk.com\\/js\\/cmodules\\/mobile\\/runtime.222fa5f5faa3a140ee22.js\",\"https:\\/\\/st2-10.vk.com\\/js\\/cmodules\\/mobile\\/vendor.388f373daa5fd1fb3694.js\",\"https:\\/\\/st2-10.vk.com\\/js\\/cmodules\\/mobile\\/icons.fa271b46d6f688ed514b.js\",\"https:\\/\\/st2-10.vk.com\\/js\\/cmodules\\/mobile\\/b-e26de325f9603fb08a22c8855b52d8e7.56af63311178c9260179.js\",\"https:\\/\\/st2-10.vk.com\\/js\\/cmodules\\/mobile\\/b-daa6459548e17297c3e150b5af3268f6.70429b50d0cb6f115248.js\",\"https:\\/\\/st2-10.vk.com\\/js\\/cmodules\\/mobile\\/market.a362276a3732b2cae683.js\",\"https:\\/\\/st2-10.vk.com\\/css\\/mobile\\/market.0105db5edc6a2358c40d.css\",\"https:\\/\\/st2-10.vk.com\\/css\\/mobile\\/photo.ccb8611fa80fa95eabce.css\"],\"^\\\\\\/groups_catalog\\\\\\/([0-9a-zA-Z_\\\\-]+)$\":[\"https:\\/\\/st2-10.vk.com\\/js\\/cmodules\\/mobile\\/runtime.222fa5f5faa3a140ee22.js\",\"https:\\/\\/st2-10.vk.com\\/js\\/cmodules\\/mobile\\/groups_catalog.b6fc110e718df1b9fd8f.js\"]},\"pe\":{\"vk_apps_svg_qr\":1,\"upload.send_upload_stat\":1,\"push_notifier\":1,\"notify_new_events_box\":1,\"mini_apps_web_add_to_favorites\":1,\"mini_apps_web_add_to_menu\":1,\"mini_apps_m_web_new_stub_page\":1,\"cookie_secure_default_true\":1,\"stickers_bot_link\":1,\"widgets_xdm_same_origin\":1,\"stickers_money_transfer_suggestions\":1,\"web2_story_box_enabled\":1,\"bridge_mobile_story_box_enabled\":1,\"navigation_timespent\":1,\"market_item_recommendations_view_log\":1,\"market_item_others_view_log\":1,\"web_stats_transport_story_view\":1,\"registration_item_stat\":1,\"mvk_lazy_static_reload\":1,\"mute_mvk_err_peaks\":1,\"notifications_view_new\":1,\"ads_market_autopromotion_bookmarks_stats\":1,\"mini_apps_web_call_api_form_data\":1,\"web_new_photo_editor\":1,\"web_new_photo_editor_crop\":1,\"web_photo_editor_hide_entrypoint\":1,\"web_stats_try_send\":1,\"narratives_new\":1,\"update_private_snippets_by_queue\":1,\"stickers_catalog_reload_after_buy\":1,\"web_stats_send_on_events_limit\":1,\"batchify_web_stats\":1,\"stickers_web_new_ui\":1,\"ads_new_reports_web_tgb\":1,\"ads_autopromotion_web_cashback\":1,\"ads_autopromotion_web_geo\":1,\"recognize_mock_turn_off\":1,\"photo_recognition_web\":1,\"aliexpress_app_links_with_partner_links\":1,\"ads_new_reports_web_histories\":1,\"ads_new_reports_mvk_histories\":1,\"audio_unauth_preview\":1,\"audio_unauth_preview_box\":1,\"ads_easy_promote_goods_new_create_api\":1,\"unauthorized_media_layer_box\":1,\"mail_history_unread_counter_observer\":1,\"pinned_conversations\":1,\"messenger_empty_pinned_support\":1,\"market_catalog_fixed_header\":1,\"force_act_in_get_params\":1,\"vk_mini_apps_new_web_snippet\":1,\"market_suggest_search_queries\":1,\"mail_longpoll_unread_counter\":1,\"faq_clean_up_extra_spaces\":1,\"nospam_use_new_conditions_editor\":1,\"mvk_quick_search_canceled_requests\":1,\"games_not_send_install_bridge_event\":1,\"mvk_new_avatar_crop\":1},\"ex\":[],\"audioAdsConfig\":{\"_\":\"_\"}};\n",
      "            window.isMVK = true;\n",
      "            window.isCustomScroll = false;\n",
      "            window.isNewMail = false;\n",
      "            window.isNewLongpoll = false;\n",
      "            window.audioSubscribe = false;\n",
      "            window.isArticleWebView = false;\n",
      "\n",
      "            var vkElem = document.querySelector('.vk');\n",
      "            var vkClass = vkElem.getAttribute('class');\n",
      "\n",
      "            function cssPropertySupported(pNames) {\n",
      "              var element = document.createElement('a');\n",
      "              var index = pNames.length;\n",
      "              try {\n",
      "                while (index--) {\n",
      "                  var name = pNames[index];\n",
      "\n",
      "                  element.style.display = name;\n",
      "                  if (element.style.display === name) {\n",
      "                    return true;\n",
      "                  }\n",
      "                }\n",
      "              } catch (pError) {}\n",
      "\n",
      "              return false;\n",
      "            }\n",
      "            var supports = {\n",
      "              js: true,\n",
      "              flex: cssPropertySupported('flex -webkit-flex -ms-flexbox -moz-box -webkit-box'.split(' ')),\n",
      "            };\n",
      "\n",
      "            supports.js && (vkClass = vkClass.replace('vk_js_no', 'vk_js_yes'));\n",
      "            supports.flex && (vkClass = vkClass.replace('vk_flex_no', 'vk_flex_yes'));\n",
      "            vkElem.setAttribute('class', vkClass);\n",
      "          })();\n",
      "        </script>\n",
      "\n",
      "        \n",
      "        <script type=\"text/javascript\">\n",
      "<!--\n",
      ";(function(){\"use strict\";function e(e){t(e),e.hash_redirect&&o(e),e.al_ver&&(window.al={ver:e.al_ver}),document.addEventListener(\"DOMContentLoaded\",(function(){e.help_hints&&window.Tooltip&&window.Tooltip.initHelpHints&&window.Tooltip.initHelpHints(e.help_hints)}))}function t(e){var t=e.iospwa_cookie,o=e.device_cookie,i=e.cookie_secure,n=e.cookie_samesite,a=e.cookie_path,r=e.cookie_domain,c=e.need_reload,s=new Date((new Date).getTime()+7776e6).toUTCString();!0===navigator.standalone&&-1===document.cookie.indexOf(t+\"=1\")&&(document.cookie=t+\"=1; expires=\"+s+\";\"+i+n+\" path=\"+a+\"; domain=\"+r);var l=document,u=window,d=\"undefined\",p=\"!\",h=\"-\",f=u.screen,m=f.width||0,v=f.height||0,y=u.devicePixelRatio||1,w=new RegExp(\"(^|;\\\\s+)\"+o+\"=([^;]+)\"),g=(l.cookie.match(w)||[])[2]||\"\",T=g.split(\"/\");if(g&&m==T[0]&&v==T[1]&&y==T[2]&&7===T[3].length);else{var k=[m,v,y,M()].join(\"/\");l.cookie=o+\"=; expires=\"+new Date(0).toUTCString()+\";\"+i+n+\" path=\"+a,l.cookie=o+\"=\"+k+\"; expires=\"+s+\";\"+i+n+\" path=\"+a+\"; domain=\"+r,\"\"!==l.cookie&&c&&location.reload()}function M(){var e=(function(){var e;try{e=new XMLHttpRequest}catch(t){try{e=new ActiveXObject(\"Msxml2.XMLHTTP\")}catch(t){try{e=new ActiveXObject(\"Microsoft.XMLHTTP\")}catch(e){}}}return e?\"!\":\"-\"})(),t=((o=l.createElement(\"div\")).innerHTML='<input type=\"file\" />',\"file\"!==(o=o.getElementsByTagName(\"input\")[0]).type||o.disabled?\"-\":\"!\"),o,i=\"ontouchstart\"in u?\"!\":\"-\",n=\"-\",a,r,c;try{(typeof navigator.geolocation!==d||typeof u.google!==d&&typeof google.gears!==d||typeof device!==d&&typeof device.getServiceObject!==d||typeof Mojo!==d&&\"Mojo.Service.Request\"!=typeof Mojo.Service.Request)&&(n=\"!\")}catch(e){}return[e,t,i,n,(function(e){try{var t=u.Audio?new Audio:l.createElement(\"audio\");if(t.canPlayType&&t.canPlayType(e)&&\"no\"!==t.canPlayType(e))return\"!\"}catch(e){}return\"-\"})(\"audio/mpeg\"),(function(e){try{for(var t=l.createElement(\"div\"),o=[\"\",\"webkit\",\"Moz\",\"ms\",\"O\"],i=0,n=o.length;i<n;i++){var a=o[i],r=a?a+e:e.toLowerCase();if(typeof t.style[r]!==d)return\"!\"}return\"-\"}catch(e){return\"-\"}})(\"Transform\"),(u.XMLHttpRequest||u.XDomainRequest)&&(u.FormData||u.FileReader&&(u.XMLHttpRequest&&XMLHttpRequest.sendAsBinary||u.ArrayBuffer&&u.Uint8Array&&(u.MozBlobBuilder||u.WebKitBlobBuilder||u.BlobBuilder)))?\"!\":\"-\"].join(\"\")}}function o(e){var t=e.cookie_secure,o=e.cookie_samesite,i=location,n=i.hash||\"\",a=n.substr(2);if(\"#/\"===n.substr(0,2)){var r=window.locDomain,c=new Date;c.setTime(c.getTime()+864e5);var s=\"; expires=\"+c.toGMTString();document.cookie=[\"remixtmp_hash_nav\",\"=\",escape(i.href),s,\"; path=/\",\"\"+t,\"\"+o,r?\"; domain=.\"+r:\"\"].join(\"\"),a.match(/^\\/*(away|login)(\\.php)?([^a-z0-9\\.]|$)/)&&(a=\"\"),i.replace(i.protocol+\"//\"+i.host+\"/\"+a)}}return e})()({\"hash_redirect\":false,\"device_cookie\":\"remixmdevice\",\"iospwa_cookie\":\"remixmiospwa\",\"cookie_path\":\"\\/\",\"cookie_domain\":\".vk.com\",\"cookie_samesite\":\"\",\"cookie_secure\":\" Secure;\",\"need_reload\":true,\"help_hints\":{\"mvk:video_filters\":{\"id\":\"mvk:video_filters\",\"active\":false,\"hash\":null},\"feed:textlive_hide\":{\"id\":\"feed:textlive_hide\",\"active\":true,\"hash\":\"90523688e841634e83\"},\"narratives:add_tooltip\":{\"id\":\"narratives:add_tooltip\",\"active\":false,\"hash\":null},\"community:textlives_counter\":{\"id\":\"community:textlives_counter\",\"active\":false,\"hash\":null},\"feed:post_reaction\":{\"id\":\"feed:post_reaction\",\"active\":false,\"hash\":null},\"mvk:stories_archive:privacy_hint\":{\"id\":\"mvk:stories_archive:privacy_hint\",\"active\":true,\"hash\":\"9bbccc54ce7612f72d\"},\"mvk:stories_archive:actions_hint\":{\"id\":\"mvk:stories_archive:actions_hint\",\"active\":true,\"hash\":\"271efc14b5d4ec7c6e\"}},\"al_ver\":\"\"});\n",
      "//-->\n",
      "</script>\n",
      "        <link rel=\"stylesheet\" href=\"https://st2-10.vk.com/css/mobile/variables.af4e87ff1a66fb3c66a5.css?\">\n",
      "<link rel=\"stylesheet\" href=\"https://st2-10.vk.com/css/mobile/oauth_base.6bff824a2bc2c4494704.css?\">\n",
      "<link rel=\"stylesheet\" href=\"https://st2-10.vk.com/css/mobile/common.31a7166f9b5b854315e6.css?\">\n",
      "<link rel=\"stylesheet\" href=\"https://st2-10.vk.com/css/mobile/unauthorized.1ba0fca371d487ff36c9.css?\">\n",
      "<script src=\"https://st2-10.vk.com/js/cmodules/mobile/runtime.222fa5f5faa3a140ee22.js?03813d1e6b191d01b27465767de90dfd938cb85c42ff5b708f18a89611d96b06\"></script>\n",
      "<script src=\"https://st2-10.vk.com/js/cmodules/mobile/vendor.388f373daa5fd1fb3694.js?f4865ea367c12de78678c3ec19070229dfeeb26bccdee7efc3f1081190564420\"></script>\n",
      "<script src=\"https://st2-10.vk.com/js/cmodules/mobile/polyfills.d278122d5b48591daff8.js?bdbcf0384e5fb68742aae57a025419fdc61b07377d07994dd27ff2d2408e2429\"></script>\n",
      "<script src=\"https://st2-10.vk.com/js/cmodules/mobile/icons.fa271b46d6f688ed514b.js?6f6f9472f86c5ef05fa9a8898f965be22ba645b87c24f430776bcd65a327c3ba\"></script>\n",
      "<script src=\"https://st2-10.vk.com/js/cmodules/mobile/b-e26de325f9603fb08a22c8855b52d8e7.56af63311178c9260179.js?ac7f367c064f44ce26ec4965af74e841c3a2339e20fe33cf006841da7d82b553\"></script>\n",
      "<script src=\"https://st2-10.vk.com/js/cmodules/mobile/b-daa6459548e17297c3e150b5af3268f6.70429b50d0cb6f115248.js?8a0de96e942bd54edbdb672b50d2939fc199f3227c84c88001145c0bc5c3f234\"></script>\n",
      "<script src=\"https://st2-10.vk.com/js/cmodules/mobile/common.b7d14a9bf6f50733c5ee.js?7006ebd302624e254fc8b113e6cdd0619ac714dd8155ea77ce5a08bbd26d9494\"></script>\n",
      "<script src=\"https://st2-10.vk.com/js/cmodules/mobile/grip.1e7934d2a797e0789a3c.js?b41f4ae376485c45d603f91310ba542fbfba86ffc4fb6fb06c2ab9de73e436f5\"></script>\n",
      "<script src=\"https://st2-10.vk.com/js/cmodules/mobile/unauthorized.e749910360f3969b0a43.js?2d6162980846938080cfe76dc4e73a11661b0346169a0738c248dd3c9d25891d\"></script>\n",
      "\n",
      "        \n",
      "        \n",
      "      </head>\n",
      "\n",
      "      <body  class=\"vk__page _hover vk_ios_no vk_stickers_hints_support_no opera_mini_no vk_safari_no vk__page_oauth vk_tabbar_static    vk_al_no \">\n",
      "        <script id=\"color-scheme-script\" type=\"text/javascript\">\n",
      "<!--\n",
      ";(function(){\"use strict\";function e(e){var o=e.colorSchemeMode,c=e.isForcedColorSchemeMode,r=e.isDarkSchemeGuideHidden,s=e.colorSchemesMap;if(window.colorScheme){var t=o;try{var i=sessionStorage.getItem(\"colorScheme\");i&&(t=i,window.colorScheme.isModeSavingAllowed=!1),c&&(t=o,window.colorScheme.isModeSavingAllowed=!1,sessionStorage.setItem(\"colorScheme\",o))}catch(e){}window.colorScheme.init({mode:t,schemesMap:s});var d=document.querySelector(\".vk\"),n=d.getAttribute(\"class\");window.isSchemesSupported()&&(n=n.replace(\"vk_schemes_no\",\"vk_schemes_yes\")),d.setAttribute(\"class\",n),window.isSchemesSupported()&&!r&&onDOMReady((function(){window.DarkSchemeModal.open()}))}var m=document.getElementById(\"color-scheme-script\");m.parentNode.removeChild(m)}return e})()({\"colorSchemeMode\":\"auto\",\"isForcedColorSchemeMode\":false,\"isDarkSchemeGuideHidden\":true,\"colorSchemesMap\":null});\n",
      "//-->\n",
      "</script>\n",
      "        \n",
      "            <div class=\"layout\">\n",
      "      \n",
      "          <div class=\"layout__header mhead\" id=\"vk_head\">\n",
      "      <div class=\"hb_wrap\">\n",
      "        <div class=\"hb_btn\">&nbsp;</div>\n",
      "      </div>\n",
      "    </div>\n",
      "      <div class=\"layout__body \" id=\"vk_wrap\">\n",
      "        <div class=\"layout__leftMenu\" id=\"l\">\n",
      "          \n",
      "        </div>\n",
      "        <div class=\"layout__basis\" id=\"m\" role=\"main\">\n",
      "              <div class=\"basis\">\n",
      "      <div class=\"basis__header mhead basis__header_noBottomMenu basis__header_noshadow basis__header_noshadowAnim basis__header_unauthorized_actions basis__header_nohide\" id=\"mhead\"><div class=\"hb_wrap mhb_logo\">\n",
      "  <div class=\" lmh_logo_wrap\">\n",
      "    <div class=\"hb_btn mhi_logo\">&nbsp;</div>\n",
      "    <div class=\"mhi_logo_text\"><div class=\"mhi_logo_text_light\"><div aria-hidden=\"true\" class=\"svgIcon svgIcon-vk_logo_text_light_26\"><svg width=\"123\" height=\"26\" fill=\"none\" xmlns=\"http://www.w3.org/2000/svg\"><path d=\"M18.36 12.73a3.05 3.05 0 011.51 1.08c.4.5.6 1.1.6 1.8 0 .63-.19 1.2-.55 1.7-.37.5-.89.9-1.56 1.2-.66.27-1.4.4-2.25.4h-5.95V7.02h5.7c.81 0 1.54.13 2.18.4.64.28 1.14.66 1.49 1.15.35.47.52 1.02.52 1.65 0 1.14-.56 1.99-1.7 2.52zm-5.57-3.55v2.59h3.07c.46 0 .83-.12 1.12-.34.3-.25.44-.56.44-.94 0-.39-.15-.7-.44-.94a1.69 1.69 0 00-1.12-.37h-3.07zm3.32 7.56c.52 0 .93-.13 1.24-.39.32-.27.48-.63.48-1.05 0-.45-.16-.8-.48-1.06-.3-.27-.72-.4-1.24-.4H12.8v2.9h3.32zm17.61 2.18h-3.46l-4.12-4.75h-.64v4.75h-2.63V7h2.63v4.63h.64L30.13 7h3.14l-5.02 5.73 5.48 6.19zm6.73.23a6.92 6.92 0 01-3.3-.78 5.92 5.92 0 01-2.27-2.2 6.4 6.4 0 01-.8-3.21c0-1.2.27-2.25.8-3.18a5.71 5.71 0 012.27-2.2c.98-.54 2.08-.8 3.3-.8 1.22 0 2.31.26 3.28.8a5.52 5.52 0 012.26 2.2c.55.93.83 1.99.83 3.18 0 1.2-.28 2.26-.83 3.2a5.72 5.72 0 01-2.26 2.2c-.97.53-2.06.79-3.28.79zm0-2.4a3.5 3.5 0 002.61-1.04c.67-.7 1.01-1.62 1.01-2.75s-.34-2.04-1-2.73a3.45 3.45 0 00-2.62-1.05c-1.07 0-1.94.35-2.61 1.05-.67.7-1.01 1.6-1.01 2.73s.34 2.05 1 2.75a3.5 3.5 0 002.62 1.03zm16.63-5.05V7h2.64v11.92h-2.64V14.1h-5.33v4.82H49.1V7h2.64v4.7h5.33zm11.23 7.22h-2.64V9.4h-4.12V7h10.88v2.4h-4.12v9.5zM78.67 6.77a4.6 4.6 0 013.6 1.45c.88.94 1.33 2.28 1.33 4v6.7h-1.95l-.55-1.88a4.3 4.3 0 01-3.83 2.1c-.79 0-1.5-.15-2.15-.48a3.58 3.58 0 01-1.47-1.35 3.72 3.72 0 01-.52-1.97c0-1.13.44-2.03 1.33-2.7.9-.69 2.2-1.03 3.91-1.03h2.57a3 3 0 00-.73-1.88 2.1 2.1 0 00-1.68-.71c-.56 0-1.05.14-1.46.41a2.62 2.62 0 00-.92 1l-2.43-.4c.3-1.01.89-1.8 1.79-2.39a5.78 5.78 0 013.16-.87zm-.78 10.15c.92 0 1.66-.3 2.22-.89.57-.6.85-1.38.85-2.36h-2.5c-1.78 0-2.67.52-2.67 1.56 0 .52.18.93.57 1.24.38.3.9.45 1.53.45zm19.43 2h-3.46l-4.13-4.75h-.64v4.75h-2.63V7h2.63v4.63h.64L93.72 7h3.14l-5.02 5.73 5.48 6.19zm7.1 0h-2.63V9.4h-4.13V7h10.88v2.4h-4.12v9.5zm17.2-6.1c0 .23-.02.51-.05.85h-9.58c.12.93.5 1.68 1.15 2.25.64.55 1.45.82 2.45.82.67 0 1.27-.13 1.8-.39.56-.26.98-.61 1.27-1.05l2.47.4a4.88 4.88 0 01-2.22 2.55c-1.04.6-2.2.9-3.48.9-1.2 0-2.26-.26-3.21-.78a5.85 5.85 0 01-2.2-2.2 6.56 6.56 0 01-.78-3.21c0-1.2.26-2.25.78-3.18a5.64 5.64 0 012.2-2.2 6.4 6.4 0 013.2-.8c1.2 0 2.26.26 3.2.8a5.49 5.49 0 012.2 2.17c.53.92.8 1.94.8 3.07zm-6.2-3.76c-.79 0-1.48.23-2.08.7a3.46 3.46 0 00-1.19 1.85h6.6a3.52 3.52 0 00-1.24-1.83 3.19 3.19 0 00-2.08-.71z\" fill=\"#000\"/></svg></div></div><div class=\"mhi_logo_text_dark\"><div aria-hidden=\"true\" class=\"svgIcon svgIcon-vk_logo_text_dark_26\"><svg width=\"123\" height=\"26\" fill=\"none\" xmlns=\"http://www.w3.org/2000/svg\"><path d=\"M18.36 12.73a3.05 3.05 0 011.52 1.07c.4.5.6 1.11.6 1.81 0 .63-.2 1.2-.56 1.7-.37.5-.89.9-1.56 1.2-.65.27-1.4.4-2.24.4h-5.96V7h5.7c.82 0 1.54.14 2.18.41.64.28 1.14.66 1.5 1.15.34.47.52 1.02.52 1.65 0 1.14-.57 1.98-1.7 2.52zM12.8 9.18v2.59h3.06c.46 0 .84-.12 1.13-.35.29-.24.43-.56.43-.94 0-.38-.14-.7-.43-.94a1.69 1.69 0 00-1.12-.36H12.8zm3.32 7.56c.52 0 .93-.13 1.23-.4.32-.27.48-.62.48-1.05 0-.44-.15-.8-.47-1.05-.31-.28-.72-.41-1.24-.41h-3.33v2.9h3.33zm17.61 2.17h-3.46l-4.12-4.74h-.65v4.74h-2.63V7h2.63v4.63h.65L30.13 7h3.14l-5.02 5.73 5.48 6.18zm6.73.23a6.92 6.92 0 01-3.3-.78 5.92 5.92 0 01-2.27-2.2 6.4 6.4 0 01-.8-3.2c0-1.2.26-2.26.8-3.19a5.71 5.71 0 012.27-2.2c.97-.53 2.07-.8 3.3-.8 1.22 0 2.3.27 3.27.8A5.52 5.52 0 0146 9.77c.55.93.82 2 .82 3.19s-.27 2.26-.82 3.2a5.72 5.72 0 01-2.27 2.2c-.96.52-2.05.78-3.27.78zm0-2.4a3.5 3.5 0 002.6-1.03c.68-.7 1.02-1.62 1.02-2.75s-.34-2.04-1.01-2.73a3.45 3.45 0 00-2.61-1.05c-1.07 0-1.94.35-2.62 1.05-.67.69-1 1.6-1 2.73s.33 2.04 1 2.75a3.5 3.5 0 002.62 1.03zm16.63-5.04V7h2.63V18.9H57.1v-4.8h-5.34v4.8h-2.63V7h2.63v4.7h5.34zM68.3 18.9h-2.63v-9.5h-4.13V7h10.89v2.4H68.3v9.52zM78.68 6.77a4.6 4.6 0 013.6 1.44c.88.95 1.32 2.29 1.32 4.01v6.7h-1.95l-.55-1.89a4.3 4.3 0 01-3.83 2.1c-.79.01-1.5-.15-2.15-.47a3.58 3.58 0 01-1.46-1.35 3.73 3.73 0 01-.53-1.97c0-1.13.44-2.03 1.33-2.7.9-.7 2.2-1.04 3.92-1.04h2.56a3 3 0 00-.73-1.88 2.1 2.1 0 00-1.67-.7c-.57 0-1.06.13-1.47.4a2.62 2.62 0 00-.91 1.02l-2.43-.42c.29-1 .88-1.8 1.78-2.38a5.78 5.78 0 013.17-.87zm-.78 10.15c.91 0 1.65-.3 2.22-.9.56-.59.85-1.38.85-2.35h-2.5c-1.79 0-2.68.52-2.68 1.56 0 .52.19.93.57 1.23.38.3.9.46 1.54.46zm19.42 2h-3.46l-4.12-4.75h-.64v4.74h-2.64V7h2.63v4.63h.65L93.72 7h3.14l-5.01 5.73 5.47 6.18zm7.1 0h-2.63V9.4h-4.12V7h10.88v2.4h-4.13v9.52zm17.2-6.1c0 .23-.02.51-.05.85H112c.13.93.5 1.68 1.15 2.24.64.55 1.46.83 2.45.83.67 0 1.28-.13 1.81-.4.55-.25.97-.6 1.26-1.05l2.48.42a4.89 4.89 0 01-2.23 2.54c-1.04.6-2.2.9-3.48.9-1.19 0-2.26-.27-3.2-.79a5.85 5.85 0 01-2.2-2.2 6.56 6.56 0 01-.79-3.2c0-1.2.26-2.26.78-3.19a5.64 5.64 0 012.2-2.2 6.4 6.4 0 013.21-.8c1.2 0 2.25.27 3.19.8a5.49 5.49 0 012.2 2.18c.53.92.8 1.94.8 3.07zm-6.19-3.76c-.8 0-1.49.23-2.08.69a3.45 3.45 0 00-1.2 1.85h6.6a3.53 3.53 0 00-1.23-1.83 3.19 3.19 0 00-2.09-.7z\" fill=\"#E1E3E6\"/></svg></div></div></div>\n",
      "  </div>\n",
      "  <h1 class=\"hb_btn mh_header\">&nbsp;</h1>\n",
      "</div>\n",
      "</div>\n",
      "      <div class=\"basis__menu\"><div class=\"VideoFilterBadgeFiller\"></div></div>\n",
      "      \n",
      "      <div class=\"basis__content mcont \" id=\"mcont\" data-canonical=\"\"><div class=\"pcont fit_box bl_cont\">\n",
      "  <div class=\"PageBlock\">\n",
      "  <div class=\"owner_panel oauth_mobile_header\">\n",
      "    \n",
      "    <div class=\"\">\n",
      "      \n",
      "      <div class=\"op_info\">Для продолжения вам необходимо войти <b>ВКонтакте</b>.</div>\n",
      "    </div>\n",
      "  </div>\n",
      "  <div class=\"form_item fi_fat\">\n",
      "    \n",
      "    <form method=\"post\" action=\"https://login.vk.com/?act=login&soft=1&utf8=1\">\n",
      "      <input type=\"hidden\" name=\"_origin\" value=\"https://oauth.vk.com\">\n",
      "      <input type=\"hidden\" name=\"ip_h\" value=\"da516b1f9f0e211b51\" />\n",
      "      <input type=\"hidden\" name=\"lg_h\" value=\"d3504c352412d4072c\" />\n",
      "      <input type=\"hidden\" name=\"to\" value=\"aHR0cHM6Ly9vYXV0aC52ay5jb20vYXV0aG9yaXplP2NsaWVudF9pZD03ODY2NTkxJnJlZGlyZWN0X3VyaT1odHRwcyUzQSUyRiUyRm9hdXRoLnZrLmNvbSUyRmJsYW5rLmh0bSZyZXNwb25zZV90eXBlPXRva2VuJnNjb3BlPTImdj01Ljg5JnN0YXRlPSZkaXNwbGF5PXBhZ2U-\">\n",
      "      <dl class=\"fi_row\">\n",
      "        <dt class=\"fi_label\">Телефон или email:</dt>\n",
      "        <dd>\n",
      "          <div class=\"iwrap\"><input type=\"text\" class=\"textfield\" name=\"email\" value=\"\" /></div>\n",
      "        </dd>\n",
      "      </dl>\n",
      "      <dl class=\"fi_row\">\n",
      "        <dt class=\"fi_label\">Пароль:</dt>\n",
      "        <dd>\n",
      "          <div class=\"iwrap\"><input type=\"password\" class=\"textfield\" name=\"pass\" /></div>\n",
      "        </dd>\n",
      "      </dl>\n",
      "      \n",
      "      <div class=\"fi_row\">\n",
      "        <div class=\"fi_subrow\">\n",
      "          <input class=\"button\" type=\"submit\" value=\"Войти\" /><div class=\"near_btn\"><a href=\"//oauth.vk.com/blank.html#error=access_denied&error_reason=user_denied&error_description=User denied your request\">Отмена</a></div>\n",
      "        </div>\n",
      "      </div>\n",
      "      <div class=\"fi_row_new\">\n",
      "  <div class=\"fi_header fi_header_light\">Ещё не зарегистрированы?</div>\n",
      "</div>\n",
      "<div class=\"fi_row\">\n",
      "  <a class=\"button wide_button gray_button\" href=\"https://m.vk.com/join?api_hash=e07a7530f933f31981\" rel=\"noopener\">Зарегистрироваться</a>\n",
      "</div>\n",
      "    </form>\n",
      "  </div>\n",
      "  </div>\n",
      "</div></div>\n",
      "          <div class=\"basis__footer mfoot\" id=\"mfoot\"><div class=\"pfoot\">\n",
      "  <ul class=\"footer_menu\">\n",
      "    \n",
      "    <li class=\"fm_row\"><a class=\"fm_item\" href=\"https://m.vk.com/settings?act=change_regional&from=oauth&to=YXV0aG9yaXplP2NsaWVudF9pZD03ODY2NTkxJnJlZGlyZWN0X3VyaT1odHRwcyUzQSUyRiUyRm9hdXRoLnZrLmNvbSUyRmJsYW5rLmh0bSZyZXNwb25zZV90eXBlPXRva2VuJnNjb3BlPTImdj01Ljg5JnN0YXRlPSZkaXNwbGF5PXBhZ2U-&hash=e76f2389a514e658c6&lang_id=1\">Українська</a></li><li class=\"fm_row\"><a class=\"fm_item\" href=\"https://m.vk.com/settings?act=change_regional&from=oauth&to=YXV0aG9yaXplP2NsaWVudF9pZD03ODY2NTkxJnJlZGlyZWN0X3VyaT1odHRwcyUzQSUyRiUyRm9hdXRoLnZrLmNvbSUyRmJsYW5rLmh0bSZyZXNwb25zZV90eXBlPXRva2VuJnNjb3BlPTImdj01Ljg5JnN0YXRlPSZkaXNwbGF5PXBhZ2U-&hash=e76f2389a514e658c6&lang_id=3\">English</a></li>\n",
      "    <li class=\"fm_row\"><a class=\"fm_item\" href=\"https://m.vk.com/settings?act=select_lang&from=oauth&to=YXV0aG9yaXplP2NsaWVudF9pZD03ODY2NTkxJnJlZGlyZWN0X3VyaT1odHRwcyUzQSUyRiUyRm9hdXRoLnZrLmNvbSUyRmJsYW5rLmh0bSZyZXNwb25zZV90eXBlPXRva2VuJnNjb3BlPTImdj01Ljg5JnN0YXRlPSZkaXNwbGF5PXBhZ2U-\">all languages »</a></li>\n",
      "  </ul>\n",
      "  \n",
      "</div></div>\n",
      "      \n",
      "      \n",
      "    </div>\n",
      "        </div>\n",
      "      </div>\n",
      "    </div>\n",
      "        \n",
      "        \n",
      "        <script type=\"text/javascript\">\n",
      "<!--\n",
      "parent&&parent!=window&&(document.getElementsByTagName('body')[0].innerHTML='');try{sessionStorage.set('is_mvk_tab', 1)}catch(e){};;(function (d, w) {\n",
      "var ts = d.createElement(\"script\"); ts.type = \"text/javascript\"; ts.async = true;\n",
      "ts.src = (d.location.protocol == \"https:\" ? \"https:\" : \"http:\") + \"//top-fwz1.mail.ru/js/code.js\";\n",
      "var f = function () {var s = d.getElementsByTagName(\"script\")[0]; s.parentNode.insertBefore(ts, s);};\n",
      "if (w.opera == \"[object Opera]\") { d.addEventListener(\"DOMContentLoaded\", f, false); } else { f(); }\n",
      "})(document, window);\n",
      "//-->\n",
      "</script>\n",
      "        <div id=\"vk_utils\"></div>\n",
      "        <div id=\"z\"></div>\n",
      "        <div id=\"vk_bottom\"></div>\n",
      "        <div id=\"theme_color_shim\"></div>\n",
      "        \n",
      "        \n",
      "      </body>\n",
      "    </html>\n"
     ]
    }
   ],
   "source": [
    "print(req_1.text)"
   ]
  },
  {
   "cell_type": "code",
   "execution_count": 8,
   "metadata": {},
   "outputs": [
    {
     "data": {
      "text/plain": [
       "'{\"response\":[31864713,46932139,68041662,95695902,111451686,133942742,135177383,138064798,139584926,168650643,168730521,175888554,187635543,217421315,308208041,405699211]}'"
      ]
     },
     "execution_count": 8,
     "metadata": {},
     "output_type": "execute_result"
    }
   ],
   "source": [
    "url_a = 'https://api.vk.com/method/friends.getOnline'\n",
    "token = '66be76d43989560f8f766f1224cd7c583f1ba19384b182bdad0f03376e21c456dd074283310021d1c20b6'\n",
    "payload_a = { 'v': '5.89', 'access_token': token }\n",
    "\n",
    "r = requests.get(url_a, params=payload_a)\n",
    "\n",
    "r.text"
   ]
  },
  {
   "cell_type": "code",
   "execution_count": null,
   "metadata": {},
   "outputs": [],
   "source": []
  },
  {
   "cell_type": "code",
   "execution_count": 5,
   "metadata": {},
   "outputs": [],
   "source": [
    "url_info = 'https://vk.com/dev/users.get'\n",
    "req = requests.get(url_info)"
   ]
  },
  {
   "cell_type": "code",
   "execution_count": 6,
   "metadata": {},
   "outputs": [
    {
     "name": "stdout",
     "output_type": "stream",
     "text": [
      "{'Server': 'kittenx', 'Date': 'Sun, 30 May 2021 09:00:34 GMT', 'Content-Type': 'text/html; charset=windows-1251', 'Content-Length': '33134', 'Connection': 'keep-alive', 'X-Powered-By': 'KPHP/7.4.107319', 'Set-Cookie': 'remixir=DELETED; expires=Thu, 01 Jan 1970 00:00:01 GMT; path=/; domain=.vk.com; secure; HttpOnly, remixlang=0; expires=Sun, 05 Jun 2022 20:24:13 GMT; path=/; domain=.vk.com, remixstid=372299908_YqFKYz4vVFdrvLg0yZJhf9kKF9LAsbweZHF5l0aWCvc; expires=Sun, 05 Jun 2022 07:06:12 GMT; path=/; domain=.vk.com; secure, remixlhk=dd01b0456af5003d94; expires=Thu, 02 Jun 2022 08:52:25 GMT; path=/; domain=.vk.com; secure', 'Cache-control': 'no-store', 'Content-Security-Policy': \"default-src * data: blob: about: vkcalls:;script-src 'self' https://vk.com https://*.vk.com https://static.vk.me https://*.mail.ru https://r.mradx.net https://s.ytimg.com https://platform.twitter.com https://cdn.syndication.twimg.com https://www.instagram.com https://connect.facebook.net https://telegram.org https://*.yandex.ru https://*.google-analytics.com https://*.youtube.com https://maps.googleapis.com https://translate.googleapis.com https://*.google.com https://google.com https://*.vkpartner.ru https://*.moatads.com https://*.adlooxtracking.com https://*.gstatic.com https://*.google.ru https://securepubads.g.doubleclick.net https://cdn.ampproject.org https://www.googletagmanager.com https://googletagmanager.com https://*.vk-cdn.net https://*.hit.gemius.pl https://yastatic.net https://analytics.tiktok.com 'unsafe-inline' 'unsafe-eval' blob:;style-src https://vk.com https://*.vk.com https://static.vk.me https://ton.twimg.com https://tagmanager.google.com https://platform.twitter.com https://*.googleapis.com 'self' 'unsafe-inline'\", 'X-XSS-Protection': '1; report=/xss_reports', 'X-Frame-Options': 'deny', 'Content-Encoding': 'gzip', 'X-Frontend': 'front225205', 'Strict-Transport-Security': 'max-age=15768000', 'Access-Control-Expose-Headers': 'X-Frontend'}\n"
     ]
    }
   ],
   "source": [
    "print(req.headers)"
   ]
  },
  {
   "cell_type": "code",
   "execution_count": 7,
   "metadata": {},
   "outputs": [
    {
     "data": {
      "text/plain": [
       "<Response [403]>"
      ]
     },
     "execution_count": 7,
     "metadata": {},
     "output_type": "execute_result"
    }
   ],
   "source": [
    "requests.get('https://api.vk.com')"
   ]
  },
  {
   "cell_type": "code",
   "execution_count": 29,
   "metadata": {},
   "outputs": [
    {
     "data": {
      "text/plain": [
       "{'response': {'count': 952,\n",
       "  'items': [{'first_name': 'Артем',\n",
       "    'id': 182975081,\n",
       "    'last_name': 'Еременко',\n",
       "    'can_access_closed': True,\n",
       "    'is_closed': False,\n",
       "    'track_code': 'f38dc5e2_CZXT0OjIOAlgySyQlei8LNTG94F4nPyO7l7yLSXgHWbTxZPE5hz6CGCEwqlx0Xx210d3QXifZQ'},\n",
       "   {'first_name': 'Артём',\n",
       "    'id': 363893653,\n",
       "    'last_name': 'Ерёменко',\n",
       "    'can_access_closed': True,\n",
       "    'is_closed': False,\n",
       "    'track_code': '78805c9cFgk33a-C9RpoQHHpnwREilDITugnyZdmXrO-AGc1VdhxYHLdpb30Tj9KSVd-maGLOMZI6yfJmQA'},\n",
       "   {'first_name': 'Артём',\n",
       "    'id': 234787632,\n",
       "    'last_name': 'Ерёменко',\n",
       "    'can_access_closed': True,\n",
       "    'is_closed': False,\n",
       "    'track_code': '68e28bf4puZbXNyrQeAIE1n47ufeLOYoCTFBDfLoH9lGxdxXbszBj01egZQStQ4VY0IPfDotjiYPMkEN_I4'},\n",
       "   {'first_name': 'Артём',\n",
       "    'id': 509416431,\n",
       "    'last_name': 'Еременко',\n",
       "    'can_access_closed': True,\n",
       "    'is_closed': False,\n",
       "    'track_code': '278cbb6bAucbHLz85ddrU29YPbQwF1V2RRklIAFBIS5tc1OZl1tljggdss3k12QDXePeL9cWPXhDGiUgDyc'}]}}"
      ]
     },
     "execution_count": 29,
     "metadata": {},
     "output_type": "execute_result"
    }
   ],
   "source": [
    "url_s = 'https://api.vk.com/method/users.search'\n",
    "payload_s = {'q': 'Артём Ерёменко', 'v': '5.89', 'access_token': token, 'count': 5}\n",
    "\n",
    "r_s = requests.post(url_s, params=payload_s)\n",
    "\n",
    "json.loads(r_s.text)"
   ]
  },
  {
   "cell_type": "code",
   "execution_count": null,
   "metadata": {},
   "outputs": [],
   "source": []
  }
 ],
 "metadata": {
  "kernelspec": {
   "display_name": "Python 3",
   "language": "python",
   "name": "python3"
  },
  "language_info": {
   "codemirror_mode": {
    "name": "ipython",
    "version": 3
   },
   "file_extension": ".py",
   "mimetype": "text/x-python",
   "name": "python",
   "nbconvert_exporter": "python",
   "pygments_lexer": "ipython3",
   "version": "3.7.6"
  }
 },
 "nbformat": 4,
 "nbformat_minor": 4
}
