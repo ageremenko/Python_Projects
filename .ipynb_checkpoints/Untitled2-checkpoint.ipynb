{
 "cells": [
  {
   "cell_type": "code",
   "execution_count": 1,
   "metadata": {},
   "outputs": [],
   "source": [
    "def encrypt(text, gamma):\n",
    "    textLen = len(text)\n",
    "    gammaLen = len(gamma)\n",
    "\n",
    "    #Формируем ключевое слово(растягиваем гамму на длину текста)\n",
    "    keyText = []\n",
    "    for i in range(textLen // gammaLen):\n",
    "        for symb in gamma:\n",
    "            keyText.append(symb)\n",
    "    for i in range(textLen % gammaLen):\n",
    "        keyText.append(gamma[i])\n",
    "\n",
    "    #Шифрование\n",
    "    code = []\n",
    "    for i in range(textLen):\n",
    "        code.append(alphabeth[(alphabeth.index(text[i]) + alphabeth.index(keyText[i])) % 26])\n",
    "\n",
    "    return code"
   ]
  },
  {
   "cell_type": "code",
   "execution_count": 2,
   "metadata": {},
   "outputs": [],
   "source": [
    "def decrypt(code, gamma):\n",
    "    codeLen = len(code)\n",
    "    gammaLen = len(gamma)\n",
    "\n",
    "    #Формируем ключевое слово(растягиваем гамму на длину текста)\n",
    "    keyText = []\n",
    "    for i in range(codeLen // gammaLen):\n",
    "        for symb in gamma:\n",
    "            keyText.append(symb)\n",
    "    for i in range(codeLen % gammaLen):\n",
    "        keyText.append(gamma[i])\n",
    "\n",
    "    #Расшифровка\n",
    "    text = []\n",
    "    for i in range(codeLen):\n",
    "        text.append(alphabeth[(alphabeth.index(code[i]) - alphabeth.index(keyText[i]) + 33) % 33]) \n",
    "\n",
    "    return text"
   ]
  },
  {
   "cell_type": "code",
   "execution_count": 29,
   "metadata": {},
   "outputs": [
    {
     "data": {
      "text/plain": [
       "['а',\n",
       " 'б',\n",
       " 'в',\n",
       " 'г',\n",
       " 'д',\n",
       " 'е',\n",
       " 'ж',\n",
       " 'з',\n",
       " 'и',\n",
       " 'й',\n",
       " 'к',\n",
       " 'л',\n",
       " 'м',\n",
       " 'н',\n",
       " 'о',\n",
       " 'п',\n",
       " 'р',\n",
       " 'с',\n",
       " 'т',\n",
       " 'у',\n",
       " 'ф',\n",
       " 'х',\n",
       " 'ц',\n",
       " 'ч',\n",
       " 'ш',\n",
       " 'щ',\n",
       " 'ъ',\n",
       " 'ы',\n",
       " 'ь',\n",
       " 'э',\n",
       " 'ю',\n",
       " 'я',\n",
       " 'А',\n",
       " 'Б',\n",
       " 'В',\n",
       " 'Г',\n",
       " 'Д',\n",
       " 'Е',\n",
       " 'Ж',\n",
       " 'З',\n",
       " 'И',\n",
       " 'Й',\n",
       " 'К',\n",
       " 'Л',\n",
       " 'М',\n",
       " 'Н',\n",
       " 'О',\n",
       " 'П',\n",
       " 'Р',\n",
       " 'С',\n",
       " 'Т',\n",
       " 'У',\n",
       " 'Ф',\n",
       " 'Х',\n",
       " 'Ц',\n",
       " 'Ч',\n",
       " 'Ш',\n",
       " 'Щ',\n",
       " 'Ъ',\n",
       " 'Ы',\n",
       " 'Ь',\n",
       " 'Э',\n",
       " 'Ю',\n",
       " 'Я',\n",
       " \"'\",\n",
       " '!',\n",
       " '+',\n",
       " ',',\n",
       " '-',\n",
       " '.',\n",
       " '/',\n",
       " ':',\n",
       " ';',\n",
       " '<',\n",
       " '=',\n",
       " '>',\n",
       " '?',\n",
       " '[',\n",
       " '\\\\',\n",
       " ']',\n",
       " '^',\n",
       " '_',\n",
       " '`',\n",
       " '{',\n",
       " '|',\n",
       " '}',\n",
       " '~',\n",
       " '0',\n",
       " '1',\n",
       " '2',\n",
       " '3',\n",
       " '4',\n",
       " '5',\n",
       " '6',\n",
       " '7',\n",
       " '8',\n",
       " '9',\n",
       " '\\t',\n",
       " '\\n',\n",
       " '\\r',\n",
       " '\\x0b',\n",
       " '\\x0c',\n",
       " ' ']"
      ]
     },
     "execution_count": 29,
     "metadata": {},
     "output_type": "execute_result"
    }
   ],
   "source": [
    "abc = (\"а б в г д е ж з и й к л м н о п р с т у ф х ц ч ш щ ъ ы ь э ю я\").split()\n",
    "ABC = ('А Б В Г Д Е Ж З И Й К Л М Н О П Р С Т У Ф Х Ц Ч Ш Щ Ъ Ы Ь Э Ю Я').split()\n",
    "punctuation = \" ' ! + , - . / : ; < = > ? [ \\\\ ] ^ _ ` { | } ~  \".split()\n",
    "digits = '0 1 2 3 4 5 6 7 8 9'.split()\n",
    "space = ['\\t','\\n','\\r','\\x0b','\\x0c', ' ']\n",
    "alphabeth = abc+ABC+punctuation+digits\n",
    "for i in space:\n",
    "    alphabeth.append(i)\n",
    "alphabeth"
   ]
  },
  {
   "cell_type": "code",
   "execution_count": 36,
   "metadata": {},
   "outputs": [
    {
     "name": "stdout",
     "output_type": "stream",
     "text": [
      "22\n",
      "22\n"
     ]
    },
    {
     "data": {
      "text/plain": [
       "['ш',\n",
       " 'а',\n",
       " 'е',\n",
       " 'д',\n",
       " 'о',\n",
       " 'г',\n",
       " 'ч',\n",
       " 'р',\n",
       " 'з',\n",
       " 'в',\n",
       " 'т',\n",
       " 'м',\n",
       " 'о',\n",
       " 'а',\n",
       " 'м',\n",
       " 'е',\n",
       " 'о',\n",
       " 'ф',\n",
       " 'й',\n",
       " 'д',\n",
       " 'ж',\n",
       " 'щ']"
      ]
     },
     "execution_count": 36,
     "metadata": {},
     "output_type": "execute_result"
    }
   ],
   "source": [
    "text = 'С Новым Годом, друзья!'\n",
    "gamma = 'ывмрмвлт оо влоы ыввым'\n",
    "\n",
    "print(len(text))\n",
    "print(len(gamma))\n",
    "\n",
    "encrypt(text, gamma)"
   ]
  },
  {
   "cell_type": "code",
   "execution_count": 37,
   "metadata": {},
   "outputs": [
    {
     "data": {
      "text/plain": [
       "['ч',\n",
       " 'ш',\n",
       " 'у',\n",
       " 'о',\n",
       " 'в',\n",
       " 'б',\n",
       " 'м',\n",
       " 'ш',\n",
       " 'й',\n",
       " 'о',\n",
       " 'д',\n",
       " 'о',\n",
       " 'м',\n",
       " 'п',\n",
       " 'ш',\n",
       " 'д',\n",
       " 'р',\n",
       " 'у',\n",
       " 'з',\n",
       " 'в',\n",
       " 'е',\n",
       " 'н']"
      ]
     },
     "execution_count": 37,
     "metadata": {},
     "output_type": "execute_result"
    }
   ],
   "source": [
    "decrypt(encrypt(text, gamma), gamma)"
   ]
  },
  {
   "cell_type": "code",
   "execution_count": null,
   "metadata": {},
   "outputs": [],
   "source": []
  },
  {
   "cell_type": "code",
   "execution_count": null,
   "metadata": {},
   "outputs": [],
   "source": []
  }
 ],
 "metadata": {
  "kernelspec": {
   "display_name": "Python 3",
   "language": "python",
   "name": "python3"
  },
  "language_info": {
   "codemirror_mode": {
    "name": "ipython",
    "version": 3
   },
   "file_extension": ".py",
   "mimetype": "text/x-python",
   "name": "python",
   "nbconvert_exporter": "python",
   "pygments_lexer": "ipython3",
   "version": "3.7.6"
  }
 },
 "nbformat": 4,
 "nbformat_minor": 4
}
