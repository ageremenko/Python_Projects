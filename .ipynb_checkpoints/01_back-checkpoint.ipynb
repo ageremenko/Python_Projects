{
 "cells": [
  {
   "cell_type": "code",
   "execution_count": 1,
   "metadata": {},
   "outputs": [],
   "source": [
    "import pandas as pd\n",
    "import json\n",
    "import requests\n",
    "import logging"
   ]
  },
  {
   "cell_type": "code",
   "execution_count": 86,
   "metadata": {},
   "outputs": [
    {
     "name": "stderr",
     "output_type": "stream",
     "text": [
      "D:\\anaconda3\\lib\\site-packages\\ipykernel_launcher.py:21: SettingWithCopyWarning: \n",
      "A value is trying to be set on a copy of a slice from a DataFrame\n",
      "\n",
      "See the caveats in the documentation: https://pandas.pydata.org/pandas-docs/stable/user_guide/indexing.html#returning-a-view-versus-a-copy\n",
      "D:\\anaconda3\\lib\\site-packages\\ipykernel_launcher.py:22: SettingWithCopyWarning: \n",
      "A value is trying to be set on a copy of a slice from a DataFrame\n",
      "\n",
      "See the caveats in the documentation: https://pandas.pydata.org/pandas-docs/stable/user_guide/indexing.html#returning-a-view-versus-a-copy\n"
     ]
    }
   ],
   "source": [
    "logging.basicConfig(filename=\"sample.log\", level=logging.INFO)\n",
    "log = logging.getLogger(\"ex\")\n",
    "\n",
    "df = pd.DataFrame()\n",
    "\n",
    "\n",
    " \n",
    "\n",
    "url_find = 'http://api.openweathermap.org/data/2.5/find'\n",
    "api_key = '2b145f87de02b133e807f9a93ddfb776'\n",
    "\n",
    "df['cities'] = ['London, GB', 'Paris, FR', 'Berlin, DE',\\\n",
    "                        'Ottawa, CA', 'Beijing, CN', 'Tokyo, JP',\\\n",
    "                        'Washington D.C., US']\n",
    "df['city_id'] = 0\n",
    "try:\n",
    "    i = 0\n",
    "    for city in df['cities']:\n",
    "        res = requests.get(url_find,\\\n",
    "                           params={'q': city,\\\n",
    "                                   'type': 'like',\\\n",
    "                                   'units': 'metric',\\\n",
    "                                   'APPID': api_key})\n",
    "        data = res.json()\n",
    "        df['cities'][i] = [\"{} ({})\"\\\n",
    "                                   .format(d['name'],d['sys']['country'])\\\n",
    "                                   for d in data['list']][0]\n",
    "        df['city_id'][i] = data['list'][0]['id']\n",
    "        i+=1\n",
    "        res.close()\n",
    "      \n",
    "    i = 0\n",
    "    \n",
    "except Exception as exc:\n",
    "    log.exception(\"Exception:\", exc)\n",
    "    pass\n"
   ]
  },
  {
   "cell_type": "code",
   "execution_count": 87,
   "metadata": {},
   "outputs": [
    {
     "name": "stderr",
     "output_type": "stream",
     "text": [
      "D:\\anaconda3\\lib\\site-packages\\ipykernel_launcher.py:22: SettingWithCopyWarning: \n",
      "A value is trying to be set on a copy of a slice from a DataFrame\n",
      "\n",
      "See the caveats in the documentation: https://pandas.pydata.org/pandas-docs/stable/user_guide/indexing.html#returning-a-view-versus-a-copy\n",
      "D:\\anaconda3\\lib\\site-packages\\ipykernel_launcher.py:23: SettingWithCopyWarning: \n",
      "A value is trying to be set on a copy of a slice from a DataFrame\n",
      "\n",
      "See the caveats in the documentation: https://pandas.pydata.org/pandas-docs/stable/user_guide/indexing.html#returning-a-view-versus-a-copy\n",
      "D:\\anaconda3\\lib\\site-packages\\ipykernel_launcher.py:24: SettingWithCopyWarning: \n",
      "A value is trying to be set on a copy of a slice from a DataFrame\n",
      "\n",
      "See the caveats in the documentation: https://pandas.pydata.org/pandas-docs/stable/user_guide/indexing.html#returning-a-view-versus-a-copy\n",
      "D:\\anaconda3\\lib\\site-packages\\ipykernel_launcher.py:25: SettingWithCopyWarning: \n",
      "A value is trying to be set on a copy of a slice from a DataFrame\n",
      "\n",
      "See the caveats in the documentation: https://pandas.pydata.org/pandas-docs/stable/user_guide/indexing.html#returning-a-view-versus-a-copy\n",
      "D:\\anaconda3\\lib\\site-packages\\ipykernel_launcher.py:26: SettingWithCopyWarning: \n",
      "A value is trying to be set on a copy of a slice from a DataFrame\n",
      "\n",
      "See the caveats in the documentation: https://pandas.pydata.org/pandas-docs/stable/user_guide/indexing.html#returning-a-view-versus-a-copy\n",
      "D:\\anaconda3\\lib\\site-packages\\ipykernel_launcher.py:27: SettingWithCopyWarning: \n",
      "A value is trying to be set on a copy of a slice from a DataFrame\n",
      "\n",
      "See the caveats in the documentation: https://pandas.pydata.org/pandas-docs/stable/user_guide/indexing.html#returning-a-view-versus-a-copy\n"
     ]
    }
   ],
   "source": [
    "url_weather = 'http://api.openweathermap.org/data/2.5/weather'\n",
    "df['temp'] = 0\n",
    "df['temp_min'] = 0\n",
    "df['temp_max'] = 0\n",
    "df['pressure'] = 0\n",
    "df['humidity'] = 0\n",
    "df['wind'] = 0\n",
    "\n",
    "try:\n",
    "    i = 0\n",
    "    \n",
    "    for city_id in df['city_id']:\n",
    "        \n",
    "        res_2 = requests.get(url_weather,\\\n",
    "                           params={'id': city_id,\\\n",
    "                                   'units': 'metric',\\\n",
    "                                   'lang': 'ru',\\\n",
    "                                   'APPID': api_key})\n",
    "        \n",
    "        data = res_2.json()\n",
    "\n",
    "        df['temp'][i] = data['main']['temp']\n",
    "        df['temp_min'][i] = data['main']['temp_min']\n",
    "        df['temp_max'][i] = data['main']['temp_max']\n",
    "        df['pressure'][i] = data['main']['pressure']\n",
    "        df['humidity'][i] = data['main']['humidity']\n",
    "        df['wind'][i] = data['wind']['speed']\n",
    "        \n",
    "        i+=1\n",
    "        res_2.close()\n",
    "        \n",
    "except Exception as exc:\n",
    "    log.exception(\"Exception ():\", exc)\n",
    "    pass\n"
   ]
  },
  {
   "cell_type": "code",
   "execution_count": 88,
   "metadata": {},
   "outputs": [],
   "source": [
    "df.to_excel('result.xlsx')"
   ]
  },
  {
   "cell_type": "code",
   "execution_count": null,
   "metadata": {},
   "outputs": [],
   "source": []
  }
 ],
 "metadata": {
  "kernelspec": {
   "display_name": "Python 3",
   "language": "python",
   "name": "python3"
  },
  "language_info": {
   "codemirror_mode": {
    "name": "ipython",
    "version": 3
   },
   "file_extension": ".py",
   "mimetype": "text/x-python",
   "name": "python",
   "nbconvert_exporter": "python",
   "pygments_lexer": "ipython3",
   "version": "3.7.6"
  }
 },
 "nbformat": 4,
 "nbformat_minor": 4
}
